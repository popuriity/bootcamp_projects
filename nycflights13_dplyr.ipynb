{
  "nbformat": 4,
  "nbformat_minor": 0,
  "metadata": {
    "colab": {
      "provenance": [],
      "authorship_tag": "ABX9TyOExGHorTRq5Mj18+FkWzZP",
      "include_colab_link": true
    },
    "kernelspec": {
      "name": "ir",
      "display_name": "R"
    },
    "language_info": {
      "name": "R"
    }
  },
  "cells": [
    {
      "cell_type": "markdown",
      "metadata": {
        "id": "view-in-github",
        "colab_type": "text"
      },
      "source": [
        "<a href=\"https://colab.research.google.com/github/popuriity/bootcamp_projects/blob/main/nycflights13_dplyr.ipynb\" target=\"_parent\"><img src=\"https://colab.research.google.com/assets/colab-badge.svg\" alt=\"Open In Colab\"/></a>"
      ]
    },
    {
      "cell_type": "markdown",
      "source": [
        "# HOMEWORK - NYCflights13\n",
        "Five Business Question"
      ],
      "metadata": {
        "id": "VfonPnHAXLG6"
      }
    },
    {
      "cell_type": "markdown",
      "source": [
        "## Load library"
      ],
      "metadata": {
        "id": "_9cjy1tbQmzQ"
      }
    },
    {
      "cell_type": "code",
      "source": [
        "# install.packages(\"nycflights13\")"
      ],
      "metadata": {
        "colab": {
          "base_uri": "https://localhost:8080/"
        },
        "id": "Xtpq-osgXtwY",
        "outputId": "10c1c48a-a15c-427f-9ceb-54e687ab5f3c"
      },
      "execution_count": null,
      "outputs": [
        {
          "output_type": "stream",
          "name": "stderr",
          "text": [
            "Installing package into ‘/usr/local/lib/R/site-library’\n",
            "(as ‘lib’ is unspecified)\n",
            "\n"
          ]
        }
      ]
    },
    {
      "cell_type": "code",
      "execution_count": null,
      "metadata": {
        "colab": {
          "base_uri": "https://localhost:8080/"
        },
        "id": "yC_7dtccW4uV",
        "outputId": "6448992f-5bf6-4e64-cf5f-7a0b2506a19f"
      },
      "outputs": [
        {
          "output_type": "stream",
          "name": "stderr",
          "text": [
            "Warning message in system(\"timedatectl\", intern = TRUE):\n",
            "“running command 'timedatectl' had status 1”\n",
            "── \u001b[1mAttaching packages\u001b[22m ─────────────────────────────────────── tidyverse 1.3.1 ──\n",
            "\n",
            "\u001b[32m✔\u001b[39m \u001b[34mggplot2\u001b[39m 3.4.0      \u001b[32m✔\u001b[39m \u001b[34mpurrr  \u001b[39m 0.3.5 \n",
            "\u001b[32m✔\u001b[39m \u001b[34mtibble \u001b[39m 3.1.8      \u001b[32m✔\u001b[39m \u001b[34mdplyr  \u001b[39m 1.0.10\n",
            "\u001b[32m✔\u001b[39m \u001b[34mtidyr  \u001b[39m 1.2.1      \u001b[32m✔\u001b[39m \u001b[34mstringr\u001b[39m 1.4.1 \n",
            "\u001b[32m✔\u001b[39m \u001b[34mreadr  \u001b[39m 2.1.3      \u001b[32m✔\u001b[39m \u001b[34mforcats\u001b[39m 0.5.2 \n",
            "\n",
            "── \u001b[1mConflicts\u001b[22m ────────────────────────────────────────── tidyverse_conflicts() ──\n",
            "\u001b[31m✖\u001b[39m \u001b[34mdplyr\u001b[39m::\u001b[32mfilter()\u001b[39m masks \u001b[34mstats\u001b[39m::filter()\n",
            "\u001b[31m✖\u001b[39m \u001b[34mdplyr\u001b[39m::\u001b[32mlag()\u001b[39m    masks \u001b[34mstats\u001b[39m::lag()\n",
            "\n"
          ]
        }
      ],
      "source": [
        "# Load library\n",
        "library(nycflights13)\n",
        "library(tidyverse)"
      ]
    },
    {
      "cell_type": "markdown",
      "source": [
        "\n",
        "\n",
        "---\n",
        "\n",
        "\n",
        "\n",
        "---\n",
        "\n"
      ],
      "metadata": {
        "id": "J-AVVWkMYTJU"
      }
    },
    {
      "cell_type": "markdown",
      "source": [
        "## 1. Which 5 airlines have the most average departure delay (in minutes)."
      ],
      "metadata": {
        "id": "4QKucTUHXSyi"
      }
    },
    {
      "cell_type": "code",
      "source": [
        "flights %>% \n",
        "  filter(dep_delay > 0) %>%  # filter only positive delay\n",
        "  group_by(carrier) %>% \n",
        "  summarise(mean_delay = mean(dep_delay)) %>% \n",
        "  arrange(desc(mean_delay)) %>% \n",
        "  left_join(airlines, by = \"carrier\") %>% \n",
        "  select(airline = name,\n",
        "         code = carrier,\n",
        "         mean_delay_mins = mean_delay ) %>% \n",
        "  head(5)"
      ],
      "metadata": {
        "colab": {
          "base_uri": "https://localhost:8080/",
          "height": 255
        },
        "id": "u2HInofMX_0i",
        "outputId": "93519bb7-633a-424b-8781-fbf3e93404ac"
      },
      "execution_count": null,
      "outputs": [
        {
          "output_type": "display_data",
          "data": {
            "text/html": [
              "<table class=\"dataframe\">\n",
              "<caption>A tibble: 5 × 3</caption>\n",
              "<thead>\n",
              "\t<tr><th scope=col>airline</th><th scope=col>code</th><th scope=col>mean_delay_mins</th></tr>\n",
              "\t<tr><th scope=col>&lt;chr&gt;</th><th scope=col>&lt;chr&gt;</th><th scope=col>&lt;dbl&gt;</th></tr>\n",
              "</thead>\n",
              "<tbody>\n",
              "\t<tr><td>SkyWest Airlines Inc.   </td><td>OO</td><td>58.00000</td></tr>\n",
              "\t<tr><td>Mesa Airlines Inc.      </td><td>YV</td><td>52.95279</td></tr>\n",
              "\t<tr><td>ExpressJet Airlines Inc.</td><td>EV</td><td>50.32979</td></tr>\n",
              "\t<tr><td>Endeavor Air Inc.       </td><td>9E</td><td>48.92001</td></tr>\n",
              "\t<tr><td>Frontier Airlines Inc.  </td><td>F9</td><td>45.13783</td></tr>\n",
              "</tbody>\n",
              "</table>\n"
            ],
            "text/markdown": "\nA tibble: 5 × 3\n\n| airline &lt;chr&gt; | code &lt;chr&gt; | mean_delay_mins &lt;dbl&gt; |\n|---|---|---|\n| SkyWest Airlines Inc.    | OO | 58.00000 |\n| Mesa Airlines Inc.       | YV | 52.95279 |\n| ExpressJet Airlines Inc. | EV | 50.32979 |\n| Endeavor Air Inc.        | 9E | 48.92001 |\n| Frontier Airlines Inc.   | F9 | 45.13783 |\n\n",
            "text/latex": "A tibble: 5 × 3\n\\begin{tabular}{lll}\n airline & code & mean\\_delay\\_mins\\\\\n <chr> & <chr> & <dbl>\\\\\n\\hline\n\t SkyWest Airlines Inc.    & OO & 58.00000\\\\\n\t Mesa Airlines Inc.       & YV & 52.95279\\\\\n\t ExpressJet Airlines Inc. & EV & 50.32979\\\\\n\t Endeavor Air Inc.        & 9E & 48.92001\\\\\n\t Frontier Airlines Inc.   & F9 & 45.13783\\\\\n\\end{tabular}\n",
            "text/plain": [
              "  airline                  code mean_delay_mins\n",
              "1 SkyWest Airlines Inc.    OO   58.00000       \n",
              "2 Mesa Airlines Inc.       YV   52.95279       \n",
              "3 ExpressJet Airlines Inc. EV   50.32979       \n",
              "4 Endeavor Air Inc.        9E   48.92001       \n",
              "5 Frontier Airlines Inc.   F9   45.13783       "
            ]
          },
          "metadata": {}
        }
      ]
    },
    {
      "cell_type": "markdown",
      "source": [
        "SkyWest, Mesa, ExpressJet, Endeavor, Frontier Airlines are top5 of deley departure in 2013, respectively.\n",
        "\n",
        "\n",
        "\n",
        "---\n",
        "\n",
        "\n",
        "\n",
        "---\n",
        "\n"
      ],
      "metadata": {
        "id": "uP-B865oYCsJ"
      }
    },
    {
      "cell_type": "markdown",
      "source": [
        "## 2. The longest route from each airports in NYC (Newark Liberty Intl, John F Kennedy Intl, La Guardia)."
      ],
      "metadata": {
        "id": "_x5FMjBYYLGj"
      }
    },
    {
      "cell_type": "code",
      "source": [
        "flights %>%\n",
        "  group_by(origin, dest) %>%\n",
        "  summarise(distance = max(distance)) %>% \n",
        "  top_n(1,distance) %>% \n",
        "  inner_join(airports, by = c(\"origin\"=\"faa\")) %>% \n",
        "  select(1:3, name_origin = name) %>% \n",
        "  inner_join(airports, by = c(\"dest\"=\"faa\")) %>% \n",
        "  select(1:4, name_dest = name)"
      ],
      "metadata": {
        "id": "lvXQaoXbYFCw",
        "colab": {
          "base_uri": "https://localhost:8080/",
          "height": 227
        },
        "outputId": "8891a791-f3c5-426c-83b1-831c7cad4226"
      },
      "execution_count": null,
      "outputs": [
        {
          "output_type": "stream",
          "name": "stderr",
          "text": [
            "\u001b[1m\u001b[22m`summarise()` has grouped output by 'origin'. You can override using the\n",
            "`.groups` argument.\n"
          ]
        },
        {
          "output_type": "display_data",
          "data": {
            "text/html": [
              "<table class=\"dataframe\">\n",
              "<caption>A grouped_df: 3 × 5</caption>\n",
              "<thead>\n",
              "\t<tr><th scope=col>origin</th><th scope=col>dest</th><th scope=col>distance</th><th scope=col>name_origin</th><th scope=col>name_dest</th></tr>\n",
              "\t<tr><th scope=col>&lt;chr&gt;</th><th scope=col>&lt;chr&gt;</th><th scope=col>&lt;dbl&gt;</th><th scope=col>&lt;chr&gt;</th><th scope=col>&lt;chr&gt;</th></tr>\n",
              "</thead>\n",
              "<tbody>\n",
              "\t<tr><td>EWR</td><td>HNL</td><td>4963</td><td>Newark Liberty Intl</td><td>Honolulu Intl</td></tr>\n",
              "\t<tr><td>JFK</td><td>HNL</td><td>4983</td><td>John F Kennedy Intl</td><td>Honolulu Intl</td></tr>\n",
              "\t<tr><td>LGA</td><td>DEN</td><td>1620</td><td>La Guardia         </td><td>Denver Intl  </td></tr>\n",
              "</tbody>\n",
              "</table>\n"
            ],
            "text/markdown": "\nA grouped_df: 3 × 5\n\n| origin &lt;chr&gt; | dest &lt;chr&gt; | distance &lt;dbl&gt; | name_origin &lt;chr&gt; | name_dest &lt;chr&gt; |\n|---|---|---|---|---|\n| EWR | HNL | 4963 | Newark Liberty Intl | Honolulu Intl |\n| JFK | HNL | 4983 | John F Kennedy Intl | Honolulu Intl |\n| LGA | DEN | 1620 | La Guardia          | Denver Intl   |\n\n",
            "text/latex": "A grouped\\_df: 3 × 5\n\\begin{tabular}{lllll}\n origin & dest & distance & name\\_origin & name\\_dest\\\\\n <chr> & <chr> & <dbl> & <chr> & <chr>\\\\\n\\hline\n\t EWR & HNL & 4963 & Newark Liberty Intl & Honolulu Intl\\\\\n\t JFK & HNL & 4983 & John F Kennedy Intl & Honolulu Intl\\\\\n\t LGA & DEN & 1620 & La Guardia          & Denver Intl  \\\\\n\\end{tabular}\n",
            "text/plain": [
              "  origin dest distance name_origin         name_dest    \n",
              "1 EWR    HNL  4963     Newark Liberty Intl Honolulu Intl\n",
              "2 JFK    HNL  4983     John F Kennedy Intl Honolulu Intl\n",
              "3 LGA    DEN  1620     La Guardia          Denver Intl  "
            ]
          },
          "metadata": {}
        }
      ]
    },
    {
      "cell_type": "markdown",
      "source": [
        "*   Newark to Honolulu 4963 miles\n",
        "*   JFK to Honolulu 4983 miles\n",
        "*   La Guardia to Denver 1620 miles\n",
        "\n",
        "\n",
        "---\n",
        "\n"
      ],
      "metadata": {
        "id": "3t2PLMOpPJNM"
      }
    },
    {
      "cell_type": "markdown",
      "source": [
        "## 3. Top10 of aircraft manufacturer that operated flight in 2013"
      ],
      "metadata": {
        "id": "2epJKecYYb6M"
      }
    },
    {
      "cell_type": "code",
      "source": [
        "flights %>% \n",
        "  left_join(select(planes, tailnum, manufacturer), by = \"tailnum\") %>% \n",
        "  group_by(manufacturer) %>% \n",
        "  summarise(n=n()) %>% \n",
        "  mutate(manufacturer = if_else(is.na(manufacturer), \"Others\", manufacturer) ,\n",
        "         percentage = n*100/sum(n)) %>% \n",
        "  arrange(desc(n)) %>% \n",
        "  head(10)"
      ],
      "metadata": {
        "id": "zF3iGDsQYdzY",
        "colab": {
          "base_uri": "https://localhost:8080/",
          "height": 412
        },
        "outputId": "77ef09af-00b3-46ec-fbe6-c9eb2b6f2477"
      },
      "execution_count": null,
      "outputs": [
        {
          "output_type": "display_data",
          "data": {
            "text/html": [
              "<table class=\"dataframe\">\n",
              "<caption>A tibble: 10 × 3</caption>\n",
              "<thead>\n",
              "\t<tr><th scope=col>manufacturer</th><th scope=col>n</th><th scope=col>percentage</th></tr>\n",
              "\t<tr><th scope=col>&lt;chr&gt;</th><th scope=col>&lt;int&gt;</th><th scope=col>&lt;dbl&gt;</th></tr>\n",
              "</thead>\n",
              "<tbody>\n",
              "\t<tr><td>BOEING                       </td><td>82912</td><td>24.6193315</td></tr>\n",
              "\t<tr><td>EMBRAER                      </td><td>66068</td><td>19.6177875</td></tr>\n",
              "\t<tr><td>Others                       </td><td>52606</td><td>15.6204718</td></tr>\n",
              "\t<tr><td>AIRBUS                       </td><td>47302</td><td>14.0455377</td></tr>\n",
              "\t<tr><td>AIRBUS INDUSTRIE             </td><td>40891</td><td>12.1418985</td></tr>\n",
              "\t<tr><td>BOMBARDIER INC               </td><td>28272</td><td> 8.3948975</td></tr>\n",
              "\t<tr><td>MCDONNELL DOUGLAS AIRCRAFT CO</td><td> 8932</td><td> 2.6522080</td></tr>\n",
              "\t<tr><td>MCDONNELL DOUGLAS            </td><td> 3998</td><td> 1.1871392</td></tr>\n",
              "\t<tr><td>CANADAIR                     </td><td> 1594</td><td> 0.4733116</td></tr>\n",
              "\t<tr><td>MCDONNELL DOUGLAS CORPORATION</td><td> 1259</td><td> 0.3738390</td></tr>\n",
              "</tbody>\n",
              "</table>\n"
            ],
            "text/markdown": "\nA tibble: 10 × 3\n\n| manufacturer &lt;chr&gt; | n &lt;int&gt; | percentage &lt;dbl&gt; |\n|---|---|---|\n| BOEING                        | 82912 | 24.6193315 |\n| EMBRAER                       | 66068 | 19.6177875 |\n| Others                        | 52606 | 15.6204718 |\n| AIRBUS                        | 47302 | 14.0455377 |\n| AIRBUS INDUSTRIE              | 40891 | 12.1418985 |\n| BOMBARDIER INC                | 28272 |  8.3948975 |\n| MCDONNELL DOUGLAS AIRCRAFT CO |  8932 |  2.6522080 |\n| MCDONNELL DOUGLAS             |  3998 |  1.1871392 |\n| CANADAIR                      |  1594 |  0.4733116 |\n| MCDONNELL DOUGLAS CORPORATION |  1259 |  0.3738390 |\n\n",
            "text/latex": "A tibble: 10 × 3\n\\begin{tabular}{lll}\n manufacturer & n & percentage\\\\\n <chr> & <int> & <dbl>\\\\\n\\hline\n\t BOEING                        & 82912 & 24.6193315\\\\\n\t EMBRAER                       & 66068 & 19.6177875\\\\\n\t Others                        & 52606 & 15.6204718\\\\\n\t AIRBUS                        & 47302 & 14.0455377\\\\\n\t AIRBUS INDUSTRIE              & 40891 & 12.1418985\\\\\n\t BOMBARDIER INC                & 28272 &  8.3948975\\\\\n\t MCDONNELL DOUGLAS AIRCRAFT CO &  8932 &  2.6522080\\\\\n\t MCDONNELL DOUGLAS             &  3998 &  1.1871392\\\\\n\t CANADAIR                      &  1594 &  0.4733116\\\\\n\t MCDONNELL DOUGLAS CORPORATION &  1259 &  0.3738390\\\\\n\\end{tabular}\n",
            "text/plain": [
              "   manufacturer                  n     percentage\n",
              "1  BOEING                        82912 24.6193315\n",
              "2  EMBRAER                       66068 19.6177875\n",
              "3  Others                        52606 15.6204718\n",
              "4  AIRBUS                        47302 14.0455377\n",
              "5  AIRBUS INDUSTRIE              40891 12.1418985\n",
              "6  BOMBARDIER INC                28272  8.3948975\n",
              "7  MCDONNELL DOUGLAS AIRCRAFT CO  8932  2.6522080\n",
              "8  MCDONNELL DOUGLAS              3998  1.1871392\n",
              "9  CANADAIR                       1594  0.4733116\n",
              "10 MCDONNELL DOUGLAS CORPORATION  1259  0.3738390"
            ]
          },
          "metadata": {}
        }
      ]
    },
    {
      "cell_type": "markdown",
      "source": [
        "\n",
        "\n",
        "---\n",
        "\n",
        "\n",
        "\n",
        "---\n",
        "\n"
      ],
      "metadata": {
        "id": "ltho6gQqPzfF"
      }
    },
    {
      "cell_type": "markdown",
      "source": [
        "## 4. The most popular route from each airport on Christmas-New year period. (24 Dec - 31 Dec)"
      ],
      "metadata": {
        "id": "icZYwTlcYgQ_"
      }
    },
    {
      "cell_type": "code",
      "source": [
        "flights %>% \n",
        "  filter(month == 12) %>% \n",
        "  filter(between(day,24,31) ) %>% \n",
        "  group_by(origin, dest) %>% \n",
        "  summarise(n=n()) %>% \n",
        "  top_n(1, n)  %>% \n",
        "  inner_join(airports, by = c(\"origin\"=\"faa\")) %>% \n",
        "  select(1:3, name_origin = name) %>% \n",
        "  inner_join(airports, by = c(\"dest\"=\"faa\")) %>% \n",
        "  select(1:4, name_dest = name)"
      ],
      "metadata": {
        "id": "Z_VLeNU7Yh4X",
        "colab": {
          "base_uri": "https://localhost:8080/",
          "height": 227
        },
        "outputId": "eac7f19b-c415-41f2-dc97-6574cbd8649c"
      },
      "execution_count": null,
      "outputs": [
        {
          "output_type": "stream",
          "name": "stderr",
          "text": [
            "\u001b[1m\u001b[22m`summarise()` has grouped output by 'origin'. You can override using the\n",
            "`.groups` argument.\n"
          ]
        },
        {
          "output_type": "display_data",
          "data": {
            "text/html": [
              "<table class=\"dataframe\">\n",
              "<caption>A grouped_df: 3 × 5</caption>\n",
              "<thead>\n",
              "\t<tr><th scope=col>origin</th><th scope=col>dest</th><th scope=col>n</th><th scope=col>name_origin</th><th scope=col>name_dest</th></tr>\n",
              "\t<tr><th scope=col>&lt;chr&gt;</th><th scope=col>&lt;chr&gt;</th><th scope=col>&lt;int&gt;</th><th scope=col>&lt;chr&gt;</th><th scope=col>&lt;chr&gt;</th></tr>\n",
              "</thead>\n",
              "<tbody>\n",
              "\t<tr><td>EWR</td><td>MCO</td><td>127</td><td>Newark Liberty Intl</td><td>Orlando Intl                   </td></tr>\n",
              "\t<tr><td>JFK</td><td>LAX</td><td>231</td><td>John F Kennedy Intl</td><td>Los Angeles Intl               </td></tr>\n",
              "\t<tr><td>LGA</td><td>ATL</td><td>206</td><td>La Guardia         </td><td>Hartsfield Jackson Atlanta Intl</td></tr>\n",
              "</tbody>\n",
              "</table>\n"
            ],
            "text/markdown": "\nA grouped_df: 3 × 5\n\n| origin &lt;chr&gt; | dest &lt;chr&gt; | n &lt;int&gt; | name_origin &lt;chr&gt; | name_dest &lt;chr&gt; |\n|---|---|---|---|---|\n| EWR | MCO | 127 | Newark Liberty Intl | Orlando Intl                    |\n| JFK | LAX | 231 | John F Kennedy Intl | Los Angeles Intl                |\n| LGA | ATL | 206 | La Guardia          | Hartsfield Jackson Atlanta Intl |\n\n",
            "text/latex": "A grouped\\_df: 3 × 5\n\\begin{tabular}{lllll}\n origin & dest & n & name\\_origin & name\\_dest\\\\\n <chr> & <chr> & <int> & <chr> & <chr>\\\\\n\\hline\n\t EWR & MCO & 127 & Newark Liberty Intl & Orlando Intl                   \\\\\n\t JFK & LAX & 231 & John F Kennedy Intl & Los Angeles Intl               \\\\\n\t LGA & ATL & 206 & La Guardia          & Hartsfield Jackson Atlanta Intl\\\\\n\\end{tabular}\n",
            "text/plain": [
              "  origin dest n   name_origin         name_dest                      \n",
              "1 EWR    MCO  127 Newark Liberty Intl Orlando Intl                   \n",
              "2 JFK    LAX  231 John F Kennedy Intl Los Angeles Intl               \n",
              "3 LGA    ATL  206 La Guardia          Hartsfield Jackson Atlanta Intl"
            ]
          },
          "metadata": {}
        }
      ]
    },
    {
      "cell_type": "markdown",
      "source": [
        "The popular route in Chirstmas to New Year period of Newark is Orlando, JFK is LA and La Guardia is Atlanta.\n",
        "\n",
        "\n",
        "\n",
        "---\n",
        "\n",
        "\n",
        "\n",
        "---\n",
        "\n"
      ],
      "metadata": {
        "id": "sQqvEq8sP254"
      }
    },
    {
      "cell_type": "markdown",
      "source": [
        "## 5. Proportion between delay and early arrival flight in 2013."
      ],
      "metadata": {
        "id": "JuljRqO-QhTj"
      }
    },
    {
      "cell_type": "code",
      "source": [
        "flights %>% \n",
        "  mutate( arrival_type = case_when(arr_delay > 0 ~ \"delay\",\n",
        "                                    arr_delay < 0 ~ \"early\",\n",
        "                                    arr_delay == 0 ~ \"on time\")) %>%\n",
        "  count(arrival_type) %>% \n",
        "  mutate(percent = n*100/sum(n)) %>% \n",
        "  arrange(desc(percent))"
      ],
      "metadata": {
        "colab": {
          "base_uri": "https://localhost:8080/",
          "height": 223
        },
        "id": "Ij7vauJFPA0b",
        "outputId": "6191f3fe-5958-4188-fced-529236673ef8"
      },
      "execution_count": null,
      "outputs": [
        {
          "output_type": "display_data",
          "data": {
            "text/html": [
              "<table class=\"dataframe\">\n",
              "<caption>A tibble: 4 × 3</caption>\n",
              "<thead>\n",
              "\t<tr><th scope=col>arrival_type</th><th scope=col>n</th><th scope=col>percent</th></tr>\n",
              "\t<tr><th scope=col>&lt;chr&gt;</th><th scope=col>&lt;int&gt;</th><th scope=col>&lt;dbl&gt;</th></tr>\n",
              "</thead>\n",
              "<tbody>\n",
              "\t<tr><td>early  </td><td>188933</td><td>56.100494</td></tr>\n",
              "\t<tr><td>delay  </td><td>133004</td><td>39.493313</td></tr>\n",
              "\t<tr><td>NA     </td><td>  9430</td><td> 2.800081</td></tr>\n",
              "\t<tr><td>on time</td><td>  5409</td><td> 1.606112</td></tr>\n",
              "</tbody>\n",
              "</table>\n"
            ],
            "text/markdown": "\nA tibble: 4 × 3\n\n| arrival_type &lt;chr&gt; | n &lt;int&gt; | percent &lt;dbl&gt; |\n|---|---|---|\n| early   | 188933 | 56.100494 |\n| delay   | 133004 | 39.493313 |\n| NA      |   9430 |  2.800081 |\n| on time |   5409 |  1.606112 |\n\n",
            "text/latex": "A tibble: 4 × 3\n\\begin{tabular}{lll}\n arrival\\_type & n & percent\\\\\n <chr> & <int> & <dbl>\\\\\n\\hline\n\t early   & 188933 & 56.100494\\\\\n\t delay   & 133004 & 39.493313\\\\\n\t NA      &   9430 &  2.800081\\\\\n\t on time &   5409 &  1.606112\\\\\n\\end{tabular}\n",
            "text/plain": [
              "  arrival_type n      percent  \n",
              "1 early        188933 56.100494\n",
              "2 delay        133004 39.493313\n",
              "3 NA             9430  2.800081\n",
              "4 on time        5409  1.606112"
            ]
          },
          "metadata": {}
        }
      ]
    },
    {
      "cell_type": "markdown",
      "source": [
        "56.10% of flights from NYC in 2013 arrived at destination early, while 39.49% are lated. On-time arrival flights is 1.61% and NA is 2.80%"
      ],
      "metadata": {
        "id": "q54tcSYeQ0Ih"
      }
    }
  ]
}