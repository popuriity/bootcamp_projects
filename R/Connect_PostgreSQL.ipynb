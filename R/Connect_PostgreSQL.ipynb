{
  "nbformat": 4,
  "nbformat_minor": 0,
  "metadata": {
    "colab": {
      "provenance": [],
      "authorship_tag": "ABX9TyP6hRujrrPhmkmPlXr7krAL",
      "include_colab_link": true
    },
    "kernelspec": {
      "name": "ir",
      "display_name": "R"
    },
    "language_info": {
      "name": "R"
    }
  },
  "cells": [
    {
      "cell_type": "markdown",
      "metadata": {
        "id": "view-in-github",
        "colab_type": "text"
      },
      "source": [
        "<a href=\"https://colab.research.google.com/github/popuriity/bootcamp_projects/blob/main/Connect_PostgreSQL.ipynb\" target=\"_parent\"><img src=\"https://colab.research.google.com/assets/colab-badge.svg\" alt=\"Open In Colab\"/></a>"
      ]
    },
    {
      "cell_type": "markdown",
      "source": [
        "#Connect PostgreSQL"
      ],
      "metadata": {
        "id": "FODJhKgvLPTl"
      }
    },
    {
      "cell_type": "code",
      "execution_count": null,
      "metadata": {
        "id": "0vIYQhDlLIs2"
      },
      "outputs": [],
      "source": [
        "# import tool\n",
        "library(RPostgreSQL)\n",
        "library(dplyr)"
      ]
    },
    {
      "cell_type": "code",
      "source": [
        "# create connection to database\n",
        "con <- dbConnect(\n",
        "  drv = PostgreSQL(),\n",
        "  host = \"arjuna.db.elephantsql.com\",\n",
        "  dbname = \"xxxxxxxx\",\n",
        "  port = xxxxx,\n",
        "  user = \"xxxxxxx\",\n",
        "  password = \"xxxxxxxxxx\"\n",
        ")"
      ],
      "metadata": {
        "colab": {
          "base_uri": "https://localhost:8080/",
          "height": 34
        },
        "id": "ghzFf6JULsHP",
        "outputId": "220547a3-3ccd-4af4-9da5-89939b694a1a"
      },
      "execution_count": 4,
      "outputs": [
        {
          "output_type": "display_data",
          "data": {
            "text/html": [
              "<style>\n",
              ".list-inline {list-style: none; margin:0; padding: 0}\n",
              ".list-inline>li {display: inline-block}\n",
              ".list-inline>li:not(:last-child)::after {content: \"\\00b7\"; padding: 0 .5ex}\n",
              "</style>\n",
              "<ol class=list-inline><li>'students'</li><li>'shipping_data'</li></ol>\n"
            ],
            "text/markdown": "1. 'students'\n2. 'shipping_data'\n\n\n",
            "text/latex": "\\begin{enumerate*}\n\\item 'students'\n\\item 'shipping\\_data'\n\\end{enumerate*}\n",
            "text/plain": [
              "[1] \"students\"      \"shipping_data\""
            ]
          },
          "metadata": {}
        }
      ]
    },
    {
      "cell_type": "code",
      "source": [
        "# create movies and series I have watch dataframe\n",
        "my_movies <- data.frame(\n",
        "  title = c(\"Squid Game\", \"Emily in Paris SS2\", \"Business Proposal\", \"Pasta\", \"My Roomate is a Gumiho\",\n",
        "  \"Thai Cave Rescue\", \"One the woman\", \"Knives Out\", \"The Big Bang Theories\", \"Enola Homes 2\",\n",
        "  \"Glass Onion: A Knives Out Mystery\", \"The crowned clown\", \"The King and the Clown\", \"Racket Boys\", \"Friends\",\n",
        "  \"Emily in Paris SS3\", \"Diary of a Prosecutor\", \"Murder Mystery\", \"Heartstopper\", \"Murder Mystery 2\", \"Queenmaker\"),\n",
        "  type = c(\"Series\", \"Series\", \"Series\", \"Series\", \"Series\",\n",
        "  \"Series\", \"Series\", \"Movie\", \"Sit-Com\", \"Series\",\n",
        "  \"Movie\", \"Series\", \"Movie\", \"Series\", \"Sit-Com\",\n",
        "  \"Series\", \"Series\", \"Movie\", \"Series\", \"Movie\", \"Series\"),\n",
        "  finished_year = c(rep(2022, 13), rep(2023,8)),\n",
        "  language = c(\"Korean\", \"English\", \"Korean\", \"Korean\", \"Korean\", \"Thai\", \"Korean\", \"English\",\n",
        "  \"English\", \"English\", \"English\", \"Korean\", \"Korean\", \"Korean\", \"English\", \"English\",\n",
        "  \"Korean\", \"English\", \"English\", \"English\", \"Korean\")\n",
        ")\n",
        "\n",
        "my_movies"
      ],
      "metadata": {
        "colab": {
          "base_uri": "https://localhost:8080/",
          "height": 756
        },
        "id": "cGCzE89VQxPX",
        "outputId": "d76bb616-8bf0-48f6-bffe-e33832c6dde6"
      },
      "execution_count": 9,
      "outputs": [
        {
          "output_type": "display_data",
          "data": {
            "text/html": [
              "<table class=\"dataframe\">\n",
              "<caption>A data.frame: 21 × 4</caption>\n",
              "<thead>\n",
              "\t<tr><th scope=col>title</th><th scope=col>type</th><th scope=col>finished_year</th><th scope=col>language</th></tr>\n",
              "\t<tr><th scope=col>&lt;chr&gt;</th><th scope=col>&lt;chr&gt;</th><th scope=col>&lt;dbl&gt;</th><th scope=col>&lt;chr&gt;</th></tr>\n",
              "</thead>\n",
              "<tbody>\n",
              "\t<tr><td>Squid Game                       </td><td>Series </td><td>2022</td><td>Korean </td></tr>\n",
              "\t<tr><td>Emily in Paris SS2               </td><td>Series </td><td>2022</td><td>English</td></tr>\n",
              "\t<tr><td>Business Proposal                </td><td>Series </td><td>2022</td><td>Korean </td></tr>\n",
              "\t<tr><td>Pasta                            </td><td>Series </td><td>2022</td><td>Korean </td></tr>\n",
              "\t<tr><td>My Roomate is a Gumiho           </td><td>Series </td><td>2022</td><td>Korean </td></tr>\n",
              "\t<tr><td>Thai Cave Rescue                 </td><td>Series </td><td>2022</td><td>Thai   </td></tr>\n",
              "\t<tr><td>One the woman                    </td><td>Series </td><td>2022</td><td>Korean </td></tr>\n",
              "\t<tr><td>Knives Out                       </td><td>Movie  </td><td>2022</td><td>English</td></tr>\n",
              "\t<tr><td>The Big Bang Theories            </td><td>Sit-Com</td><td>2022</td><td>English</td></tr>\n",
              "\t<tr><td>Enola Homes 2                    </td><td>Series </td><td>2022</td><td>English</td></tr>\n",
              "\t<tr><td>Glass Onion: A Knives Out Mystery</td><td>Movie  </td><td>2022</td><td>English</td></tr>\n",
              "\t<tr><td>The crowned clown                </td><td>Series </td><td>2022</td><td>Korean </td></tr>\n",
              "\t<tr><td>The King and the Clown           </td><td>Movie  </td><td>2022</td><td>Korean </td></tr>\n",
              "\t<tr><td>Racket Boys                      </td><td>Series </td><td>2023</td><td>Korean </td></tr>\n",
              "\t<tr><td>Friends                          </td><td>Sit-Com</td><td>2023</td><td>English</td></tr>\n",
              "\t<tr><td>Emily in Paris SS3               </td><td>Series </td><td>2023</td><td>English</td></tr>\n",
              "\t<tr><td>Diary of a Prosecutor            </td><td>Series </td><td>2023</td><td>Korean </td></tr>\n",
              "\t<tr><td>Murder Mystery                   </td><td>Movie  </td><td>2023</td><td>English</td></tr>\n",
              "\t<tr><td>Heartstopper                     </td><td>Series </td><td>2023</td><td>English</td></tr>\n",
              "\t<tr><td>Murder Mystery 2                 </td><td>Movie  </td><td>2023</td><td>English</td></tr>\n",
              "\t<tr><td>Queenmaker                       </td><td>Series </td><td>2023</td><td>Korean </td></tr>\n",
              "</tbody>\n",
              "</table>\n"
            ],
            "text/markdown": "\nA data.frame: 21 × 4\n\n| title &lt;chr&gt; | type &lt;chr&gt; | finished_year &lt;dbl&gt; | language &lt;chr&gt; |\n|---|---|---|---|\n| Squid Game                        | Series  | 2022 | Korean  |\n| Emily in Paris SS2                | Series  | 2022 | English |\n| Business Proposal                 | Series  | 2022 | Korean  |\n| Pasta                             | Series  | 2022 | Korean  |\n| My Roomate is a Gumiho            | Series  | 2022 | Korean  |\n| Thai Cave Rescue                  | Series  | 2022 | Thai    |\n| One the woman                     | Series  | 2022 | Korean  |\n| Knives Out                        | Movie   | 2022 | English |\n| The Big Bang Theories             | Sit-Com | 2022 | English |\n| Enola Homes 2                     | Series  | 2022 | English |\n| Glass Onion: A Knives Out Mystery | Movie   | 2022 | English |\n| The crowned clown                 | Series  | 2022 | Korean  |\n| The King and the Clown            | Movie   | 2022 | Korean  |\n| Racket Boys                       | Series  | 2023 | Korean  |\n| Friends                           | Sit-Com | 2023 | English |\n| Emily in Paris SS3                | Series  | 2023 | English |\n| Diary of a Prosecutor             | Series  | 2023 | Korean  |\n| Murder Mystery                    | Movie   | 2023 | English |\n| Heartstopper                      | Series  | 2023 | English |\n| Murder Mystery 2                  | Movie   | 2023 | English |\n| Queenmaker                        | Series  | 2023 | Korean  |\n\n",
            "text/latex": "A data.frame: 21 × 4\n\\begin{tabular}{llll}\n title & type & finished\\_year & language\\\\\n <chr> & <chr> & <dbl> & <chr>\\\\\n\\hline\n\t Squid Game                        & Series  & 2022 & Korean \\\\\n\t Emily in Paris SS2                & Series  & 2022 & English\\\\\n\t Business Proposal                 & Series  & 2022 & Korean \\\\\n\t Pasta                             & Series  & 2022 & Korean \\\\\n\t My Roomate is a Gumiho            & Series  & 2022 & Korean \\\\\n\t Thai Cave Rescue                  & Series  & 2022 & Thai   \\\\\n\t One the woman                     & Series  & 2022 & Korean \\\\\n\t Knives Out                        & Movie   & 2022 & English\\\\\n\t The Big Bang Theories             & Sit-Com & 2022 & English\\\\\n\t Enola Homes 2                     & Series  & 2022 & English\\\\\n\t Glass Onion: A Knives Out Mystery & Movie   & 2022 & English\\\\\n\t The crowned clown                 & Series  & 2022 & Korean \\\\\n\t The King and the Clown            & Movie   & 2022 & Korean \\\\\n\t Racket Boys                       & Series  & 2023 & Korean \\\\\n\t Friends                           & Sit-Com & 2023 & English\\\\\n\t Emily in Paris SS3                & Series  & 2023 & English\\\\\n\t Diary of a Prosecutor             & Series  & 2023 & Korean \\\\\n\t Murder Mystery                    & Movie   & 2023 & English\\\\\n\t Heartstopper                      & Series  & 2023 & English\\\\\n\t Murder Mystery 2                  & Movie   & 2023 & English\\\\\n\t Queenmaker                        & Series  & 2023 & Korean \\\\\n\\end{tabular}\n",
            "text/plain": [
              "   title                             type    finished_year language\n",
              "1  Squid Game                        Series  2022          Korean  \n",
              "2  Emily in Paris SS2                Series  2022          English \n",
              "3  Business Proposal                 Series  2022          Korean  \n",
              "4  Pasta                             Series  2022          Korean  \n",
              "5  My Roomate is a Gumiho            Series  2022          Korean  \n",
              "6  Thai Cave Rescue                  Series  2022          Thai    \n",
              "7  One the woman                     Series  2022          Korean  \n",
              "8  Knives Out                        Movie   2022          English \n",
              "9  The Big Bang Theories             Sit-Com 2022          English \n",
              "10 Enola Homes 2                     Series  2022          English \n",
              "11 Glass Onion: A Knives Out Mystery Movie   2022          English \n",
              "12 The crowned clown                 Series  2022          Korean  \n",
              "13 The King and the Clown            Movie   2022          Korean  \n",
              "14 Racket Boys                       Series  2023          Korean  \n",
              "15 Friends                           Sit-Com 2023          English \n",
              "16 Emily in Paris SS3                Series  2023          English \n",
              "17 Diary of a Prosecutor             Series  2023          Korean  \n",
              "18 Murder Mystery                    Movie   2023          English \n",
              "19 Heartstopper                      Series  2023          English \n",
              "20 Murder Mystery 2                  Movie   2023          English \n",
              "21 Queenmaker                        Series  2023          Korean  "
            ]
          },
          "metadata": {}
        }
      ]
    },
    {
      "cell_type": "code",
      "source": [
        "# write table to database\n",
        "dbWriteTable(con, \"my_movies\", my_movies)\n",
        "\n",
        "# list all table name on database\n",
        "dbListTables(con)"
      ],
      "metadata": {
        "colab": {
          "base_uri": "https://localhost:8080/",
          "height": 52
        },
        "id": "HCAkr8ozRqv_",
        "outputId": "3bd7e530-68bc-4be3-9390-a4ae48a802e5"
      },
      "execution_count": 13,
      "outputs": [
        {
          "output_type": "display_data",
          "data": {
            "text/html": [
              "TRUE"
            ],
            "text/markdown": "TRUE",
            "text/latex": "TRUE",
            "text/plain": [
              "[1] TRUE"
            ]
          },
          "metadata": {}
        },
        {
          "output_type": "display_data",
          "data": {
            "text/html": [
              "<style>\n",
              ".list-inline {list-style: none; margin:0; padding: 0}\n",
              ".list-inline>li {display: inline-block}\n",
              ".list-inline>li:not(:last-child)::after {content: \"\\00b7\"; padding: 0 .5ex}\n",
              "</style>\n",
              "<ol class=list-inline><li>'students'</li><li>'shipping_data'</li><li>'my_movies'</li></ol>\n"
            ],
            "text/markdown": "1. 'students'\n2. 'shipping_data'\n3. 'my_movies'\n\n\n",
            "text/latex": "\\begin{enumerate*}\n\\item 'students'\n\\item 'shipping\\_data'\n\\item 'my\\_movies'\n\\end{enumerate*}\n",
            "text/plain": [
              "[1] \"students\"      \"shipping_data\" \"my_movies\"    "
            ]
          },
          "metadata": {}
        }
      ]
    },
    {
      "cell_type": "code",
      "source": [
        "# get data from my_movies and store in df\n",
        "df <- dbGetQuery(con, \"SELECT * FROM my_movies\")\n",
        "\n",
        "# remove row.names column\n",
        "df <- df %>% select(-1)"
      ],
      "metadata": {
        "id": "p39OsXtzTW8v"
      },
      "execution_count": 17,
      "outputs": []
    },
    {
      "cell_type": "code",
      "source": [
        "# print first 5 rows in df\n",
        "head(df)"
      ],
      "metadata": {
        "colab": {
          "base_uri": "https://localhost:8080/",
          "height": 286
        },
        "id": "naVvD_nFT2dU",
        "outputId": "1d73daf5-7411-4295-f5fe-70f04878ea87"
      },
      "execution_count": 18,
      "outputs": [
        {
          "output_type": "display_data",
          "data": {
            "text/html": [
              "<table class=\"dataframe\">\n",
              "<caption>A data.frame: 6 × 4</caption>\n",
              "<thead>\n",
              "\t<tr><th></th><th scope=col>title</th><th scope=col>type</th><th scope=col>finished_year</th><th scope=col>language</th></tr>\n",
              "\t<tr><th></th><th scope=col>&lt;chr&gt;</th><th scope=col>&lt;chr&gt;</th><th scope=col>&lt;dbl&gt;</th><th scope=col>&lt;chr&gt;</th></tr>\n",
              "</thead>\n",
              "<tbody>\n",
              "\t<tr><th scope=row>1</th><td>Squid Game            </td><td>Series</td><td>2022</td><td>Korean </td></tr>\n",
              "\t<tr><th scope=row>2</th><td>Emily in Paris SS2    </td><td>Series</td><td>2022</td><td>English</td></tr>\n",
              "\t<tr><th scope=row>3</th><td>Business Proposal     </td><td>Series</td><td>2022</td><td>Korean </td></tr>\n",
              "\t<tr><th scope=row>4</th><td>Pasta                 </td><td>Series</td><td>2022</td><td>Korean </td></tr>\n",
              "\t<tr><th scope=row>5</th><td>My Roomate is a Gumiho</td><td>Series</td><td>2022</td><td>Korean </td></tr>\n",
              "\t<tr><th scope=row>6</th><td>Thai Cave Rescue      </td><td>Series</td><td>2022</td><td>Thai   </td></tr>\n",
              "</tbody>\n",
              "</table>\n"
            ],
            "text/markdown": "\nA data.frame: 6 × 4\n\n| <!--/--> | title &lt;chr&gt; | type &lt;chr&gt; | finished_year &lt;dbl&gt; | language &lt;chr&gt; |\n|---|---|---|---|---|\n| 1 | Squid Game             | Series | 2022 | Korean  |\n| 2 | Emily in Paris SS2     | Series | 2022 | English |\n| 3 | Business Proposal      | Series | 2022 | Korean  |\n| 4 | Pasta                  | Series | 2022 | Korean  |\n| 5 | My Roomate is a Gumiho | Series | 2022 | Korean  |\n| 6 | Thai Cave Rescue       | Series | 2022 | Thai    |\n\n",
            "text/latex": "A data.frame: 6 × 4\n\\begin{tabular}{r|llll}\n  & title & type & finished\\_year & language\\\\\n  & <chr> & <chr> & <dbl> & <chr>\\\\\n\\hline\n\t1 & Squid Game             & Series & 2022 & Korean \\\\\n\t2 & Emily in Paris SS2     & Series & 2022 & English\\\\\n\t3 & Business Proposal      & Series & 2022 & Korean \\\\\n\t4 & Pasta                  & Series & 2022 & Korean \\\\\n\t5 & My Roomate is a Gumiho & Series & 2022 & Korean \\\\\n\t6 & Thai Cave Rescue       & Series & 2022 & Thai   \\\\\n\\end{tabular}\n",
            "text/plain": [
              "  title                  type   finished_year language\n",
              "1 Squid Game             Series 2022          Korean  \n",
              "2 Emily in Paris SS2     Series 2022          English \n",
              "3 Business Proposal      Series 2022          Korean  \n",
              "4 Pasta                  Series 2022          Korean  \n",
              "5 My Roomate is a Gumiho Series 2022          Korean  \n",
              "6 Thai Cave Rescue       Series 2022          Thai    "
            ]
          },
          "metadata": {}
        }
      ]
    },
    {
      "cell_type": "code",
      "source": [
        "# count movies I have watched in each languages\n",
        "df %>%\n",
        "  group_by(language) %>%\n",
        "  summarise(count = n())"
      ],
      "metadata": {
        "colab": {
          "base_uri": "https://localhost:8080/",
          "height": 192
        },
        "id": "bCmtA_L5TsCY",
        "outputId": "dee5f908-8183-46b7-edd9-24a9f4b9a174"
      },
      "execution_count": 19,
      "outputs": [
        {
          "output_type": "display_data",
          "data": {
            "text/html": [
              "<table class=\"dataframe\">\n",
              "<caption>A tibble: 3 × 2</caption>\n",
              "<thead>\n",
              "\t<tr><th scope=col>language</th><th scope=col>count</th></tr>\n",
              "\t<tr><th scope=col>&lt;chr&gt;</th><th scope=col>&lt;int&gt;</th></tr>\n",
              "</thead>\n",
              "<tbody>\n",
              "\t<tr><td>English</td><td>10</td></tr>\n",
              "\t<tr><td>Korean </td><td>10</td></tr>\n",
              "\t<tr><td>Thai   </td><td> 1</td></tr>\n",
              "</tbody>\n",
              "</table>\n"
            ],
            "text/markdown": "\nA tibble: 3 × 2\n\n| language &lt;chr&gt; | count &lt;int&gt; |\n|---|---|\n| English | 10 |\n| Korean  | 10 |\n| Thai    |  1 |\n\n",
            "text/latex": "A tibble: 3 × 2\n\\begin{tabular}{ll}\n language & count\\\\\n <chr> & <int>\\\\\n\\hline\n\t English & 10\\\\\n\t Korean  & 10\\\\\n\t Thai    &  1\\\\\n\\end{tabular}\n",
            "text/plain": [
              "  language count\n",
              "1 English  10   \n",
              "2 Korean   10   \n",
              "3 Thai      1   "
            ]
          },
          "metadata": {}
        }
      ]
    },
    {
      "cell_type": "code",
      "source": [
        "# close connection\n",
        "dbDisconnect(con)"
      ],
      "metadata": {
        "id": "nIo8sSRRTfIo"
      },
      "execution_count": null,
      "outputs": []
    }
  ]
}
