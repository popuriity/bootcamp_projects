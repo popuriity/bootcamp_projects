{
  "nbformat": 4,
  "nbformat_minor": 0,
  "metadata": {
    "colab": {
      "provenance": [],
      "collapsed_sections": [
        "2w_ZE6FppguR"
      ],
      "authorship_tag": "ABX9TyOMdjmYndyBk6kjH/Dm2APJ",
      "include_colab_link": true
    },
    "kernelspec": {
      "name": "ir",
      "display_name": "R"
    },
    "language_info": {
      "name": "R"
    }
  },
  "cells": [
    {
      "cell_type": "markdown",
      "metadata": {
        "id": "view-in-github",
        "colab_type": "text"
      },
      "source": [
        "<a href=\"https://colab.research.google.com/github/popuriity/bootcamp_projects/blob/main/Mini_Project1_Web_scraping_Top50_Rating_IMDB.ipynb\" target=\"_parent\"><img src=\"https://colab.research.google.com/assets/colab-badge.svg\" alt=\"Open In Colab\"/></a>"
      ]
    },
    {
      "cell_type": "markdown",
      "source": [
        "# Mini Project1 : Web scraping Top50 Rating IMDB\n"
      ],
      "metadata": {
        "id": "8GpEw5EcpbY1"
      }
    },
    {
      "cell_type": "markdown",
      "source": [
        "## Load library"
      ],
      "metadata": {
        "id": "OSLLyX2cV5ov"
      }
    },
    {
      "cell_type": "code",
      "execution_count": null,
      "metadata": {
        "id": "7bb_Of2SdqwB"
      },
      "outputs": [],
      "source": [
        "# import library\n",
        "library(tidyverse)\n",
        "library(rvest) # scrape data from internet"
      ]
    },
    {
      "cell_type": "markdown",
      "source": [
        "## Scraping"
      ],
      "metadata": {
        "id": "k7IxRjJsV8Y8"
      }
    },
    {
      "cell_type": "code",
      "source": [
        "url <- \"https://www.imdb.com/search/title/?groups=top_100&sort=user_rating,desc\"\n",
        "\n",
        "# read html\n",
        "imdb <- read_html(url)\n",
        "\n",
        "# print html\n",
        "imdb"
      ],
      "metadata": {
        "id": "N8Jq6RUneBcM",
        "colab": {
          "base_uri": "https://localhost:8080/",
          "height": 90
        },
        "outputId": "351487e1-e524-4d4a-b799-443aa13e9819"
      },
      "execution_count": 2,
      "outputs": [
        {
          "output_type": "display_data",
          "data": {
            "text/plain": [
              "{html_document}\n",
              "<html xmlns:og=\"http://ogp.me/ns#\" xmlns:fb=\"http://www.facebook.com/2008/fbml\">\n",
              "[1] <head>\\n<meta http-equiv=\"Content-Type\" content=\"text/html; charset=UTF-8 ...\n",
              "[2] <body id=\"styleguide-v2\" class=\"fixed\">\\n            <img height=\"1\" widt ..."
            ]
          },
          "metadata": {}
        }
      ]
    },
    {
      "cell_type": "markdown",
      "source": [
        "### Movie title"
      ],
      "metadata": {
        "id": "vS3AonH5WROL"
      }
    },
    {
      "cell_type": "markdown",
      "source": [
        "Print $1^{st}$ title in `IMDB`"
      ],
      "metadata": {
        "id": "MC_UGkvZWTgV"
      }
    },
    {
      "cell_type": "code",
      "source": [
        "# 1st movie title\n",
        "imdb %>% \n",
        "  html_node(\"h3.lister-item-header\") %>% \n",
        "  html_text() # select text in h3.lister-item-header node"
      ],
      "metadata": {
        "colab": {
          "base_uri": "https://localhost:8080/",
          "height": 34
        },
        "id": "advp6uxrlaeL",
        "outputId": "3bdf94b7-1c4d-4ae7-c4d9-6e0ad7cfac8d"
      },
      "execution_count": 6,
      "outputs": [
        {
          "output_type": "display_data",
          "data": {
            "text/html": [
              "<span style=white-space:pre-wrap>'\\n        1.\\n    \\n    The Shawshank Redemption\\n    (1994)\\n'</span>"
            ],
            "text/markdown": "<span style=white-space:pre-wrap>'\\n        1.\\n    \\n    The Shawshank Redemption\\n    (1994)\\n'</span>",
            "text/latex": "'\\textbackslash{}n        1.\\textbackslash{}n    \\textbackslash{}n    The Shawshank Redemption\\textbackslash{}n    (1994)\\textbackslash{}n'",
            "text/plain": [
              "[1] \"\\n        1.\\n    \\n    The Shawshank Redemption\\n    (1994)\\n\""
            ]
          },
          "metadata": {}
        }
      ]
    },
    {
      "cell_type": "markdown",
      "source": [
        "Use `html_nodes` to get all of movie titles and `html_text2()` to remove special character from text which in this case is \"\\n\"."
      ],
      "metadata": {
        "id": "5Jg-LnLLWYIr"
      }
    },
    {
      "cell_type": "code",
      "source": [
        "titles <- imdb %>% \n",
        "  html_nodes(\"h3.lister-item-header\") %>% \n",
        "  html_text2() %>% \n",
        "  gsub(\"([0-9]+. )\", \"\", .) # replace number before title names with"
      ],
      "metadata": {
        "id": "QlwMyn0RmSAu"
      },
      "execution_count": 7,
      "outputs": []
    },
    {
      "cell_type": "markdown",
      "source": [
        "### Rating\n",
        "get text in `div.ratings-imdb-rating` node and convert to `numeric` type"
      ],
      "metadata": {
        "id": "QV_njljJWdlw"
      }
    },
    {
      "cell_type": "code",
      "source": [
        "ratings <- imdb %>% \n",
        "  html_nodes(\"div.ratings-imdb-rating\") %>% \n",
        "  html_text2() %>% \n",
        "  as.numeric() # convert to numeric\n",
        "\n",
        "ratings"
      ],
      "metadata": {
        "colab": {
          "base_uri": "https://localhost:8080/",
          "height": 34
        },
        "id": "q1yrU7WVms7d",
        "outputId": "b43fd808-314c-4cd5-fbe2-696797f40a08"
      },
      "execution_count": 8,
      "outputs": [
        {
          "output_type": "display_data",
          "data": {
            "text/html": [
              "<style>\n",
              ".list-inline {list-style: none; margin:0; padding: 0}\n",
              ".list-inline>li {display: inline-block}\n",
              ".list-inline>li:not(:last-child)::after {content: \"\\00b7\"; padding: 0 .5ex}\n",
              "</style>\n",
              "<ol class=list-inline><li>9.3</li><li>9.2</li><li>9</li><li>9</li><li>9</li><li>9</li><li>9</li><li>8.9</li><li>8.8</li><li>8.8</li><li>8.8</li><li>8.8</li><li>8.8</li><li>8.8</li><li>8.7</li><li>8.7</li><li>8.7</li><li>8.7</li><li>8.6</li><li>8.6</li><li>8.6</li><li>8.6</li><li>8.6</li><li>8.6</li><li>8.6</li><li>8.6</li><li>8.6</li><li>8.6</li><li>8.6</li><li>8.6</li><li>8.6</li><li>8.5</li><li>8.5</li><li>8.5</li><li>8.5</li><li>8.5</li><li>8.5</li><li>8.5</li><li>8.5</li><li>8.5</li><li>8.5</li><li>8.5</li><li>8.5</li><li>8.5</li><li>8.5</li><li>8.5</li><li>8.5</li><li>8.5</li><li>8.5</li><li>8.5</li></ol>\n"
            ],
            "text/markdown": "1. 9.3\n2. 9.2\n3. 9\n4. 9\n5. 9\n6. 9\n7. 9\n8. 8.9\n9. 8.8\n10. 8.8\n11. 8.8\n12. 8.8\n13. 8.8\n14. 8.8\n15. 8.7\n16. 8.7\n17. 8.7\n18. 8.7\n19. 8.6\n20. 8.6\n21. 8.6\n22. 8.6\n23. 8.6\n24. 8.6\n25. 8.6\n26. 8.6\n27. 8.6\n28. 8.6\n29. 8.6\n30. 8.6\n31. 8.6\n32. 8.5\n33. 8.5\n34. 8.5\n35. 8.5\n36. 8.5\n37. 8.5\n38. 8.5\n39. 8.5\n40. 8.5\n41. 8.5\n42. 8.5\n43. 8.5\n44. 8.5\n45. 8.5\n46. 8.5\n47. 8.5\n48. 8.5\n49. 8.5\n50. 8.5\n\n\n",
            "text/latex": "\\begin{enumerate*}\n\\item 9.3\n\\item 9.2\n\\item 9\n\\item 9\n\\item 9\n\\item 9\n\\item 9\n\\item 8.9\n\\item 8.8\n\\item 8.8\n\\item 8.8\n\\item 8.8\n\\item 8.8\n\\item 8.8\n\\item 8.7\n\\item 8.7\n\\item 8.7\n\\item 8.7\n\\item 8.6\n\\item 8.6\n\\item 8.6\n\\item 8.6\n\\item 8.6\n\\item 8.6\n\\item 8.6\n\\item 8.6\n\\item 8.6\n\\item 8.6\n\\item 8.6\n\\item 8.6\n\\item 8.6\n\\item 8.5\n\\item 8.5\n\\item 8.5\n\\item 8.5\n\\item 8.5\n\\item 8.5\n\\item 8.5\n\\item 8.5\n\\item 8.5\n\\item 8.5\n\\item 8.5\n\\item 8.5\n\\item 8.5\n\\item 8.5\n\\item 8.5\n\\item 8.5\n\\item 8.5\n\\item 8.5\n\\item 8.5\n\\end{enumerate*}\n",
            "text/plain": [
              " [1] 9.3 9.2 9.0 9.0 9.0 9.0 9.0 8.9 8.8 8.8 8.8 8.8 8.8 8.8 8.7 8.7 8.7 8.7 8.6\n",
              "[20] 8.6 8.6 8.6 8.6 8.6 8.6 8.6 8.6 8.6 8.6 8.6 8.6 8.5 8.5 8.5 8.5 8.5 8.5 8.5\n",
              "[39] 8.5 8.5 8.5 8.5 8.5 8.5 8.5 8.5 8.5 8.5 8.5 8.5"
            ]
          },
          "metadata": {}
        }
      ]
    },
    {
      "cell_type": "markdown",
      "source": [
        "### Durations\n",
        "get text in `span.runtime` node, similar to ratings , duration data is `numeric`."
      ],
      "metadata": {
        "id": "rOEz_uoJWh9z"
      }
    },
    {
      "cell_type": "code",
      "source": [
        "durations <- imdb %>% \n",
        "  html_nodes(\"span.runtime\") %>% \n",
        "  html_text2() %>% \n",
        "  gsub(\" min\", \"\", .) %>% \n",
        "  as.numeric()\n",
        "\n",
        "durations[1:5]"
      ],
      "metadata": {
        "id": "GJmGuszKm3UD",
        "colab": {
          "base_uri": "https://localhost:8080/",
          "height": 34
        },
        "outputId": "8e8915d9-8f0a-4635-b534-c513ae9cb52b"
      },
      "execution_count": 9,
      "outputs": [
        {
          "output_type": "display_data",
          "data": {
            "text/html": [
              "<style>\n",
              ".list-inline {list-style: none; margin:0; padding: 0}\n",
              ".list-inline>li {display: inline-block}\n",
              ".list-inline>li:not(:last-child)::after {content: \"\\00b7\"; padding: 0 .5ex}\n",
              "</style>\n",
              "<ol class=list-inline><li>142</li><li>175</li><li>152</li><li>195</li><li>201</li></ol>\n"
            ],
            "text/markdown": "1. 142\n2. 175\n3. 152\n4. 195\n5. 201\n\n\n",
            "text/latex": "\\begin{enumerate*}\n\\item 142\n\\item 175\n\\item 152\n\\item 195\n\\item 201\n\\end{enumerate*}\n",
            "text/plain": [
              "[1] 142 175 152 195 201"
            ]
          },
          "metadata": {}
        }
      ]
    },
    {
      "cell_type": "markdown",
      "source": [
        "### Genre"
      ],
      "metadata": {
        "id": "nYSpjl1dWnG5"
      }
    },
    {
      "cell_type": "code",
      "source": [
        "genres <- imdb %>% \n",
        "  html_nodes(\"span.genre\") %>% \n",
        "  html_text2()\n",
        "\n",
        "genres[1:5]"
      ],
      "metadata": {
        "id": "hXVcwwWknwQS",
        "colab": {
          "base_uri": "https://localhost:8080/",
          "height": 34
        },
        "outputId": "ff89bdd0-e10b-4626-da73-d3f1e6bd7f69"
      },
      "execution_count": 10,
      "outputs": [
        {
          "output_type": "display_data",
          "data": {
            "text/html": [
              "<style>\n",
              ".list-inline {list-style: none; margin:0; padding: 0}\n",
              ".list-inline>li {display: inline-block}\n",
              ".list-inline>li:not(:last-child)::after {content: \"\\00b7\"; padding: 0 .5ex}\n",
              "</style>\n",
              "<ol class=list-inline><li>'Drama'</li><li>'Crime, Drama'</li><li>'Action, Crime, Drama'</li><li>'Biography, Drama, History'</li><li>'Action, Adventure, Drama'</li></ol>\n"
            ],
            "text/markdown": "1. 'Drama'\n2. 'Crime, Drama'\n3. 'Action, Crime, Drama'\n4. 'Biography, Drama, History'\n5. 'Action, Adventure, Drama'\n\n\n",
            "text/latex": "\\begin{enumerate*}\n\\item 'Drama'\n\\item 'Crime, Drama'\n\\item 'Action, Crime, Drama'\n\\item 'Biography, Drama, History'\n\\item 'Action, Adventure, Drama'\n\\end{enumerate*}\n",
            "text/plain": [
              "[1] \"Drama\"                     \"Crime, Drama\"             \n",
              "[3] \"Action, Crime, Drama\"      \"Biography, Drama, History\"\n",
              "[5] \"Action, Adventure, Drama\" "
            ]
          },
          "metadata": {}
        }
      ]
    },
    {
      "cell_type": "markdown",
      "source": [
        "### Certificate"
      ],
      "metadata": {
        "id": "GbGj-cIIWtQi"
      }
    },
    {
      "cell_type": "code",
      "source": [
        "certificates <- imdb %>% \n",
        "  html_nodes(\"span.certificate\") %>% \n",
        "  html_text2()\n",
        "\n",
        "certificates[1:5]"
      ],
      "metadata": {
        "colab": {
          "base_uri": "https://localhost:8080/",
          "height": 34
        },
        "id": "249VQPUcKX4B",
        "outputId": "827d4ac1-b0e8-49d0-f068-9e7f539bcf02"
      },
      "execution_count": 11,
      "outputs": [
        {
          "output_type": "display_data",
          "data": {
            "text/html": [
              "<style>\n",
              ".list-inline {list-style: none; margin:0; padding: 0}\n",
              ".list-inline>li {display: inline-block}\n",
              ".list-inline>li:not(:last-child)::after {content: \"\\00b7\"; padding: 0 .5ex}\n",
              "</style>\n",
              "<ol class=list-inline><li>'R'</li><li>'R'</li><li>'PG-13'</li><li>'R'</li><li>'PG-13'</li></ol>\n"
            ],
            "text/markdown": "1. 'R'\n2. 'R'\n3. 'PG-13'\n4. 'R'\n5. 'PG-13'\n\n\n",
            "text/latex": "\\begin{enumerate*}\n\\item 'R'\n\\item 'R'\n\\item 'PG-13'\n\\item 'R'\n\\item 'PG-13'\n\\end{enumerate*}\n",
            "text/plain": [
              "[1] \"R\"     \"R\"     \"PG-13\" \"R\"     \"PG-13\""
            ]
          },
          "metadata": {}
        }
      ]
    },
    {
      "cell_type": "markdown",
      "source": [
        "## Create data frame"
      ],
      "metadata": {
        "id": "9tat6zY0Kv6I"
      }
    },
    {
      "cell_type": "code",
      "source": [
        "imdb_df <- data.frame(\n",
        "  title = titles,\n",
        "  rating = ratings,\n",
        "  duration = durations,\n",
        "  genre = genres,\n",
        "  certificate = certificates\n",
        ")\n",
        "\n",
        "imdb_df"
      ],
      "metadata": {
        "colab": {
          "base_uri": "https://localhost:8080/",
          "height": 1000
        },
        "id": "O5K5tKfqKunc",
        "outputId": "0325e78f-77bd-40a2-c84b-8857d210dbf4"
      },
      "execution_count": 12,
      "outputs": [
        {
          "output_type": "display_data",
          "data": {
            "text/html": [
              "<table class=\"dataframe\">\n",
              "<caption>A data.frame: 50 × 5</caption>\n",
              "<thead>\n",
              "\t<tr><th scope=col>title</th><th scope=col>rating</th><th scope=col>duration</th><th scope=col>genre</th><th scope=col>certificate</th></tr>\n",
              "\t<tr><th scope=col>&lt;chr&gt;</th><th scope=col>&lt;dbl&gt;</th><th scope=col>&lt;dbl&gt;</th><th scope=col>&lt;chr&gt;</th><th scope=col>&lt;chr&gt;</th></tr>\n",
              "</thead>\n",
              "<tbody>\n",
              "\t<tr><td>The Shawshank Redemption (1994)                         </td><td>9.3</td><td>142</td><td>Drama                       </td><td>R        </td></tr>\n",
              "\t<tr><td>The Godfather (1972)                                    </td><td>9.2</td><td>175</td><td>Crime, Drama                </td><td>R        </td></tr>\n",
              "\t<tr><td>The Dark Knight (2008)                                  </td><td>9.0</td><td>152</td><td>Action, Crime, Drama        </td><td>PG-13    </td></tr>\n",
              "\t<tr><td>Schindler's List (1993)                                 </td><td>9.0</td><td>195</td><td>Biography, Drama, History   </td><td>R        </td></tr>\n",
              "\t<tr><td>The Lord of the Rings: The Return of the King (2003)    </td><td>9.0</td><td>201</td><td>Action, Adventure, Drama    </td><td>PG-13    </td></tr>\n",
              "\t<tr><td>Angry Men (1957)                                        </td><td>9.0</td><td> 96</td><td>Crime, Drama                </td><td>Approved </td></tr>\n",
              "\t<tr><td>The Godfather Part II (1974)                            </td><td>9.0</td><td>202</td><td>Crime, Drama                </td><td>R        </td></tr>\n",
              "\t<tr><td>Pulp Fiction (1994)                                     </td><td>8.9</td><td>154</td><td>Crime, Drama                </td><td>R        </td></tr>\n",
              "\t<tr><td>Inception (2010)                                        </td><td>8.8</td><td>148</td><td>Action, Adventure, Sci-Fi   </td><td>PG-13    </td></tr>\n",
              "\t<tr><td>The Lord of the Rings: The Fellowship of the Ring (2001)</td><td>8.8</td><td>178</td><td>Action, Adventure, Drama    </td><td>PG-13    </td></tr>\n",
              "\t<tr><td>Fight Club (1999)                                       </td><td>8.8</td><td>139</td><td>Drama                       </td><td>R        </td></tr>\n",
              "\t<tr><td>Forrest Gump (1994)                                     </td><td>8.8</td><td>142</td><td>Drama, Romance              </td><td>PG-13    </td></tr>\n",
              "\t<tr><td>The Good, the Bad and the Ugly (1966)                   </td><td>8.8</td><td>178</td><td>Adventure, Western          </td><td>Approved </td></tr>\n",
              "\t<tr><td>The Lord of the Rings: The Two Towers (2002)            </td><td>8.8</td><td>179</td><td>Action, Adventure, Drama    </td><td>PG-13    </td></tr>\n",
              "\t<tr><td>The Matrix (1999)                                       </td><td>8.7</td><td>136</td><td>Action, Sci-Fi              </td><td>R        </td></tr>\n",
              "\t<tr><td>Goodfellas (1990)                                       </td><td>8.7</td><td>145</td><td>Biography, Crime, Drama     </td><td>R        </td></tr>\n",
              "\t<tr><td>One Flew Over the Cuckoo's Nest (1975)                  </td><td>8.7</td><td>133</td><td>Drama                       </td><td>R        </td></tr>\n",
              "\t<tr><td>Star Wars: Episode V - The Empire Strikes Back (1980)   </td><td>8.7</td><td>124</td><td>Action, Adventure, Fantasy  </td><td>PG       </td></tr>\n",
              "\t<tr><td>Interstellar (2014)                                     </td><td>8.6</td><td>169</td><td>Adventure, Drama, Sci-Fi    </td><td>PG-13    </td></tr>\n",
              "\t<tr><td>Star Wars (1977)                                        </td><td>8.6</td><td>121</td><td>Action, Adventure, Fantasy  </td><td>PG       </td></tr>\n",
              "\t<tr><td>Se7en (1995)                                            </td><td>8.6</td><td>127</td><td>Crime, Drama, Mystery       </td><td>R        </td></tr>\n",
              "\t<tr><td>The Silence of the Lambs (1991)                         </td><td>8.6</td><td>118</td><td>Crime, Drama, Thriller      </td><td>R        </td></tr>\n",
              "\t<tr><td>The Green Mile (1999)                                   </td><td>8.6</td><td>189</td><td>Crime, Drama, Fantasy       </td><td>R        </td></tr>\n",
              "\t<tr><td>Spirited Away (2001)                                    </td><td>8.6</td><td>125</td><td>Animation, Adventure, Family</td><td>PG       </td></tr>\n",
              "\t<tr><td>Terminator Judgment Day (1991)                          </td><td>8.6</td><td>137</td><td>Action, Sci-Fi              </td><td>R        </td></tr>\n",
              "\t<tr><td>Saving Private Ryan (1998)                              </td><td>8.6</td><td>169</td><td>Drama, War                  </td><td>R        </td></tr>\n",
              "\t<tr><td>City of God (2002)                                      </td><td>8.6</td><td>130</td><td>Crime, Drama                </td><td>R        </td></tr>\n",
              "\t<tr><td>Life Is Beautiful (1997)                                </td><td>8.6</td><td>116</td><td>Comedy, Drama, Romance      </td><td>PG-13    </td></tr>\n",
              "\t<tr><td>Seven Samurai (1954)                                    </td><td>8.6</td><td>207</td><td>Action, Drama               </td><td>Not Rated</td></tr>\n",
              "\t<tr><td>It's a Wonderful Life (1946)                            </td><td>8.6</td><td>130</td><td>Drama, Family, Fantasy      </td><td>PG       </td></tr>\n",
              "\t<tr><td>Harakiri (1962)                                         </td><td>8.6</td><td>133</td><td>Action, Drama, Mystery      </td><td>Not Rated</td></tr>\n",
              "\t<tr><td>Gladiator (2000)                                        </td><td>8.5</td><td>155</td><td>Action, Adventure, Drama    </td><td>R        </td></tr>\n",
              "\t<tr><td>Whiplash (2014)                                         </td><td>8.5</td><td>106</td><td>Drama, Music                </td><td>R        </td></tr>\n",
              "\t<tr><td>Parasite (2019)                                         </td><td>8.5</td><td>132</td><td>Drama, Thriller             </td><td>R        </td></tr>\n",
              "\t<tr><td>The Departed (2006)                                     </td><td>8.5</td><td>151</td><td>Crime, Drama, Thriller      </td><td>R        </td></tr>\n",
              "\t<tr><td>Back to the Future (1985)                               </td><td>8.5</td><td>116</td><td>Adventure, Comedy, Sci-Fi   </td><td>PG       </td></tr>\n",
              "\t<tr><td>Casablanca (1942)                                       </td><td>8.5</td><td>102</td><td>Drama, Romance, War         </td><td>PG       </td></tr>\n",
              "\t<tr><td>The Prestige (2006)                                     </td><td>8.5</td><td>130</td><td>Drama, Mystery, Sci-Fi      </td><td>PG-13    </td></tr>\n",
              "\t<tr><td>Psycho (1960)                                           </td><td>8.5</td><td>109</td><td>Horror, Mystery, Thriller   </td><td>R        </td></tr>\n",
              "\t<tr><td>Alien (1979)                                            </td><td>8.5</td><td>117</td><td>Horror, Sci-Fi              </td><td>R        </td></tr>\n",
              "\t<tr><td>Apocalypse Now (1979)                                   </td><td>8.5</td><td>147</td><td>Drama, Mystery, War         </td><td>R        </td></tr>\n",
              "\t<tr><td>Léon: The Professional (1994)                           </td><td>8.5</td><td>110</td><td>Action, Crime, Drama        </td><td>R        </td></tr>\n",
              "\t<tr><td>The Pianist (2002)                                      </td><td>8.5</td><td>150</td><td>Biography, Drama, Music     </td><td>R        </td></tr>\n",
              "\t<tr><td>The Lion King (1994)                                    </td><td>8.5</td><td> 88</td><td>Animation, Adventure, Drama </td><td>G        </td></tr>\n",
              "\t<tr><td>The Usual Suspects (1995)                               </td><td>8.5</td><td>106</td><td>Crime, Drama, Mystery       </td><td>R        </td></tr>\n",
              "\t<tr><td>American History X (1998)                               </td><td>8.5</td><td>119</td><td>Crime, Drama                </td><td>R        </td></tr>\n",
              "\t<tr><td>The Intouchables (2011)                                 </td><td>8.5</td><td>112</td><td>Biography, Comedy, Drama    </td><td>R        </td></tr>\n",
              "\t<tr><td>Once Upon a Time in the West (1968)                     </td><td>8.5</td><td>165</td><td>Western                     </td><td>PG-13    </td></tr>\n",
              "\t<tr><td>Grave of the Fireflies (1988)                           </td><td>8.5</td><td> 89</td><td>Animation, Drama, War       </td><td>Not Rated</td></tr>\n",
              "\t<tr><td>Rear Window (1954)                                      </td><td>8.5</td><td>112</td><td>Mystery, Thriller           </td><td>PG       </td></tr>\n",
              "</tbody>\n",
              "</table>\n"
            ],
            "text/markdown": "\nA data.frame: 50 × 5\n\n| title &lt;chr&gt; | rating &lt;dbl&gt; | duration &lt;dbl&gt; | genre &lt;chr&gt; | certificate &lt;chr&gt; |\n|---|---|---|---|---|\n| The Shawshank Redemption (1994)                          | 9.3 | 142 | Drama                        | R         |\n| The Godfather (1972)                                     | 9.2 | 175 | Crime, Drama                 | R         |\n| The Dark Knight (2008)                                   | 9.0 | 152 | Action, Crime, Drama         | PG-13     |\n| Schindler's List (1993)                                  | 9.0 | 195 | Biography, Drama, History    | R         |\n| The Lord of the Rings: The Return of the King (2003)     | 9.0 | 201 | Action, Adventure, Drama     | PG-13     |\n| Angry Men (1957)                                         | 9.0 |  96 | Crime, Drama                 | Approved  |\n| The Godfather Part II (1974)                             | 9.0 | 202 | Crime, Drama                 | R         |\n| Pulp Fiction (1994)                                      | 8.9 | 154 | Crime, Drama                 | R         |\n| Inception (2010)                                         | 8.8 | 148 | Action, Adventure, Sci-Fi    | PG-13     |\n| The Lord of the Rings: The Fellowship of the Ring (2001) | 8.8 | 178 | Action, Adventure, Drama     | PG-13     |\n| Fight Club (1999)                                        | 8.8 | 139 | Drama                        | R         |\n| Forrest Gump (1994)                                      | 8.8 | 142 | Drama, Romance               | PG-13     |\n| The Good, the Bad and the Ugly (1966)                    | 8.8 | 178 | Adventure, Western           | Approved  |\n| The Lord of the Rings: The Two Towers (2002)             | 8.8 | 179 | Action, Adventure, Drama     | PG-13     |\n| The Matrix (1999)                                        | 8.7 | 136 | Action, Sci-Fi               | R         |\n| Goodfellas (1990)                                        | 8.7 | 145 | Biography, Crime, Drama      | R         |\n| One Flew Over the Cuckoo's Nest (1975)                   | 8.7 | 133 | Drama                        | R         |\n| Star Wars: Episode V - The Empire Strikes Back (1980)    | 8.7 | 124 | Action, Adventure, Fantasy   | PG        |\n| Interstellar (2014)                                      | 8.6 | 169 | Adventure, Drama, Sci-Fi     | PG-13     |\n| Star Wars (1977)                                         | 8.6 | 121 | Action, Adventure, Fantasy   | PG        |\n| Se7en (1995)                                             | 8.6 | 127 | Crime, Drama, Mystery        | R         |\n| The Silence of the Lambs (1991)                          | 8.6 | 118 | Crime, Drama, Thriller       | R         |\n| The Green Mile (1999)                                    | 8.6 | 189 | Crime, Drama, Fantasy        | R         |\n| Spirited Away (2001)                                     | 8.6 | 125 | Animation, Adventure, Family | PG        |\n| Terminator Judgment Day (1991)                           | 8.6 | 137 | Action, Sci-Fi               | R         |\n| Saving Private Ryan (1998)                               | 8.6 | 169 | Drama, War                   | R         |\n| City of God (2002)                                       | 8.6 | 130 | Crime, Drama                 | R         |\n| Life Is Beautiful (1997)                                 | 8.6 | 116 | Comedy, Drama, Romance       | PG-13     |\n| Seven Samurai (1954)                                     | 8.6 | 207 | Action, Drama                | Not Rated |\n| It's a Wonderful Life (1946)                             | 8.6 | 130 | Drama, Family, Fantasy       | PG        |\n| Harakiri (1962)                                          | 8.6 | 133 | Action, Drama, Mystery       | Not Rated |\n| Gladiator (2000)                                         | 8.5 | 155 | Action, Adventure, Drama     | R         |\n| Whiplash (2014)                                          | 8.5 | 106 | Drama, Music                 | R         |\n| Parasite (2019)                                          | 8.5 | 132 | Drama, Thriller              | R         |\n| The Departed (2006)                                      | 8.5 | 151 | Crime, Drama, Thriller       | R         |\n| Back to the Future (1985)                                | 8.5 | 116 | Adventure, Comedy, Sci-Fi    | PG        |\n| Casablanca (1942)                                        | 8.5 | 102 | Drama, Romance, War          | PG        |\n| The Prestige (2006)                                      | 8.5 | 130 | Drama, Mystery, Sci-Fi       | PG-13     |\n| Psycho (1960)                                            | 8.5 | 109 | Horror, Mystery, Thriller    | R         |\n| Alien (1979)                                             | 8.5 | 117 | Horror, Sci-Fi               | R         |\n| Apocalypse Now (1979)                                    | 8.5 | 147 | Drama, Mystery, War          | R         |\n| Léon: The Professional (1994)                            | 8.5 | 110 | Action, Crime, Drama         | R         |\n| The Pianist (2002)                                       | 8.5 | 150 | Biography, Drama, Music      | R         |\n| The Lion King (1994)                                     | 8.5 |  88 | Animation, Adventure, Drama  | G         |\n| The Usual Suspects (1995)                                | 8.5 | 106 | Crime, Drama, Mystery        | R         |\n| American History X (1998)                                | 8.5 | 119 | Crime, Drama                 | R         |\n| The Intouchables (2011)                                  | 8.5 | 112 | Biography, Comedy, Drama     | R         |\n| Once Upon a Time in the West (1968)                      | 8.5 | 165 | Western                      | PG-13     |\n| Grave of the Fireflies (1988)                            | 8.5 |  89 | Animation, Drama, War        | Not Rated |\n| Rear Window (1954)                                       | 8.5 | 112 | Mystery, Thriller            | PG        |\n\n",
            "text/latex": "A data.frame: 50 × 5\n\\begin{tabular}{lllll}\n title & rating & duration & genre & certificate\\\\\n <chr> & <dbl> & <dbl> & <chr> & <chr>\\\\\n\\hline\n\t The Shawshank Redemption (1994)                          & 9.3 & 142 & Drama                        & R        \\\\\n\t The Godfather (1972)                                     & 9.2 & 175 & Crime, Drama                 & R        \\\\\n\t The Dark Knight (2008)                                   & 9.0 & 152 & Action, Crime, Drama         & PG-13    \\\\\n\t Schindler's List (1993)                                  & 9.0 & 195 & Biography, Drama, History    & R        \\\\\n\t The Lord of the Rings: The Return of the King (2003)     & 9.0 & 201 & Action, Adventure, Drama     & PG-13    \\\\\n\t Angry Men (1957)                                         & 9.0 &  96 & Crime, Drama                 & Approved \\\\\n\t The Godfather Part II (1974)                             & 9.0 & 202 & Crime, Drama                 & R        \\\\\n\t Pulp Fiction (1994)                                      & 8.9 & 154 & Crime, Drama                 & R        \\\\\n\t Inception (2010)                                         & 8.8 & 148 & Action, Adventure, Sci-Fi    & PG-13    \\\\\n\t The Lord of the Rings: The Fellowship of the Ring (2001) & 8.8 & 178 & Action, Adventure, Drama     & PG-13    \\\\\n\t Fight Club (1999)                                        & 8.8 & 139 & Drama                        & R        \\\\\n\t Forrest Gump (1994)                                      & 8.8 & 142 & Drama, Romance               & PG-13    \\\\\n\t The Good, the Bad and the Ugly (1966)                    & 8.8 & 178 & Adventure, Western           & Approved \\\\\n\t The Lord of the Rings: The Two Towers (2002)             & 8.8 & 179 & Action, Adventure, Drama     & PG-13    \\\\\n\t The Matrix (1999)                                        & 8.7 & 136 & Action, Sci-Fi               & R        \\\\\n\t Goodfellas (1990)                                        & 8.7 & 145 & Biography, Crime, Drama      & R        \\\\\n\t One Flew Over the Cuckoo's Nest (1975)                   & 8.7 & 133 & Drama                        & R        \\\\\n\t Star Wars: Episode V - The Empire Strikes Back (1980)    & 8.7 & 124 & Action, Adventure, Fantasy   & PG       \\\\\n\t Interstellar (2014)                                      & 8.6 & 169 & Adventure, Drama, Sci-Fi     & PG-13    \\\\\n\t Star Wars (1977)                                         & 8.6 & 121 & Action, Adventure, Fantasy   & PG       \\\\\n\t Se7en (1995)                                             & 8.6 & 127 & Crime, Drama, Mystery        & R        \\\\\n\t The Silence of the Lambs (1991)                          & 8.6 & 118 & Crime, Drama, Thriller       & R        \\\\\n\t The Green Mile (1999)                                    & 8.6 & 189 & Crime, Drama, Fantasy        & R        \\\\\n\t Spirited Away (2001)                                     & 8.6 & 125 & Animation, Adventure, Family & PG       \\\\\n\t Terminator Judgment Day (1991)                           & 8.6 & 137 & Action, Sci-Fi               & R        \\\\\n\t Saving Private Ryan (1998)                               & 8.6 & 169 & Drama, War                   & R        \\\\\n\t City of God (2002)                                       & 8.6 & 130 & Crime, Drama                 & R        \\\\\n\t Life Is Beautiful (1997)                                 & 8.6 & 116 & Comedy, Drama, Romance       & PG-13    \\\\\n\t Seven Samurai (1954)                                     & 8.6 & 207 & Action, Drama                & Not Rated\\\\\n\t It's a Wonderful Life (1946)                             & 8.6 & 130 & Drama, Family, Fantasy       & PG       \\\\\n\t Harakiri (1962)                                          & 8.6 & 133 & Action, Drama, Mystery       & Not Rated\\\\\n\t Gladiator (2000)                                         & 8.5 & 155 & Action, Adventure, Drama     & R        \\\\\n\t Whiplash (2014)                                          & 8.5 & 106 & Drama, Music                 & R        \\\\\n\t Parasite (2019)                                          & 8.5 & 132 & Drama, Thriller              & R        \\\\\n\t The Departed (2006)                                      & 8.5 & 151 & Crime, Drama, Thriller       & R        \\\\\n\t Back to the Future (1985)                                & 8.5 & 116 & Adventure, Comedy, Sci-Fi    & PG       \\\\\n\t Casablanca (1942)                                        & 8.5 & 102 & Drama, Romance, War          & PG       \\\\\n\t The Prestige (2006)                                      & 8.5 & 130 & Drama, Mystery, Sci-Fi       & PG-13    \\\\\n\t Psycho (1960)                                            & 8.5 & 109 & Horror, Mystery, Thriller    & R        \\\\\n\t Alien (1979)                                             & 8.5 & 117 & Horror, Sci-Fi               & R        \\\\\n\t Apocalypse Now (1979)                                    & 8.5 & 147 & Drama, Mystery, War          & R        \\\\\n\t Léon: The Professional (1994)                            & 8.5 & 110 & Action, Crime, Drama         & R        \\\\\n\t The Pianist (2002)                                       & 8.5 & 150 & Biography, Drama, Music      & R        \\\\\n\t The Lion King (1994)                                     & 8.5 &  88 & Animation, Adventure, Drama  & G        \\\\\n\t The Usual Suspects (1995)                                & 8.5 & 106 & Crime, Drama, Mystery        & R        \\\\\n\t American History X (1998)                                & 8.5 & 119 & Crime, Drama                 & R        \\\\\n\t The Intouchables (2011)                                  & 8.5 & 112 & Biography, Comedy, Drama     & R        \\\\\n\t Once Upon a Time in the West (1968)                      & 8.5 & 165 & Western                      & PG-13    \\\\\n\t Grave of the Fireflies (1988)                            & 8.5 &  89 & Animation, Drama, War        & Not Rated\\\\\n\t Rear Window (1954)                                       & 8.5 & 112 & Mystery, Thriller            & PG       \\\\\n\\end{tabular}\n",
            "text/plain": [
              "   title                                                    rating duration\n",
              "1  The Shawshank Redemption (1994)                          9.3    142     \n",
              "2  The Godfather (1972)                                     9.2    175     \n",
              "3  The Dark Knight (2008)                                   9.0    152     \n",
              "4  Schindler's List (1993)                                  9.0    195     \n",
              "5  The Lord of the Rings: The Return of the King (2003)     9.0    201     \n",
              "6  Angry Men (1957)                                         9.0     96     \n",
              "7  The Godfather Part II (1974)                             9.0    202     \n",
              "8  Pulp Fiction (1994)                                      8.9    154     \n",
              "9  Inception (2010)                                         8.8    148     \n",
              "10 The Lord of the Rings: The Fellowship of the Ring (2001) 8.8    178     \n",
              "11 Fight Club (1999)                                        8.8    139     \n",
              "12 Forrest Gump (1994)                                      8.8    142     \n",
              "13 The Good, the Bad and the Ugly (1966)                    8.8    178     \n",
              "14 The Lord of the Rings: The Two Towers (2002)             8.8    179     \n",
              "15 The Matrix (1999)                                        8.7    136     \n",
              "16 Goodfellas (1990)                                        8.7    145     \n",
              "17 One Flew Over the Cuckoo's Nest (1975)                   8.7    133     \n",
              "18 Star Wars: Episode V - The Empire Strikes Back (1980)    8.7    124     \n",
              "19 Interstellar (2014)                                      8.6    169     \n",
              "20 Star Wars (1977)                                         8.6    121     \n",
              "21 Se7en (1995)                                             8.6    127     \n",
              "22 The Silence of the Lambs (1991)                          8.6    118     \n",
              "23 The Green Mile (1999)                                    8.6    189     \n",
              "24 Spirited Away (2001)                                     8.6    125     \n",
              "25 Terminator Judgment Day (1991)                           8.6    137     \n",
              "26 Saving Private Ryan (1998)                               8.6    169     \n",
              "27 City of God (2002)                                       8.6    130     \n",
              "28 Life Is Beautiful (1997)                                 8.6    116     \n",
              "29 Seven Samurai (1954)                                     8.6    207     \n",
              "30 It's a Wonderful Life (1946)                             8.6    130     \n",
              "31 Harakiri (1962)                                          8.6    133     \n",
              "32 Gladiator (2000)                                         8.5    155     \n",
              "33 Whiplash (2014)                                          8.5    106     \n",
              "34 Parasite (2019)                                          8.5    132     \n",
              "35 The Departed (2006)                                      8.5    151     \n",
              "36 Back to the Future (1985)                                8.5    116     \n",
              "37 Casablanca (1942)                                        8.5    102     \n",
              "38 The Prestige (2006)                                      8.5    130     \n",
              "39 Psycho (1960)                                            8.5    109     \n",
              "40 Alien (1979)                                             8.5    117     \n",
              "41 Apocalypse Now (1979)                                    8.5    147     \n",
              "42 Léon: The Professional (1994)                            8.5    110     \n",
              "43 The Pianist (2002)                                       8.5    150     \n",
              "44 The Lion King (1994)                                     8.5     88     \n",
              "45 The Usual Suspects (1995)                                8.5    106     \n",
              "46 American History X (1998)                                8.5    119     \n",
              "47 The Intouchables (2011)                                  8.5    112     \n",
              "48 Once Upon a Time in the West (1968)                      8.5    165     \n",
              "49 Grave of the Fireflies (1988)                            8.5     89     \n",
              "50 Rear Window (1954)                                       8.5    112     \n",
              "   genre                        certificate\n",
              "1  Drama                        R          \n",
              "2  Crime, Drama                 R          \n",
              "3  Action, Crime, Drama         PG-13      \n",
              "4  Biography, Drama, History    R          \n",
              "5  Action, Adventure, Drama     PG-13      \n",
              "6  Crime, Drama                 Approved   \n",
              "7  Crime, Drama                 R          \n",
              "8  Crime, Drama                 R          \n",
              "9  Action, Adventure, Sci-Fi    PG-13      \n",
              "10 Action, Adventure, Drama     PG-13      \n",
              "11 Drama                        R          \n",
              "12 Drama, Romance               PG-13      \n",
              "13 Adventure, Western           Approved   \n",
              "14 Action, Adventure, Drama     PG-13      \n",
              "15 Action, Sci-Fi               R          \n",
              "16 Biography, Crime, Drama      R          \n",
              "17 Drama                        R          \n",
              "18 Action, Adventure, Fantasy   PG         \n",
              "19 Adventure, Drama, Sci-Fi     PG-13      \n",
              "20 Action, Adventure, Fantasy   PG         \n",
              "21 Crime, Drama, Mystery        R          \n",
              "22 Crime, Drama, Thriller       R          \n",
              "23 Crime, Drama, Fantasy        R          \n",
              "24 Animation, Adventure, Family PG         \n",
              "25 Action, Sci-Fi               R          \n",
              "26 Drama, War                   R          \n",
              "27 Crime, Drama                 R          \n",
              "28 Comedy, Drama, Romance       PG-13      \n",
              "29 Action, Drama                Not Rated  \n",
              "30 Drama, Family, Fantasy       PG         \n",
              "31 Action, Drama, Mystery       Not Rated  \n",
              "32 Action, Adventure, Drama     R          \n",
              "33 Drama, Music                 R          \n",
              "34 Drama, Thriller              R          \n",
              "35 Crime, Drama, Thriller       R          \n",
              "36 Adventure, Comedy, Sci-Fi    PG         \n",
              "37 Drama, Romance, War          PG         \n",
              "38 Drama, Mystery, Sci-Fi       PG-13      \n",
              "39 Horror, Mystery, Thriller    R          \n",
              "40 Horror, Sci-Fi               R          \n",
              "41 Drama, Mystery, War          R          \n",
              "42 Action, Crime, Drama         R          \n",
              "43 Biography, Drama, Music      R          \n",
              "44 Animation, Adventure, Drama  G          \n",
              "45 Crime, Drama, Mystery        R          \n",
              "46 Crime, Drama                 R          \n",
              "47 Biography, Comedy, Drama     R          \n",
              "48 Western                      PG-13      \n",
              "49 Animation, Drama, War        Not Rated  \n",
              "50 Mystery, Thriller            PG         "
            ]
          },
          "metadata": {}
        }
      ]
    },
    {
      "cell_type": "code",
      "source": [
        "## Export dataset to csv file\n",
        "\n",
        "write.csv(imdb_df, \"top50_imdb.csv\", row.names = FALSE)"
      ],
      "metadata": {
        "id": "4uWS_ao1K0lP"
      },
      "execution_count": null,
      "outputs": []
    }
  ]
}