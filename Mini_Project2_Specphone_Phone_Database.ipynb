{
  "nbformat": 4,
  "nbformat_minor": 0,
  "metadata": {
    "colab": {
      "provenance": [],
      "authorship_tag": "ABX9TyO1PvdExo4s9ij1tF94tMzO",
      "include_colab_link": true
    },
    "kernelspec": {
      "name": "ir",
      "display_name": "R"
    },
    "language_info": {
      "name": "R"
    }
  },
  "cells": [
    {
      "cell_type": "markdown",
      "metadata": {
        "id": "view-in-github",
        "colab_type": "text"
      },
      "source": [
        "<a href=\"https://colab.research.google.com/github/popuriity/bootcamp_projects/blob/main/Mini_Project2_Specphone_Phone_Database.ipynb\" target=\"_parent\"><img src=\"https://colab.research.google.com/assets/colab-badge.svg\" alt=\"Open In Colab\"/></a>"
      ]
    },
    {
      "cell_type": "markdown",
      "source": [
        "# Mini Project 02 - Specphone Phone Database\n",
        "\n",
        "This project is for creating phone dataset from https://specphone.com.\n",
        "The dataset contain phone product name and its details."
      ],
      "metadata": {
        "id": "2w_ZE6FppguR"
      }
    },
    {
      "cell_type": "code",
      "source": [
        "# import library\n",
        "library(tidyverse)\n",
        "library(rvest) # scrape data from internet"
      ],
      "metadata": {
        "id": "QtL3ZLAip2mz"
      },
      "execution_count": 76,
      "outputs": []
    },
    {
      "cell_type": "markdown",
      "source": [
        "## Data from *single* page"
      ],
      "metadata": {
        "id": "E68z6VdyM0lC"
      }
    },
    {
      "cell_type": "code",
      "source": [
        "# Samsung Galaxy A04 details page\n",
        "url <- read_html(\"https://specphone.com/Samsung-Galaxy-A04.html\")"
      ],
      "metadata": {
        "id": "hPfAvCHsqIpA"
      },
      "execution_count": 77,
      "outputs": []
    },
    {
      "cell_type": "markdown",
      "source": [
        "### Find first attribute of the phone"
      ],
      "metadata": {
        "id": "F497aXC7QuLH"
      }
    },
    {
      "cell_type": "code",
      "source": [
        "# find model name\n",
        "url %>%\n",
        "  html_node(\"div.phone-summary h2\") %>%\n",
        "  html_text()"
      ],
      "metadata": {
        "colab": {
          "base_uri": "https://localhost:8080/",
          "height": 34
        },
        "id": "H5L6QaWEZD8H",
        "outputId": "f28ca6fb-4851-41b7-c23f-7590bb63959a"
      },
      "execution_count": 78,
      "outputs": [
        {
          "output_type": "display_data",
          "data": {
            "text/html": [
              "'Samsung Galaxy A04'"
            ],
            "text/markdown": "'Samsung Galaxy A04'",
            "text/latex": "'Samsung Galaxy A04'",
            "text/plain": [
              "[1] \"Samsung Galaxy A04\""
            ]
          },
          "metadata": {}
        }
      ]
    },
    {
      "cell_type": "code",
      "source": [
        "# find first attribute\n",
        "url %>%\n",
        "  html_node(\"div.topic\") %>%\n",
        "  html_text()"
      ],
      "metadata": {
        "colab": {
          "base_uri": "https://localhost:8080/",
          "height": 34
        },
        "id": "IELkKYVOQfC0",
        "outputId": "61fd9825-ca73-41e8-b11b-44b2579c3021"
      },
      "execution_count": 79,
      "outputs": [
        {
          "output_type": "display_data",
          "data": {
            "text/html": [
              "'วันเปิดตัว'"
            ],
            "text/markdown": "'วันเปิดตัว'",
            "text/latex": "'วันเปิดตัว'",
            "text/plain": [
              "[1] \"วันเปิดตัว\""
            ]
          },
          "metadata": {}
        }
      ]
    },
    {
      "cell_type": "code",
      "source": [
        "# find first value of the attribute\n",
        "url %>%\n",
        "  html_node(\"div.detail\") %>%\n",
        "  html_text()"
      ],
      "metadata": {
        "colab": {
          "base_uri": "https://localhost:8080/",
          "height": 34
        },
        "id": "06n2nEP-Qr0f",
        "outputId": "1b6925c5-d642-4453-e711-66079b0fc30c"
      },
      "execution_count": 80,
      "outputs": [
        {
          "output_type": "display_data",
          "data": {
            "text/html": [
              "'ตุลาคม 2565'"
            ],
            "text/markdown": "'ตุลาคม 2565'",
            "text/latex": "'ตุลาคม 2565'",
            "text/plain": [
              "[1] \"ตุลาคม 2565\""
            ]
          },
          "metadata": {}
        }
      ]
    },
    {
      "cell_type": "markdown",
      "source": [
        "### Get all attributes and values of Samsung Galaxy A04"
      ],
      "metadata": {
        "id": "KZpXnhSmQ3mO"
      }
    },
    {
      "cell_type": "code",
      "source": [
        "# all phone models name\n",
        "model <- url %>%\n",
        "  html_node(\"div.phone-summary h2\") %>%\n",
        "  html_text()\n",
        "\n",
        "model"
      ],
      "metadata": {
        "colab": {
          "base_uri": "https://localhost:8080/",
          "height": 34
        },
        "id": "TSmXjzuRYrHU",
        "outputId": "b72c9940-9682-43d5-c74a-5fe87b7187ea"
      },
      "execution_count": 81,
      "outputs": [
        {
          "output_type": "display_data",
          "data": {
            "text/html": [
              "'Samsung Galaxy A04'"
            ],
            "text/markdown": "'Samsung Galaxy A04'",
            "text/latex": "'Samsung Galaxy A04'",
            "text/plain": [
              "[1] \"Samsung Galaxy A04\""
            ]
          },
          "metadata": {}
        }
      ]
    },
    {
      "cell_type": "code",
      "source": [
        "# all phone attributes\n",
        "att <- url %>%\n",
        "  html_nodes(\"div.topic\") %>%\n",
        "  html_text()\n",
        "\n",
        "att"
      ],
      "metadata": {
        "id": "bYq-pjXqqeao",
        "colab": {
          "base_uri": "https://localhost:8080/",
          "height": 52
        },
        "outputId": "ae31cddb-7043-4d86-903f-72e1318ec1d4"
      },
      "execution_count": 82,
      "outputs": [
        {
          "output_type": "display_data",
          "data": {
            "text/html": [
              "<style>\n",
              ".list-inline {list-style: none; margin:0; padding: 0}\n",
              ".list-inline>li {display: inline-block}\n",
              ".list-inline>li:not(:last-child)::after {content: \"\\00b7\"; padding: 0 .5ex}\n",
              "</style>\n",
              "<ol class=list-inline><li>'วันเปิดตัว'</li><li>'วันวางจำหน่าย'</li><li>'ขนาด'</li><li>'น้ำหนัก'</li><li>'วัสดุ'</li><li>'SIM'</li><li>'Technology'</li><li>'2G'</li><li>'3G'</li><li>'4G'</li><li>'5G'</li><li>'ความเร็ว'</li><li>'ประเภท'</li><li>'ขนาดหน้าจอ'</li><li>'ความละเอียด'</li><li>'ระบบปฏิบัติการ'</li><li>'ชิปประมวลผล'</li><li>'ชิปกราฟิก'</li><li>'หน่วยความจำ'</li><li>'ความจุ'</li><li>'Memory Card'</li><li>'กล้องหลัก'</li><li>'ความละเอียดวีดีโอ'</li><li>'กล้องหน้า'</li><li>'Bluetooth'</li><li>'Wi-Fi'</li><li>'USB'</li><li>'GPS'</li><li>'NFC'</li><li>'ความจุ'</li><li>'ประเภท'</li></ol>\n"
            ],
            "text/markdown": "1. 'วันเปิดตัว'\n2. 'วันวางจำหน่าย'\n3. 'ขนาด'\n4. 'น้ำหนัก'\n5. 'วัสดุ'\n6. 'SIM'\n7. 'Technology'\n8. '2G'\n9. '3G'\n10. '4G'\n11. '5G'\n12. 'ความเร็ว'\n13. 'ประเภท'\n14. 'ขนาดหน้าจอ'\n15. 'ความละเอียด'\n16. 'ระบบปฏิบัติการ'\n17. 'ชิปประมวลผล'\n18. 'ชิปกราฟิก'\n19. 'หน่วยความจำ'\n20. 'ความจุ'\n21. 'Memory Card'\n22. 'กล้องหลัก'\n23. 'ความละเอียดวีดีโอ'\n24. 'กล้องหน้า'\n25. 'Bluetooth'\n26. 'Wi-Fi'\n27. 'USB'\n28. 'GPS'\n29. 'NFC'\n30. 'ความจุ'\n31. 'ประเภท'\n\n\n",
            "text/latex": "\\begin{enumerate*}\n\\item 'วันเปิดตัว'\n\\item 'วันวางจำหน่าย'\n\\item 'ขนาด'\n\\item 'น้ำหนัก'\n\\item 'วัสดุ'\n\\item 'SIM'\n\\item 'Technology'\n\\item '2G'\n\\item '3G'\n\\item '4G'\n\\item '5G'\n\\item 'ความเร็ว'\n\\item 'ประเภท'\n\\item 'ขนาดหน้าจอ'\n\\item 'ความละเอียด'\n\\item 'ระบบปฏิบัติการ'\n\\item 'ชิปประมวลผล'\n\\item 'ชิปกราฟิก'\n\\item 'หน่วยความจำ'\n\\item 'ความจุ'\n\\item 'Memory Card'\n\\item 'กล้องหลัก'\n\\item 'ความละเอียดวีดีโอ'\n\\item 'กล้องหน้า'\n\\item 'Bluetooth'\n\\item 'Wi-Fi'\n\\item 'USB'\n\\item 'GPS'\n\\item 'NFC'\n\\item 'ความจุ'\n\\item 'ประเภท'\n\\end{enumerate*}\n",
            "text/plain": [
              " [1] \"วันเปิดตัว\"        \"วันวางจำหน่าย\"    \"ขนาด\"           \"น้ำหนัก\"         \n",
              " [5] \"วัสดุ\"            \"SIM\"            \"Technology\"     \"2G\"            \n",
              " [9] \"3G\"             \"4G\"             \"5G\"             \"ความเร็ว\"       \n",
              "[13] \"ประเภท\"         \"ขนาดหน้าจอ\"      \"ความละเอียด\"     \"ระบบปฏิบัติการ\"   \n",
              "[17] \"ชิปประมวลผล\"     \"ชิปกราฟิก\"        \"หน่วยความจำ\"     \"ความจุ\"         \n",
              "[21] \"Memory Card\"    \"กล้องหลัก\"        \"ความละเอียดวีดีโอ\" \"กล้องหน้า\"       \n",
              "[25] \"Bluetooth\"      \"Wi-Fi\"          \"USB\"            \"GPS\"           \n",
              "[29] \"NFC\"            \"ความจุ\"          \"ประเภท\"        "
            ]
          },
          "metadata": {}
        }
      ]
    },
    {
      "cell_type": "code",
      "source": [
        "# all product details\n",
        "value <- url %>%\n",
        "  html_nodes(\"div.detail\") %>%\n",
        "  html_text()\n",
        "\n",
        "value"
      ],
      "metadata": {
        "id": "7qTqh_wwqjxH",
        "colab": {
          "base_uri": "https://localhost:8080/",
          "height": 69
        },
        "outputId": "62db0293-1c10-42f0-a92e-eb60ee839c7b"
      },
      "execution_count": 83,
      "outputs": [
        {
          "output_type": "display_data",
          "data": {
            "text/html": [
              "<style>\n",
              ".list-inline {list-style: none; margin:0; padding: 0}\n",
              ".list-inline>li {display: inline-block}\n",
              ".list-inline>li:not(:last-child)::after {content: \"\\00b7\"; padding: 0 .5ex}\n",
              "</style>\n",
              "<ol class=list-inline><li>'ตุลาคม 2565'</li><li>'ยังไม่วางจำหน่าย'</li><li>'164.40 x 76.30 x 9.10 มม.'</li><li>'192 กรัม'</li><li>'Glass front, plastic back, plastic frame'</li><li>'รองรับ 2 ซิมการ์ด (nano sim, nano sim)'</li><li>'HSPA 42.2/5.76 Mbps, LTE-A'</li><li>'850/900/1800/1900'</li><li>'850/900/1900/2100'</li><li>'850/900/1900/2100/2600'</li><li>'-'</li><li>'HSPA 42.2/5.76 Mbps, LTE-A'</li><li>'PLS LCD'</li><li><span style=white-space:pre-wrap>'6.50\\n                                         นิ้ว '</span></li><li>'720 x 1600 pixels'</li><li>'Android 12'</li><li>'Spreadtrum Unisoc SC9863A 1.6 GHz'</li><li>'PowerVR GE8322'</li><li>'3 GB'</li><li>'32 GB'</li><li>'microSD (1)'</li><li>'ตัวที่ 1: 50 MP, f/1.8, (wide), AFตัวที่ 2: 2 MP, f/2.4, (depth)'</li><li>'1080p@30fps'</li><li>'ตัวที่ 1: 5 MP, f/2.2'</li><li>'5.0, A2DP, LE'</li><li>'802.11 a/b/g/n/ac, dual-b'</li><li>'Type-C'</li><li>'GLONASS, GALILEO, BDS'</li><li>'ไม่รองรับ'</li><li>'5,000 mAh'</li><li>'\\tNon-removable Li-Po Batt'</li></ol>\n"
            ],
            "text/markdown": "1. 'ตุลาคม 2565'\n2. 'ยังไม่วางจำหน่าย'\n3. '164.40 x 76.30 x 9.10 มม.'\n4. '192 กรัม'\n5. 'Glass front, plastic back, plastic frame'\n6. 'รองรับ 2 ซิมการ์ด (nano sim, nano sim)'\n7. 'HSPA 42.2/5.76 Mbps, LTE-A'\n8. '850/900/1800/1900'\n9. '850/900/1900/2100'\n10. '850/900/1900/2100/2600'\n11. '-'\n12. 'HSPA 42.2/5.76 Mbps, LTE-A'\n13. 'PLS LCD'\n14. <span style=white-space:pre-wrap>'6.50\\n                                         นิ้ว '</span>\n15. '720 x 1600 pixels'\n16. 'Android 12'\n17. 'Spreadtrum Unisoc SC9863A 1.6 GHz'\n18. 'PowerVR GE8322'\n19. '3 GB'\n20. '32 GB'\n21. 'microSD (1)'\n22. 'ตัวที่ 1: 50 MP, f/1.8, (wide), AFตัวที่ 2: 2 MP, f/2.4, (depth)'\n23. '1080p@30fps'\n24. 'ตัวที่ 1: 5 MP, f/2.2'\n25. '5.0, A2DP, LE'\n26. '802.11 a/b/g/n/ac, dual-b'\n27. 'Type-C'\n28. 'GLONASS, GALILEO, BDS'\n29. 'ไม่รองรับ'\n30. '5,000 mAh'\n31. '\\tNon-removable Li-Po Batt'\n\n\n",
            "text/latex": "\\begin{enumerate*}\n\\item 'ตุลาคม 2565'\n\\item 'ยังไม่วางจำหน่าย'\n\\item '164.40 x 76.30 x 9.10 มม.'\n\\item '192 กรัม'\n\\item 'Glass front, plastic back, plastic frame'\n\\item 'รองรับ 2 ซิมการ์ด (nano sim, nano sim)'\n\\item 'HSPA 42.2/5.76 Mbps, LTE-A'\n\\item '850/900/1800/1900'\n\\item '850/900/1900/2100'\n\\item '850/900/1900/2100/2600'\n\\item '-'\n\\item 'HSPA 42.2/5.76 Mbps, LTE-A'\n\\item 'PLS LCD'\n\\item '6.50\\textbackslash{}n                                         นิ้ว '\n\\item '720 x 1600 pixels'\n\\item 'Android 12'\n\\item 'Spreadtrum Unisoc SC9863A 1.6 GHz'\n\\item 'PowerVR GE8322'\n\\item '3 GB'\n\\item '32 GB'\n\\item 'microSD (1)'\n\\item 'ตัวที่ 1: 50 MP, f/1.8, (wide), AFตัวที่ 2: 2 MP, f/2.4, (depth)'\n\\item '1080p@30fps'\n\\item 'ตัวที่ 1: 5 MP, f/2.2'\n\\item '5.0, A2DP, LE'\n\\item '802.11 a/b/g/n/ac, dual-b'\n\\item 'Type-C'\n\\item 'GLONASS, GALILEO, BDS'\n\\item 'ไม่รองรับ'\n\\item '5,000 mAh'\n\\item '\\textbackslash{}tNon-removable Li-Po Batt'\n\\end{enumerate*}\n",
            "text/plain": [
              " [1] \"ตุลาคม 2565\"                                                \n",
              " [2] \"ยังไม่วางจำหน่าย\"                                             \n",
              " [3] \"164.40 x 76.30 x 9.10 มม.\"                                 \n",
              " [4] \"192 กรัม\"                                                   \n",
              " [5] \"Glass front, plastic back, plastic frame\"                  \n",
              " [6] \"รองรับ 2 ซิมการ์ด (nano sim, nano sim)\"                       \n",
              " [7] \"HSPA 42.2/5.76 Mbps, LTE-A\"                                \n",
              " [8] \"850/900/1800/1900\"                                         \n",
              " [9] \"850/900/1900/2100\"                                         \n",
              "[10] \"850/900/1900/2100/2600\"                                    \n",
              "[11] \"-\"                                                         \n",
              "[12] \"HSPA 42.2/5.76 Mbps, LTE-A\"                                \n",
              "[13] \"PLS LCD\"                                                   \n",
              "[14] \"6.50\\n                                         นิ้ว \"        \n",
              "[15] \"720 x 1600 pixels\"                                         \n",
              "[16] \"Android 12\"                                                \n",
              "[17] \"Spreadtrum Unisoc SC9863A 1.6 GHz\"                         \n",
              "[18] \"PowerVR GE8322\"                                            \n",
              "[19] \"3 GB\"                                                      \n",
              "[20] \"32 GB\"                                                     \n",
              "[21] \"microSD (1)\"                                               \n",
              "[22] \"ตัวที่ 1: 50 MP, f/1.8, (wide), AFตัวที่ 2: 2 MP, f/2.4, (depth)\"\n",
              "[23] \"1080p@30fps\"                                               \n",
              "[24] \"ตัวที่ 1: 5 MP, f/2.2\"                                        \n",
              "[25] \"5.0, A2DP, LE\"                                             \n",
              "[26] \"802.11 a/b/g/n/ac, dual-b\"                                 \n",
              "[27] \"Type-C\"                                                    \n",
              "[28] \"GLONASS, GALILEO, BDS\"                                     \n",
              "[29] \"ไม่รองรับ\"                                                   \n",
              "[30] \"5,000 mAh\"                                                 \n",
              "[31] \"\\tNon-removable Li-Po Batt\"                                "
            ]
          },
          "metadata": {}
        }
      ]
    },
    {
      "cell_type": "code",
      "source": [
        "# create Samsung Galaxy A04 details dataframe\n",
        "test1 <- data.frame(model = model, attribute = att, value = value)\n",
        "test1"
      ],
      "metadata": {
        "colab": {
          "base_uri": "https://localhost:8080/",
          "height": 1000
        },
        "id": "8eE6h_eWilhv",
        "outputId": "73441f48-f6d0-451e-cd6a-6521221b93a4"
      },
      "execution_count": 84,
      "outputs": [
        {
          "output_type": "display_data",
          "data": {
            "text/html": [
              "<table class=\"dataframe\">\n",
              "<caption>A data.frame: 31 × 3</caption>\n",
              "<thead>\n",
              "\t<tr><th scope=col>model</th><th scope=col>attribute</th><th scope=col>value</th></tr>\n",
              "\t<tr><th scope=col>&lt;chr&gt;</th><th scope=col>&lt;chr&gt;</th><th scope=col>&lt;chr&gt;</th></tr>\n",
              "</thead>\n",
              "<tbody>\n",
              "\t<tr><td>Samsung Galaxy A04</td><td>วันเปิดตัว       </td><td>ตุลาคม 2565                                                </td></tr>\n",
              "\t<tr><td>Samsung Galaxy A04</td><td>วันวางจำหน่าย   </td><td>ยังไม่วางจำหน่าย                                             </td></tr>\n",
              "\t<tr><td>Samsung Galaxy A04</td><td>ขนาด          </td><td>164.40 x 76.30 x 9.10 มม.                                 </td></tr>\n",
              "\t<tr><td>Samsung Galaxy A04</td><td>น้ำหนัก         </td><td>192 กรัม                                                   </td></tr>\n",
              "\t<tr><td>Samsung Galaxy A04</td><td>วัสดุ           </td><td>Glass front, plastic back, plastic frame                  </td></tr>\n",
              "\t<tr><td>Samsung Galaxy A04</td><td>SIM           </td><td>รองรับ 2 ซิมการ์ด (nano sim, nano sim)                       </td></tr>\n",
              "\t<tr><td>Samsung Galaxy A04</td><td>Technology    </td><td>HSPA 42.2/5.76 Mbps, LTE-A                                </td></tr>\n",
              "\t<tr><td>Samsung Galaxy A04</td><td>2G            </td><td>850/900/1800/1900                                         </td></tr>\n",
              "\t<tr><td>Samsung Galaxy A04</td><td>3G            </td><td>850/900/1900/2100                                         </td></tr>\n",
              "\t<tr><td>Samsung Galaxy A04</td><td>4G            </td><td>850/900/1900/2100/2600                                    </td></tr>\n",
              "\t<tr><td>Samsung Galaxy A04</td><td>5G            </td><td>-                                                         </td></tr>\n",
              "\t<tr><td>Samsung Galaxy A04</td><td>ความเร็ว       </td><td>HSPA 42.2/5.76 Mbps, LTE-A                                </td></tr>\n",
              "\t<tr><td>Samsung Galaxy A04</td><td>ประเภท        </td><td>PLS LCD                                                   </td></tr>\n",
              "\t<tr><td>Samsung Galaxy A04</td><td>ขนาดหน้าจอ     </td><td>6.50\n",
              "                                         นิ้ว         </td></tr>\n",
              "\t<tr><td>Samsung Galaxy A04</td><td>ความละเอียด    </td><td>720 x 1600 pixels                                         </td></tr>\n",
              "\t<tr><td>Samsung Galaxy A04</td><td>ระบบปฏิบัติการ   </td><td>Android 12                                                </td></tr>\n",
              "\t<tr><td>Samsung Galaxy A04</td><td>ชิปประมวลผล    </td><td>Spreadtrum Unisoc SC9863A 1.6 GHz                         </td></tr>\n",
              "\t<tr><td>Samsung Galaxy A04</td><td>ชิปกราฟิก       </td><td>PowerVR GE8322                                            </td></tr>\n",
              "\t<tr><td>Samsung Galaxy A04</td><td>หน่วยความจำ    </td><td>3 GB                                                      </td></tr>\n",
              "\t<tr><td>Samsung Galaxy A04</td><td>ความจุ         </td><td>32 GB                                                     </td></tr>\n",
              "\t<tr><td>Samsung Galaxy A04</td><td>Memory Card   </td><td>microSD (1)                                               </td></tr>\n",
              "\t<tr><td>Samsung Galaxy A04</td><td>กล้องหลัก       </td><td>ตัวที่ 1: 50 MP, f/1.8, (wide), AFตัวที่ 2: 2 MP, f/2.4, (depth)</td></tr>\n",
              "\t<tr><td>Samsung Galaxy A04</td><td>ความละเอียดวีดีโอ</td><td>1080p@30fps                                               </td></tr>\n",
              "\t<tr><td>Samsung Galaxy A04</td><td>กล้องหน้า       </td><td>ตัวที่ 1: 5 MP, f/2.2                                        </td></tr>\n",
              "\t<tr><td>Samsung Galaxy A04</td><td>Bluetooth     </td><td>5.0, A2DP, LE                                             </td></tr>\n",
              "\t<tr><td>Samsung Galaxy A04</td><td>Wi-Fi         </td><td>802.11 a/b/g/n/ac, dual-b                                 </td></tr>\n",
              "\t<tr><td>Samsung Galaxy A04</td><td>USB           </td><td>Type-C                                                    </td></tr>\n",
              "\t<tr><td>Samsung Galaxy A04</td><td>GPS           </td><td>GLONASS, GALILEO, BDS                                     </td></tr>\n",
              "\t<tr><td>Samsung Galaxy A04</td><td>NFC           </td><td>ไม่รองรับ                                                   </td></tr>\n",
              "\t<tr><td>Samsung Galaxy A04</td><td>ความจุ         </td><td>5,000 mAh                                                 </td></tr>\n",
              "\t<tr><td>Samsung Galaxy A04</td><td>ประเภท        </td><td>\tNon-removable Li-Po Batt                                </td></tr>\n",
              "</tbody>\n",
              "</table>\n"
            ],
            "text/markdown": "\nA data.frame: 31 × 3\n\n| model &lt;chr&gt; | attribute &lt;chr&gt; | value &lt;chr&gt; |\n|---|---|---|\n| Samsung Galaxy A04 | วันเปิดตัว        | ตุลาคม 2565                                                 |\n| Samsung Galaxy A04 | วันวางจำหน่าย    | ยังไม่วางจำหน่าย                                              |\n| Samsung Galaxy A04 | ขนาด           | 164.40 x 76.30 x 9.10 มม.                                  |\n| Samsung Galaxy A04 | น้ำหนัก          | 192 กรัม                                                    |\n| Samsung Galaxy A04 | วัสดุ            | Glass front, plastic back, plastic frame                   |\n| Samsung Galaxy A04 | SIM            | รองรับ 2 ซิมการ์ด (nano sim, nano sim)                        |\n| Samsung Galaxy A04 | Technology     | HSPA 42.2/5.76 Mbps, LTE-A                                 |\n| Samsung Galaxy A04 | 2G             | 850/900/1800/1900                                          |\n| Samsung Galaxy A04 | 3G             | 850/900/1900/2100                                          |\n| Samsung Galaxy A04 | 4G             | 850/900/1900/2100/2600                                     |\n| Samsung Galaxy A04 | 5G             | -                                                          |\n| Samsung Galaxy A04 | ความเร็ว        | HSPA 42.2/5.76 Mbps, LTE-A                                 |\n| Samsung Galaxy A04 | ประเภท         | PLS LCD                                                    |\n| Samsung Galaxy A04 | ขนาดหน้าจอ      | 6.50\n                                         นิ้ว          |\n| Samsung Galaxy A04 | ความละเอียด     | 720 x 1600 pixels                                          |\n| Samsung Galaxy A04 | ระบบปฏิบัติการ    | Android 12                                                 |\n| Samsung Galaxy A04 | ชิปประมวลผล     | Spreadtrum Unisoc SC9863A 1.6 GHz                          |\n| Samsung Galaxy A04 | ชิปกราฟิก        | PowerVR GE8322                                             |\n| Samsung Galaxy A04 | หน่วยความจำ     | 3 GB                                                       |\n| Samsung Galaxy A04 | ความจุ          | 32 GB                                                      |\n| Samsung Galaxy A04 | Memory Card    | microSD (1)                                                |\n| Samsung Galaxy A04 | กล้องหลัก        | ตัวที่ 1: 50 MP, f/1.8, (wide), AFตัวที่ 2: 2 MP, f/2.4, (depth) |\n| Samsung Galaxy A04 | ความละเอียดวีดีโอ | 1080p@30fps                                                |\n| Samsung Galaxy A04 | กล้องหน้า        | ตัวที่ 1: 5 MP, f/2.2                                         |\n| Samsung Galaxy A04 | Bluetooth      | 5.0, A2DP, LE                                              |\n| Samsung Galaxy A04 | Wi-Fi          | 802.11 a/b/g/n/ac, dual-b                                  |\n| Samsung Galaxy A04 | USB            | Type-C                                                     |\n| Samsung Galaxy A04 | GPS            | GLONASS, GALILEO, BDS                                      |\n| Samsung Galaxy A04 | NFC            | ไม่รองรับ                                                    |\n| Samsung Galaxy A04 | ความจุ          | 5,000 mAh                                                  |\n| Samsung Galaxy A04 | ประเภท         | \tNon-removable Li-Po Batt                                 |\n\n",
            "text/latex": "A data.frame: 31 × 3\n\\begin{tabular}{lll}\n model & attribute & value\\\\\n <chr> & <chr> & <chr>\\\\\n\\hline\n\t Samsung Galaxy A04 & วันเปิดตัว        & ตุลาคม 2565                                                \\\\\n\t Samsung Galaxy A04 & วันวางจำหน่าย    & ยังไม่วางจำหน่าย                                             \\\\\n\t Samsung Galaxy A04 & ขนาด           & 164.40 x 76.30 x 9.10 มม.                                 \\\\\n\t Samsung Galaxy A04 & น้ำหนัก          & 192 กรัม                                                   \\\\\n\t Samsung Galaxy A04 & วัสดุ            & Glass front, plastic back, plastic frame                  \\\\\n\t Samsung Galaxy A04 & SIM            & รองรับ 2 ซิมการ์ด (nano sim, nano sim)                       \\\\\n\t Samsung Galaxy A04 & Technology     & HSPA 42.2/5.76 Mbps, LTE-A                                \\\\\n\t Samsung Galaxy A04 & 2G             & 850/900/1800/1900                                         \\\\\n\t Samsung Galaxy A04 & 3G             & 850/900/1900/2100                                         \\\\\n\t Samsung Galaxy A04 & 4G             & 850/900/1900/2100/2600                                    \\\\\n\t Samsung Galaxy A04 & 5G             & -                                                         \\\\\n\t Samsung Galaxy A04 & ความเร็ว        & HSPA 42.2/5.76 Mbps, LTE-A                                \\\\\n\t Samsung Galaxy A04 & ประเภท         & PLS LCD                                                   \\\\\n\t Samsung Galaxy A04 & ขนาดหน้าจอ      & 6.50\n                                         นิ้ว         \\\\\n\t Samsung Galaxy A04 & ความละเอียด     & 720 x 1600 pixels                                         \\\\\n\t Samsung Galaxy A04 & ระบบปฏิบัติการ    & Android 12                                                \\\\\n\t Samsung Galaxy A04 & ชิปประมวลผล     & Spreadtrum Unisoc SC9863A 1.6 GHz                         \\\\\n\t Samsung Galaxy A04 & ชิปกราฟิก        & PowerVR GE8322                                            \\\\\n\t Samsung Galaxy A04 & หน่วยความจำ     & 3 GB                                                      \\\\\n\t Samsung Galaxy A04 & ความจุ          & 32 GB                                                     \\\\\n\t Samsung Galaxy A04 & Memory Card    & microSD (1)                                               \\\\\n\t Samsung Galaxy A04 & กล้องหลัก        & ตัวที่ 1: 50 MP, f/1.8, (wide), AFตัวที่ 2: 2 MP, f/2.4, (depth)\\\\\n\t Samsung Galaxy A04 & ความละเอียดวีดีโอ & 1080p@30fps                                               \\\\\n\t Samsung Galaxy A04 & กล้องหน้า        & ตัวที่ 1: 5 MP, f/2.2                                        \\\\\n\t Samsung Galaxy A04 & Bluetooth      & 5.0, A2DP, LE                                             \\\\\n\t Samsung Galaxy A04 & Wi-Fi          & 802.11 a/b/g/n/ac, dual-b                                 \\\\\n\t Samsung Galaxy A04 & USB            & Type-C                                                    \\\\\n\t Samsung Galaxy A04 & GPS            & GLONASS, GALILEO, BDS                                     \\\\\n\t Samsung Galaxy A04 & NFC            & ไม่รองรับ                                                   \\\\\n\t Samsung Galaxy A04 & ความจุ          & 5,000 mAh                                                 \\\\\n\t Samsung Galaxy A04 & ประเภท         & \tNon-removable Li-Po Batt                                \\\\\n\\end{tabular}\n",
            "text/plain": [
              "   model              attribute     \n",
              "1  Samsung Galaxy A04 วันเปิดตัว       \n",
              "2  Samsung Galaxy A04 วันวางจำหน่าย   \n",
              "3  Samsung Galaxy A04 ขนาด          \n",
              "4  Samsung Galaxy A04 น้ำหนัก         \n",
              "5  Samsung Galaxy A04 วัสดุ           \n",
              "6  Samsung Galaxy A04 SIM           \n",
              "7  Samsung Galaxy A04 Technology    \n",
              "8  Samsung Galaxy A04 2G            \n",
              "9  Samsung Galaxy A04 3G            \n",
              "10 Samsung Galaxy A04 4G            \n",
              "11 Samsung Galaxy A04 5G            \n",
              "12 Samsung Galaxy A04 ความเร็ว       \n",
              "13 Samsung Galaxy A04 ประเภท        \n",
              "14 Samsung Galaxy A04 ขนาดหน้าจอ     \n",
              "15 Samsung Galaxy A04 ความละเอียด    \n",
              "16 Samsung Galaxy A04 ระบบปฏิบัติการ   \n",
              "17 Samsung Galaxy A04 ชิปประมวลผล    \n",
              "18 Samsung Galaxy A04 ชิปกราฟิก       \n",
              "19 Samsung Galaxy A04 หน่วยความจำ    \n",
              "20 Samsung Galaxy A04 ความจุ         \n",
              "21 Samsung Galaxy A04 Memory Card   \n",
              "22 Samsung Galaxy A04 กล้องหลัก       \n",
              "23 Samsung Galaxy A04 ความละเอียดวีดีโอ\n",
              "24 Samsung Galaxy A04 กล้องหน้า       \n",
              "25 Samsung Galaxy A04 Bluetooth     \n",
              "26 Samsung Galaxy A04 Wi-Fi         \n",
              "27 Samsung Galaxy A04 USB           \n",
              "28 Samsung Galaxy A04 GPS           \n",
              "29 Samsung Galaxy A04 NFC           \n",
              "30 Samsung Galaxy A04 ความจุ         \n",
              "31 Samsung Galaxy A04 ประเภท        \n",
              "   value                                                     \n",
              "1  ตุลาคม 2565                                                \n",
              "2  ยังไม่วางจำหน่าย                                             \n",
              "3  164.40 x 76.30 x 9.10 มม.                                 \n",
              "4  192 กรัม                                                   \n",
              "5  Glass front, plastic back, plastic frame                  \n",
              "6  รองรับ 2 ซิมการ์ด (nano sim, nano sim)                       \n",
              "7  HSPA 42.2/5.76 Mbps, LTE-A                                \n",
              "8  850/900/1800/1900                                         \n",
              "9  850/900/1900/2100                                         \n",
              "10 850/900/1900/2100/2600                                    \n",
              "11 -                                                         \n",
              "12 HSPA 42.2/5.76 Mbps, LTE-A                                \n",
              "13 PLS LCD                                                   \n",
              "14 6.50\\n                                         นิ้ว         \n",
              "15 720 x 1600 pixels                                         \n",
              "16 Android 12                                                \n",
              "17 Spreadtrum Unisoc SC9863A 1.6 GHz                         \n",
              "18 PowerVR GE8322                                            \n",
              "19 3 GB                                                      \n",
              "20 32 GB                                                     \n",
              "21 microSD (1)                                               \n",
              "22 ตัวที่ 1: 50 MP, f/1.8, (wide), AFตัวที่ 2: 2 MP, f/2.4, (depth)\n",
              "23 1080p@30fps                                               \n",
              "24 ตัวที่ 1: 5 MP, f/2.2                                        \n",
              "25 5.0, A2DP, LE                                             \n",
              "26 802.11 a/b/g/n/ac, dual-b                                 \n",
              "27 Type-C                                                    \n",
              "28 GLONASS, GALILEO, BDS                                     \n",
              "29 ไม่รองรับ                                                   \n",
              "30 5,000 mAh                                                 \n",
              "31 \\tNon-removable Li-Po Batt                                "
            ]
          },
          "metadata": {}
        }
      ]
    },
    {
      "cell_type": "code",
      "source": [
        "# pivot wider\n",
        "# values_fn = function(x) paste(x, collapse=\",\") means when there are duplicated values, concatenate them with comma and make its length to be 1\n",
        "pivot_wider(test1, names_from = attribute, values_from = value,  values_fn = function(x) paste(x, collapse=\",\"))"
      ],
      "metadata": {
        "colab": {
          "base_uri": "https://localhost:8080/",
          "height": 251
        },
        "id": "IfRmBw3lak6D",
        "outputId": "38e1b0cf-f749-460f-86e4-14e6b561c257"
      },
      "execution_count": 85,
      "outputs": [
        {
          "output_type": "display_data",
          "data": {
            "text/html": [
              "<table class=\"dataframe\">\n",
              "<caption>A tibble: 1 × 30</caption>\n",
              "<thead>\n",
              "\t<tr><th scope=col>model</th><th scope=col>วันเปิดตัว</th><th scope=col>วันวางจำหน่าย</th><th scope=col>ขนาด</th><th scope=col>น้ำหนัก</th><th scope=col>วัสดุ</th><th scope=col>SIM</th><th scope=col>Technology</th><th scope=col>2G</th><th scope=col>3G</th><th scope=col>⋯</th><th scope=col>ความจุ</th><th scope=col>Memory Card</th><th scope=col>กล้องหลัก</th><th scope=col>ความละเอียดวีดีโอ</th><th scope=col>กล้องหน้า</th><th scope=col>Bluetooth</th><th scope=col>Wi-Fi</th><th scope=col>USB</th><th scope=col>GPS</th><th scope=col>NFC</th></tr>\n",
              "\t<tr><th scope=col>&lt;chr&gt;</th><th scope=col>&lt;chr&gt;</th><th scope=col>&lt;chr&gt;</th><th scope=col>&lt;chr&gt;</th><th scope=col>&lt;chr&gt;</th><th scope=col>&lt;chr&gt;</th><th scope=col>&lt;chr&gt;</th><th scope=col>&lt;chr&gt;</th><th scope=col>&lt;chr&gt;</th><th scope=col>&lt;chr&gt;</th><th scope=col>⋯</th><th scope=col>&lt;chr&gt;</th><th scope=col>&lt;chr&gt;</th><th scope=col>&lt;chr&gt;</th><th scope=col>&lt;chr&gt;</th><th scope=col>&lt;chr&gt;</th><th scope=col>&lt;chr&gt;</th><th scope=col>&lt;chr&gt;</th><th scope=col>&lt;chr&gt;</th><th scope=col>&lt;chr&gt;</th><th scope=col>&lt;chr&gt;</th></tr>\n",
              "</thead>\n",
              "<tbody>\n",
              "\t<tr><td>Samsung Galaxy A04</td><td>ตุลาคม 2565</td><td>ยังไม่วางจำหน่าย</td><td>164.40 x 76.30 x 9.10 มม.</td><td>192 กรัม</td><td>Glass front, plastic back, plastic frame</td><td>รองรับ 2 ซิมการ์ด (nano sim, nano sim)</td><td>HSPA 42.2/5.76 Mbps, LTE-A</td><td>850/900/1800/1900</td><td>850/900/1900/2100</td><td>⋯</td><td>32 GB,5,000 mAh</td><td>microSD (1)</td><td>ตัวที่ 1: 50 MP, f/1.8, (wide), AFตัวที่ 2: 2 MP, f/2.4, (depth)</td><td>1080p@30fps</td><td>ตัวที่ 1: 5 MP, f/2.2</td><td>5.0, A2DP, LE</td><td>802.11 a/b/g/n/ac, dual-b</td><td>Type-C</td><td>GLONASS, GALILEO, BDS</td><td>ไม่รองรับ</td></tr>\n",
              "</tbody>\n",
              "</table>\n"
            ],
            "text/markdown": "\nA tibble: 1 × 30\n\n| model &lt;chr&gt; | วันเปิดตัว &lt;chr&gt; | วันวางจำหน่าย &lt;chr&gt; | ขนาด &lt;chr&gt; | น้ำหนัก &lt;chr&gt; | วัสดุ &lt;chr&gt; | SIM &lt;chr&gt; | Technology &lt;chr&gt; | 2G &lt;chr&gt; | 3G &lt;chr&gt; | ⋯ ⋯ | ความจุ &lt;chr&gt; | Memory Card &lt;chr&gt; | กล้องหลัก &lt;chr&gt; | ความละเอียดวีดีโอ &lt;chr&gt; | กล้องหน้า &lt;chr&gt; | Bluetooth &lt;chr&gt; | Wi-Fi &lt;chr&gt; | USB &lt;chr&gt; | GPS &lt;chr&gt; | NFC &lt;chr&gt; |\n|---|---|---|---|---|---|---|---|---|---|---|---|---|---|---|---|---|---|---|---|---|\n| Samsung Galaxy A04 | ตุลาคม 2565 | ยังไม่วางจำหน่าย | 164.40 x 76.30 x 9.10 มม. | 192 กรัม | Glass front, plastic back, plastic frame | รองรับ 2 ซิมการ์ด (nano sim, nano sim) | HSPA 42.2/5.76 Mbps, LTE-A | 850/900/1800/1900 | 850/900/1900/2100 | ⋯ | 32 GB,5,000 mAh | microSD (1) | ตัวที่ 1: 50 MP, f/1.8, (wide), AFตัวที่ 2: 2 MP, f/2.4, (depth) | 1080p@30fps | ตัวที่ 1: 5 MP, f/2.2 | 5.0, A2DP, LE | 802.11 a/b/g/n/ac, dual-b | Type-C | GLONASS, GALILEO, BDS | ไม่รองรับ |\n\n",
            "text/latex": "A tibble: 1 × 30\n\\begin{tabular}{lllllllllllllllllllll}\n model & วันเปิดตัว & วันวางจำหน่าย & ขนาด & น้ำหนัก & วัสดุ & SIM & Technology & 2G & 3G & ⋯ & ความจุ & Memory Card & กล้องหลัก & ความละเอียดวีดีโอ & กล้องหน้า & Bluetooth & Wi-Fi & USB & GPS & NFC\\\\\n <chr> & <chr> & <chr> & <chr> & <chr> & <chr> & <chr> & <chr> & <chr> & <chr> & ⋯ & <chr> & <chr> & <chr> & <chr> & <chr> & <chr> & <chr> & <chr> & <chr> & <chr>\\\\\n\\hline\n\t Samsung Galaxy A04 & ตุลาคม 2565 & ยังไม่วางจำหน่าย & 164.40 x 76.30 x 9.10 มม. & 192 กรัม & Glass front, plastic back, plastic frame & รองรับ 2 ซิมการ์ด (nano sim, nano sim) & HSPA 42.2/5.76 Mbps, LTE-A & 850/900/1800/1900 & 850/900/1900/2100 & ⋯ & 32 GB,5,000 mAh & microSD (1) & ตัวที่ 1: 50 MP, f/1.8, (wide), AFตัวที่ 2: 2 MP, f/2.4, (depth) & 1080p@30fps & ตัวที่ 1: 5 MP, f/2.2 & 5.0, A2DP, LE & 802.11 a/b/g/n/ac, dual-b & Type-C & GLONASS, GALILEO, BDS & ไม่รองรับ\\\\\n\\end{tabular}\n",
            "text/plain": [
              "  model              วันเปิดตัว    วันวางจำหน่าย   ขนาด                      น้ำหนัก  \n",
              "1 Samsung Galaxy A04 ตุลาคม 2565 ยังไม่วางจำหน่าย 164.40 x 76.30 x 9.10 มม. 192 กรัม\n",
              "  วัสดุ                                      SIM                                \n",
              "1 Glass front, plastic back, plastic frame รองรับ 2 ซิมการ์ด (nano sim, nano sim)\n",
              "  Technology                 2G                3G                ⋯\n",
              "1 HSPA 42.2/5.76 Mbps, LTE-A 850/900/1800/1900 850/900/1900/2100 ⋯\n",
              "  ความจุ           Memory Card\n",
              "1 32 GB,5,000 mAh microSD (1)\n",
              "  กล้องหลัก                                                    ความละเอียดวีดีโอ\n",
              "1 ตัวที่ 1: 50 MP, f/1.8, (wide), AFตัวที่ 2: 2 MP, f/2.4, (depth) 1080p@30fps   \n",
              "  กล้องหน้า            Bluetooth     Wi-Fi                     USB   \n",
              "1 ตัวที่ 1: 5 MP, f/2.2 5.0, A2DP, LE 802.11 a/b/g/n/ac, dual-b Type-C\n",
              "  GPS                   NFC    \n",
              "1 GLONASS, GALILEO, BDS ไม่รองรับ"
            ]
          },
          "metadata": {}
        }
      ]
    },
    {
      "cell_type": "markdown",
      "source": [
        "## All Samsung smartphones"
      ],
      "metadata": {
        "id": "CTiZrZfOrpQ9"
      }
    },
    {
      "cell_type": "markdown",
      "source": [
        "### Find all model pages of Samsung smartphone"
      ],
      "metadata": {
        "id": "3QmaX0BORa0-"
      }
    },
    {
      "cell_type": "code",
      "source": [
        "# page of all Samsung smartphone\n",
        "samsung_url <- read_html(\"https://specphone.com/brand/Samsung\")"
      ],
      "metadata": {
        "id": "Xff-w5QJrErf"
      },
      "execution_count": 86,
      "outputs": []
    },
    {
      "cell_type": "code",
      "source": [
        "# links to all samsung smartphone\n",
        "links <- samsung_url %>%\n",
        "  html_nodes(\"ul.mobile-brand-list a\") %>% #css selector: find <a> in <li>\n",
        "  html_attr(\"href\")"
      ],
      "metadata": {
        "id": "wHtG3a_ps3L2"
      },
      "execution_count": 87,
      "outputs": []
    },
    {
      "cell_type": "code",
      "source": [
        "links"
      ],
      "metadata": {
        "colab": {
          "base_uri": "https://localhost:8080/",
          "height": 190
        },
        "id": "0yq8sCYmtMaF",
        "outputId": "a229db66-019b-4dc4-fe41-b22c3a03bdf0"
      },
      "execution_count": 88,
      "outputs": [
        {
          "output_type": "display_data",
          "data": {
            "text/html": [
              "<style>\n",
              ".list-inline {list-style: none; margin:0; padding: 0}\n",
              ".list-inline>li {display: inline-block}\n",
              ".list-inline>li:not(:last-child)::after {content: \"\\00b7\"; padding: 0 .5ex}\n",
              "</style>\n",
              "<ol class=list-inline><li>'/Samsung-Galaxy-A14.html'</li><li>'/Samsung-Galaxy-M13.html'</li><li>'/Samsung-Galaxy-A23.html'</li><li>'/Samsung-Galaxy-A13.html'</li><li>'/Samsung-Galaxy-M32-5G.html'</li><li>'/Samsung-Galaxy-A12-Nacho.html'</li><li>'/Samsung-Galaxy-Pocket-Neo.html'</li><li>'/Samsung-Galaxy-Young.html'</li><li>'/Samsung-Galaxy-J1-Mini.html'</li><li>'/Samsung-Galaxy-A01-Core-1-16GB.html'</li><li>'/Samsung-Galaxy-V-PLUS.html'</li><li>'/Samsung-Galaxy-Young-2.html'</li><li>'/Samsung-Galaxy-A11.html'</li><li>'/Samsung-Galaxy-J2-Pro-2018.html'</li><li>'/Samsung-Galaxy-A12-2021.html'</li><li>'/Samsung-Galaxy-A21s-3-32GB.html'</li><li>'/Samsung-Galaxy-J5.html'</li><li>'/Samsung-Galaxy-J4.html'</li><li>'/Samsung-Galaxy-Core-2-Duos.html'</li><li>'/Samsung-Galaxy-Ace-Plus.html'</li><li>'/Samsung-Galaxy-A20.html'</li><li>'/Samsung-Galaxy-Chat.html'</li><li>'/Samsung-Galaxy-Gio.html'</li><li>'/Samsung-Galaxy-Tab-A7-Lite-LTE.html'</li><li>'/Samsung-Galaxy-Tab-A-10.5WIFI.html'</li><li>'/Samsung-Galaxy-Alpha.html'</li><li>'/Samsung-Galaxy-S3-Slim.html'</li><li>'/Samsung-Galaxy-S4-zoom.html'</li><li>'/Samsung-Galaxy-Xcover-2.html'</li><li>'/Samsung-Galaxy-Tab-8.9-3G-16GB.html'</li><li>'/Samsung-Galaxy-Tab-A8-LTE-2021.html'</li><li>'/Samsung-Galaxy-A8-2018.html'</li><li>'/Samsung-Galaxy-Tab4-8.0-wifi.html'</li><li>'/Samsung-Galaxy-M33-5G.html'</li><li>'/Samsung-Galaxy-A50.html'</li><li>'/Samsung-Galaxy-E7.html'</li><li>'/Samsung-Galaxy-S6.html'</li><li>'/Samsung-Galaxy-S20-FE.html'</li><li>'/Samsung-Galaxy-Tab-S4-WIFI.html'</li><li>'/Samsung-Galaxy-S7.html'</li><li>'/Samsung-Galaxy-Note-5-Exynos.html'</li><li>'/Samsung-Galaxy-TabPRO-12.2-LTE.html'</li><li>'/Samsung-Galaxy-S4-Active.html'</li><li>'/Samsung-Galaxy-Tab-Active-3.html'</li><li>'/Samsung-Galaxy-Tab-S3-9.7.html'</li><li>'/Samsung-Galaxy-S6-edge.html'</li><li>'/Samsung-Galaxy-Note-4-Exynos.html'</li><li>'/Samsung-Galaxy-Round.html'</li><li>'/Samsung-Galaxy-Note-20-Ultra-5G.html'</li><li>'/Samsung-ATIV-Q.html'</li><li>'/Samsung-ATIV-Smart-PC-PRO.html'</li><li>'/Samsung-Galaxy-S23-Ultra-5G8-256GB.html'</li><li>'/Samsung-Galaxy-S22-Ultra12-128GB.html'</li><li>'/Samsung-Galaxy-Z-Flip-5G.html'</li><li>'/Samsung-Galaxy-Z-Flip.html'</li><li>'/Samsung-Galaxy-Tab-S8-Ultra-5G.html'</li><li>'/Samsung-Galaxy-S21-Ultra-16-512GB.html'</li><li>'/Samsung-Galaxy-S23-Ultra-5G.html'</li><li>'/Samsung-Galaxy-S10-Plus-Ram-12GB.html'</li><li>'/Samsung-Galaxy-Z-Fold-3.html'</li></ol>\n"
            ],
            "text/markdown": "1. '/Samsung-Galaxy-A14.html'\n2. '/Samsung-Galaxy-M13.html'\n3. '/Samsung-Galaxy-A23.html'\n4. '/Samsung-Galaxy-A13.html'\n5. '/Samsung-Galaxy-M32-5G.html'\n6. '/Samsung-Galaxy-A12-Nacho.html'\n7. '/Samsung-Galaxy-Pocket-Neo.html'\n8. '/Samsung-Galaxy-Young.html'\n9. '/Samsung-Galaxy-J1-Mini.html'\n10. '/Samsung-Galaxy-A01-Core-1-16GB.html'\n11. '/Samsung-Galaxy-V-PLUS.html'\n12. '/Samsung-Galaxy-Young-2.html'\n13. '/Samsung-Galaxy-A11.html'\n14. '/Samsung-Galaxy-J2-Pro-2018.html'\n15. '/Samsung-Galaxy-A12-2021.html'\n16. '/Samsung-Galaxy-A21s-3-32GB.html'\n17. '/Samsung-Galaxy-J5.html'\n18. '/Samsung-Galaxy-J4.html'\n19. '/Samsung-Galaxy-Core-2-Duos.html'\n20. '/Samsung-Galaxy-Ace-Plus.html'\n21. '/Samsung-Galaxy-A20.html'\n22. '/Samsung-Galaxy-Chat.html'\n23. '/Samsung-Galaxy-Gio.html'\n24. '/Samsung-Galaxy-Tab-A7-Lite-LTE.html'\n25. '/Samsung-Galaxy-Tab-A-10.5WIFI.html'\n26. '/Samsung-Galaxy-Alpha.html'\n27. '/Samsung-Galaxy-S3-Slim.html'\n28. '/Samsung-Galaxy-S4-zoom.html'\n29. '/Samsung-Galaxy-Xcover-2.html'\n30. '/Samsung-Galaxy-Tab-8.9-3G-16GB.html'\n31. '/Samsung-Galaxy-Tab-A8-LTE-2021.html'\n32. '/Samsung-Galaxy-A8-2018.html'\n33. '/Samsung-Galaxy-Tab4-8.0-wifi.html'\n34. '/Samsung-Galaxy-M33-5G.html'\n35. '/Samsung-Galaxy-A50.html'\n36. '/Samsung-Galaxy-E7.html'\n37. '/Samsung-Galaxy-S6.html'\n38. '/Samsung-Galaxy-S20-FE.html'\n39. '/Samsung-Galaxy-Tab-S4-WIFI.html'\n40. '/Samsung-Galaxy-S7.html'\n41. '/Samsung-Galaxy-Note-5-Exynos.html'\n42. '/Samsung-Galaxy-TabPRO-12.2-LTE.html'\n43. '/Samsung-Galaxy-S4-Active.html'\n44. '/Samsung-Galaxy-Tab-Active-3.html'\n45. '/Samsung-Galaxy-Tab-S3-9.7.html'\n46. '/Samsung-Galaxy-S6-edge.html'\n47. '/Samsung-Galaxy-Note-4-Exynos.html'\n48. '/Samsung-Galaxy-Round.html'\n49. '/Samsung-Galaxy-Note-20-Ultra-5G.html'\n50. '/Samsung-ATIV-Q.html'\n51. '/Samsung-ATIV-Smart-PC-PRO.html'\n52. '/Samsung-Galaxy-S23-Ultra-5G8-256GB.html'\n53. '/Samsung-Galaxy-S22-Ultra12-128GB.html'\n54. '/Samsung-Galaxy-Z-Flip-5G.html'\n55. '/Samsung-Galaxy-Z-Flip.html'\n56. '/Samsung-Galaxy-Tab-S8-Ultra-5G.html'\n57. '/Samsung-Galaxy-S21-Ultra-16-512GB.html'\n58. '/Samsung-Galaxy-S23-Ultra-5G.html'\n59. '/Samsung-Galaxy-S10-Plus-Ram-12GB.html'\n60. '/Samsung-Galaxy-Z-Fold-3.html'\n\n\n",
            "text/latex": "\\begin{enumerate*}\n\\item '/Samsung-Galaxy-A14.html'\n\\item '/Samsung-Galaxy-M13.html'\n\\item '/Samsung-Galaxy-A23.html'\n\\item '/Samsung-Galaxy-A13.html'\n\\item '/Samsung-Galaxy-M32-5G.html'\n\\item '/Samsung-Galaxy-A12-Nacho.html'\n\\item '/Samsung-Galaxy-Pocket-Neo.html'\n\\item '/Samsung-Galaxy-Young.html'\n\\item '/Samsung-Galaxy-J1-Mini.html'\n\\item '/Samsung-Galaxy-A01-Core-1-16GB.html'\n\\item '/Samsung-Galaxy-V-PLUS.html'\n\\item '/Samsung-Galaxy-Young-2.html'\n\\item '/Samsung-Galaxy-A11.html'\n\\item '/Samsung-Galaxy-J2-Pro-2018.html'\n\\item '/Samsung-Galaxy-A12-2021.html'\n\\item '/Samsung-Galaxy-A21s-3-32GB.html'\n\\item '/Samsung-Galaxy-J5.html'\n\\item '/Samsung-Galaxy-J4.html'\n\\item '/Samsung-Galaxy-Core-2-Duos.html'\n\\item '/Samsung-Galaxy-Ace-Plus.html'\n\\item '/Samsung-Galaxy-A20.html'\n\\item '/Samsung-Galaxy-Chat.html'\n\\item '/Samsung-Galaxy-Gio.html'\n\\item '/Samsung-Galaxy-Tab-A7-Lite-LTE.html'\n\\item '/Samsung-Galaxy-Tab-A-10.5WIFI.html'\n\\item '/Samsung-Galaxy-Alpha.html'\n\\item '/Samsung-Galaxy-S3-Slim.html'\n\\item '/Samsung-Galaxy-S4-zoom.html'\n\\item '/Samsung-Galaxy-Xcover-2.html'\n\\item '/Samsung-Galaxy-Tab-8.9-3G-16GB.html'\n\\item '/Samsung-Galaxy-Tab-A8-LTE-2021.html'\n\\item '/Samsung-Galaxy-A8-2018.html'\n\\item '/Samsung-Galaxy-Tab4-8.0-wifi.html'\n\\item '/Samsung-Galaxy-M33-5G.html'\n\\item '/Samsung-Galaxy-A50.html'\n\\item '/Samsung-Galaxy-E7.html'\n\\item '/Samsung-Galaxy-S6.html'\n\\item '/Samsung-Galaxy-S20-FE.html'\n\\item '/Samsung-Galaxy-Tab-S4-WIFI.html'\n\\item '/Samsung-Galaxy-S7.html'\n\\item '/Samsung-Galaxy-Note-5-Exynos.html'\n\\item '/Samsung-Galaxy-TabPRO-12.2-LTE.html'\n\\item '/Samsung-Galaxy-S4-Active.html'\n\\item '/Samsung-Galaxy-Tab-Active-3.html'\n\\item '/Samsung-Galaxy-Tab-S3-9.7.html'\n\\item '/Samsung-Galaxy-S6-edge.html'\n\\item '/Samsung-Galaxy-Note-4-Exynos.html'\n\\item '/Samsung-Galaxy-Round.html'\n\\item '/Samsung-Galaxy-Note-20-Ultra-5G.html'\n\\item '/Samsung-ATIV-Q.html'\n\\item '/Samsung-ATIV-Smart-PC-PRO.html'\n\\item '/Samsung-Galaxy-S23-Ultra-5G8-256GB.html'\n\\item '/Samsung-Galaxy-S22-Ultra12-128GB.html'\n\\item '/Samsung-Galaxy-Z-Flip-5G.html'\n\\item '/Samsung-Galaxy-Z-Flip.html'\n\\item '/Samsung-Galaxy-Tab-S8-Ultra-5G.html'\n\\item '/Samsung-Galaxy-S21-Ultra-16-512GB.html'\n\\item '/Samsung-Galaxy-S23-Ultra-5G.html'\n\\item '/Samsung-Galaxy-S10-Plus-Ram-12GB.html'\n\\item '/Samsung-Galaxy-Z-Fold-3.html'\n\\end{enumerate*}\n",
            "text/plain": [
              " [1] \"/Samsung-Galaxy-A14.html\"                \n",
              " [2] \"/Samsung-Galaxy-M13.html\"                \n",
              " [3] \"/Samsung-Galaxy-A23.html\"                \n",
              " [4] \"/Samsung-Galaxy-A13.html\"                \n",
              " [5] \"/Samsung-Galaxy-M32-5G.html\"             \n",
              " [6] \"/Samsung-Galaxy-A12-Nacho.html\"          \n",
              " [7] \"/Samsung-Galaxy-Pocket-Neo.html\"         \n",
              " [8] \"/Samsung-Galaxy-Young.html\"              \n",
              " [9] \"/Samsung-Galaxy-J1-Mini.html\"            \n",
              "[10] \"/Samsung-Galaxy-A01-Core-1-16GB.html\"    \n",
              "[11] \"/Samsung-Galaxy-V-PLUS.html\"             \n",
              "[12] \"/Samsung-Galaxy-Young-2.html\"            \n",
              "[13] \"/Samsung-Galaxy-A11.html\"                \n",
              "[14] \"/Samsung-Galaxy-J2-Pro-2018.html\"        \n",
              "[15] \"/Samsung-Galaxy-A12-2021.html\"           \n",
              "[16] \"/Samsung-Galaxy-A21s-3-32GB.html\"        \n",
              "[17] \"/Samsung-Galaxy-J5.html\"                 \n",
              "[18] \"/Samsung-Galaxy-J4.html\"                 \n",
              "[19] \"/Samsung-Galaxy-Core-2-Duos.html\"        \n",
              "[20] \"/Samsung-Galaxy-Ace-Plus.html\"           \n",
              "[21] \"/Samsung-Galaxy-A20.html\"                \n",
              "[22] \"/Samsung-Galaxy-Chat.html\"               \n",
              "[23] \"/Samsung-Galaxy-Gio.html\"                \n",
              "[24] \"/Samsung-Galaxy-Tab-A7-Lite-LTE.html\"    \n",
              "[25] \"/Samsung-Galaxy-Tab-A-10.5WIFI.html\"     \n",
              "[26] \"/Samsung-Galaxy-Alpha.html\"              \n",
              "[27] \"/Samsung-Galaxy-S3-Slim.html\"            \n",
              "[28] \"/Samsung-Galaxy-S4-zoom.html\"            \n",
              "[29] \"/Samsung-Galaxy-Xcover-2.html\"           \n",
              "[30] \"/Samsung-Galaxy-Tab-8.9-3G-16GB.html\"    \n",
              "[31] \"/Samsung-Galaxy-Tab-A8-LTE-2021.html\"    \n",
              "[32] \"/Samsung-Galaxy-A8-2018.html\"            \n",
              "[33] \"/Samsung-Galaxy-Tab4-8.0-wifi.html\"      \n",
              "[34] \"/Samsung-Galaxy-M33-5G.html\"             \n",
              "[35] \"/Samsung-Galaxy-A50.html\"                \n",
              "[36] \"/Samsung-Galaxy-E7.html\"                 \n",
              "[37] \"/Samsung-Galaxy-S6.html\"                 \n",
              "[38] \"/Samsung-Galaxy-S20-FE.html\"             \n",
              "[39] \"/Samsung-Galaxy-Tab-S4-WIFI.html\"        \n",
              "[40] \"/Samsung-Galaxy-S7.html\"                 \n",
              "[41] \"/Samsung-Galaxy-Note-5-Exynos.html\"      \n",
              "[42] \"/Samsung-Galaxy-TabPRO-12.2-LTE.html\"    \n",
              "[43] \"/Samsung-Galaxy-S4-Active.html\"          \n",
              "[44] \"/Samsung-Galaxy-Tab-Active-3.html\"       \n",
              "[45] \"/Samsung-Galaxy-Tab-S3-9.7.html\"         \n",
              "[46] \"/Samsung-Galaxy-S6-edge.html\"            \n",
              "[47] \"/Samsung-Galaxy-Note-4-Exynos.html\"      \n",
              "[48] \"/Samsung-Galaxy-Round.html\"              \n",
              "[49] \"/Samsung-Galaxy-Note-20-Ultra-5G.html\"   \n",
              "[50] \"/Samsung-ATIV-Q.html\"                    \n",
              "[51] \"/Samsung-ATIV-Smart-PC-PRO.html\"         \n",
              "[52] \"/Samsung-Galaxy-S23-Ultra-5G8-256GB.html\"\n",
              "[53] \"/Samsung-Galaxy-S22-Ultra12-128GB.html\"  \n",
              "[54] \"/Samsung-Galaxy-Z-Flip-5G.html\"          \n",
              "[55] \"/Samsung-Galaxy-Z-Flip.html\"             \n",
              "[56] \"/Samsung-Galaxy-Tab-S8-Ultra-5G.html\"    \n",
              "[57] \"/Samsung-Galaxy-S21-Ultra-16-512GB.html\" \n",
              "[58] \"/Samsung-Galaxy-S23-Ultra-5G.html\"       \n",
              "[59] \"/Samsung-Galaxy-S10-Plus-Ram-12GB.html\"  \n",
              "[60] \"/Samsung-Galaxy-Z-Fold-3.html\"           "
            ]
          },
          "metadata": {}
        }
      ]
    },
    {
      "cell_type": "markdown",
      "source": [
        "**Create link to each page of phone model.**"
      ],
      "metadata": {
        "id": "2Zgjh2AESxRk"
      }
    },
    {
      "cell_type": "code",
      "source": [
        "# create links\n",
        "full_links <- paste0(\"https://specphone.com\", links)\n",
        "full_links"
      ],
      "metadata": {
        "colab": {
          "base_uri": "https://localhost:8080/",
          "height": 295
        },
        "id": "DgKLXFkvuD9V",
        "outputId": "6945c326-5480-4d87-99d4-e71ecc014ab7"
      },
      "execution_count": 89,
      "outputs": [
        {
          "output_type": "display_data",
          "data": {
            "text/html": [
              "<style>\n",
              ".list-inline {list-style: none; margin:0; padding: 0}\n",
              ".list-inline>li {display: inline-block}\n",
              ".list-inline>li:not(:last-child)::after {content: \"\\00b7\"; padding: 0 .5ex}\n",
              "</style>\n",
              "<ol class=list-inline><li>'https://specphone.com/Samsung-Galaxy-A14.html'</li><li>'https://specphone.com/Samsung-Galaxy-M13.html'</li><li>'https://specphone.com/Samsung-Galaxy-A23.html'</li><li>'https://specphone.com/Samsung-Galaxy-A13.html'</li><li>'https://specphone.com/Samsung-Galaxy-M32-5G.html'</li><li>'https://specphone.com/Samsung-Galaxy-A12-Nacho.html'</li><li>'https://specphone.com/Samsung-Galaxy-Pocket-Neo.html'</li><li>'https://specphone.com/Samsung-Galaxy-Young.html'</li><li>'https://specphone.com/Samsung-Galaxy-J1-Mini.html'</li><li>'https://specphone.com/Samsung-Galaxy-A01-Core-1-16GB.html'</li><li>'https://specphone.com/Samsung-Galaxy-V-PLUS.html'</li><li>'https://specphone.com/Samsung-Galaxy-Young-2.html'</li><li>'https://specphone.com/Samsung-Galaxy-A11.html'</li><li>'https://specphone.com/Samsung-Galaxy-J2-Pro-2018.html'</li><li>'https://specphone.com/Samsung-Galaxy-A12-2021.html'</li><li>'https://specphone.com/Samsung-Galaxy-A21s-3-32GB.html'</li><li>'https://specphone.com/Samsung-Galaxy-J5.html'</li><li>'https://specphone.com/Samsung-Galaxy-J4.html'</li><li>'https://specphone.com/Samsung-Galaxy-Core-2-Duos.html'</li><li>'https://specphone.com/Samsung-Galaxy-Ace-Plus.html'</li><li>'https://specphone.com/Samsung-Galaxy-A20.html'</li><li>'https://specphone.com/Samsung-Galaxy-Chat.html'</li><li>'https://specphone.com/Samsung-Galaxy-Gio.html'</li><li>'https://specphone.com/Samsung-Galaxy-Tab-A7-Lite-LTE.html'</li><li>'https://specphone.com/Samsung-Galaxy-Tab-A-10.5WIFI.html'</li><li>'https://specphone.com/Samsung-Galaxy-Alpha.html'</li><li>'https://specphone.com/Samsung-Galaxy-S3-Slim.html'</li><li>'https://specphone.com/Samsung-Galaxy-S4-zoom.html'</li><li>'https://specphone.com/Samsung-Galaxy-Xcover-2.html'</li><li>'https://specphone.com/Samsung-Galaxy-Tab-8.9-3G-16GB.html'</li><li>'https://specphone.com/Samsung-Galaxy-Tab-A8-LTE-2021.html'</li><li>'https://specphone.com/Samsung-Galaxy-A8-2018.html'</li><li>'https://specphone.com/Samsung-Galaxy-Tab4-8.0-wifi.html'</li><li>'https://specphone.com/Samsung-Galaxy-M33-5G.html'</li><li>'https://specphone.com/Samsung-Galaxy-A50.html'</li><li>'https://specphone.com/Samsung-Galaxy-E7.html'</li><li>'https://specphone.com/Samsung-Galaxy-S6.html'</li><li>'https://specphone.com/Samsung-Galaxy-S20-FE.html'</li><li>'https://specphone.com/Samsung-Galaxy-Tab-S4-WIFI.html'</li><li>'https://specphone.com/Samsung-Galaxy-S7.html'</li><li>'https://specphone.com/Samsung-Galaxy-Note-5-Exynos.html'</li><li>'https://specphone.com/Samsung-Galaxy-TabPRO-12.2-LTE.html'</li><li>'https://specphone.com/Samsung-Galaxy-S4-Active.html'</li><li>'https://specphone.com/Samsung-Galaxy-Tab-Active-3.html'</li><li>'https://specphone.com/Samsung-Galaxy-Tab-S3-9.7.html'</li><li>'https://specphone.com/Samsung-Galaxy-S6-edge.html'</li><li>'https://specphone.com/Samsung-Galaxy-Note-4-Exynos.html'</li><li>'https://specphone.com/Samsung-Galaxy-Round.html'</li><li>'https://specphone.com/Samsung-Galaxy-Note-20-Ultra-5G.html'</li><li>'https://specphone.com/Samsung-ATIV-Q.html'</li><li>'https://specphone.com/Samsung-ATIV-Smart-PC-PRO.html'</li><li>'https://specphone.com/Samsung-Galaxy-S23-Ultra-5G8-256GB.html'</li><li>'https://specphone.com/Samsung-Galaxy-S22-Ultra12-128GB.html'</li><li>'https://specphone.com/Samsung-Galaxy-Z-Flip-5G.html'</li><li>'https://specphone.com/Samsung-Galaxy-Z-Flip.html'</li><li>'https://specphone.com/Samsung-Galaxy-Tab-S8-Ultra-5G.html'</li><li>'https://specphone.com/Samsung-Galaxy-S21-Ultra-16-512GB.html'</li><li>'https://specphone.com/Samsung-Galaxy-S23-Ultra-5G.html'</li><li>'https://specphone.com/Samsung-Galaxy-S10-Plus-Ram-12GB.html'</li><li>'https://specphone.com/Samsung-Galaxy-Z-Fold-3.html'</li></ol>\n"
            ],
            "text/markdown": "1. 'https://specphone.com/Samsung-Galaxy-A14.html'\n2. 'https://specphone.com/Samsung-Galaxy-M13.html'\n3. 'https://specphone.com/Samsung-Galaxy-A23.html'\n4. 'https://specphone.com/Samsung-Galaxy-A13.html'\n5. 'https://specphone.com/Samsung-Galaxy-M32-5G.html'\n6. 'https://specphone.com/Samsung-Galaxy-A12-Nacho.html'\n7. 'https://specphone.com/Samsung-Galaxy-Pocket-Neo.html'\n8. 'https://specphone.com/Samsung-Galaxy-Young.html'\n9. 'https://specphone.com/Samsung-Galaxy-J1-Mini.html'\n10. 'https://specphone.com/Samsung-Galaxy-A01-Core-1-16GB.html'\n11. 'https://specphone.com/Samsung-Galaxy-V-PLUS.html'\n12. 'https://specphone.com/Samsung-Galaxy-Young-2.html'\n13. 'https://specphone.com/Samsung-Galaxy-A11.html'\n14. 'https://specphone.com/Samsung-Galaxy-J2-Pro-2018.html'\n15. 'https://specphone.com/Samsung-Galaxy-A12-2021.html'\n16. 'https://specphone.com/Samsung-Galaxy-A21s-3-32GB.html'\n17. 'https://specphone.com/Samsung-Galaxy-J5.html'\n18. 'https://specphone.com/Samsung-Galaxy-J4.html'\n19. 'https://specphone.com/Samsung-Galaxy-Core-2-Duos.html'\n20. 'https://specphone.com/Samsung-Galaxy-Ace-Plus.html'\n21. 'https://specphone.com/Samsung-Galaxy-A20.html'\n22. 'https://specphone.com/Samsung-Galaxy-Chat.html'\n23. 'https://specphone.com/Samsung-Galaxy-Gio.html'\n24. 'https://specphone.com/Samsung-Galaxy-Tab-A7-Lite-LTE.html'\n25. 'https://specphone.com/Samsung-Galaxy-Tab-A-10.5WIFI.html'\n26. 'https://specphone.com/Samsung-Galaxy-Alpha.html'\n27. 'https://specphone.com/Samsung-Galaxy-S3-Slim.html'\n28. 'https://specphone.com/Samsung-Galaxy-S4-zoom.html'\n29. 'https://specphone.com/Samsung-Galaxy-Xcover-2.html'\n30. 'https://specphone.com/Samsung-Galaxy-Tab-8.9-3G-16GB.html'\n31. 'https://specphone.com/Samsung-Galaxy-Tab-A8-LTE-2021.html'\n32. 'https://specphone.com/Samsung-Galaxy-A8-2018.html'\n33. 'https://specphone.com/Samsung-Galaxy-Tab4-8.0-wifi.html'\n34. 'https://specphone.com/Samsung-Galaxy-M33-5G.html'\n35. 'https://specphone.com/Samsung-Galaxy-A50.html'\n36. 'https://specphone.com/Samsung-Galaxy-E7.html'\n37. 'https://specphone.com/Samsung-Galaxy-S6.html'\n38. 'https://specphone.com/Samsung-Galaxy-S20-FE.html'\n39. 'https://specphone.com/Samsung-Galaxy-Tab-S4-WIFI.html'\n40. 'https://specphone.com/Samsung-Galaxy-S7.html'\n41. 'https://specphone.com/Samsung-Galaxy-Note-5-Exynos.html'\n42. 'https://specphone.com/Samsung-Galaxy-TabPRO-12.2-LTE.html'\n43. 'https://specphone.com/Samsung-Galaxy-S4-Active.html'\n44. 'https://specphone.com/Samsung-Galaxy-Tab-Active-3.html'\n45. 'https://specphone.com/Samsung-Galaxy-Tab-S3-9.7.html'\n46. 'https://specphone.com/Samsung-Galaxy-S6-edge.html'\n47. 'https://specphone.com/Samsung-Galaxy-Note-4-Exynos.html'\n48. 'https://specphone.com/Samsung-Galaxy-Round.html'\n49. 'https://specphone.com/Samsung-Galaxy-Note-20-Ultra-5G.html'\n50. 'https://specphone.com/Samsung-ATIV-Q.html'\n51. 'https://specphone.com/Samsung-ATIV-Smart-PC-PRO.html'\n52. 'https://specphone.com/Samsung-Galaxy-S23-Ultra-5G8-256GB.html'\n53. 'https://specphone.com/Samsung-Galaxy-S22-Ultra12-128GB.html'\n54. 'https://specphone.com/Samsung-Galaxy-Z-Flip-5G.html'\n55. 'https://specphone.com/Samsung-Galaxy-Z-Flip.html'\n56. 'https://specphone.com/Samsung-Galaxy-Tab-S8-Ultra-5G.html'\n57. 'https://specphone.com/Samsung-Galaxy-S21-Ultra-16-512GB.html'\n58. 'https://specphone.com/Samsung-Galaxy-S23-Ultra-5G.html'\n59. 'https://specphone.com/Samsung-Galaxy-S10-Plus-Ram-12GB.html'\n60. 'https://specphone.com/Samsung-Galaxy-Z-Fold-3.html'\n\n\n",
            "text/latex": "\\begin{enumerate*}\n\\item 'https://specphone.com/Samsung-Galaxy-A14.html'\n\\item 'https://specphone.com/Samsung-Galaxy-M13.html'\n\\item 'https://specphone.com/Samsung-Galaxy-A23.html'\n\\item 'https://specphone.com/Samsung-Galaxy-A13.html'\n\\item 'https://specphone.com/Samsung-Galaxy-M32-5G.html'\n\\item 'https://specphone.com/Samsung-Galaxy-A12-Nacho.html'\n\\item 'https://specphone.com/Samsung-Galaxy-Pocket-Neo.html'\n\\item 'https://specphone.com/Samsung-Galaxy-Young.html'\n\\item 'https://specphone.com/Samsung-Galaxy-J1-Mini.html'\n\\item 'https://specphone.com/Samsung-Galaxy-A01-Core-1-16GB.html'\n\\item 'https://specphone.com/Samsung-Galaxy-V-PLUS.html'\n\\item 'https://specphone.com/Samsung-Galaxy-Young-2.html'\n\\item 'https://specphone.com/Samsung-Galaxy-A11.html'\n\\item 'https://specphone.com/Samsung-Galaxy-J2-Pro-2018.html'\n\\item 'https://specphone.com/Samsung-Galaxy-A12-2021.html'\n\\item 'https://specphone.com/Samsung-Galaxy-A21s-3-32GB.html'\n\\item 'https://specphone.com/Samsung-Galaxy-J5.html'\n\\item 'https://specphone.com/Samsung-Galaxy-J4.html'\n\\item 'https://specphone.com/Samsung-Galaxy-Core-2-Duos.html'\n\\item 'https://specphone.com/Samsung-Galaxy-Ace-Plus.html'\n\\item 'https://specphone.com/Samsung-Galaxy-A20.html'\n\\item 'https://specphone.com/Samsung-Galaxy-Chat.html'\n\\item 'https://specphone.com/Samsung-Galaxy-Gio.html'\n\\item 'https://specphone.com/Samsung-Galaxy-Tab-A7-Lite-LTE.html'\n\\item 'https://specphone.com/Samsung-Galaxy-Tab-A-10.5WIFI.html'\n\\item 'https://specphone.com/Samsung-Galaxy-Alpha.html'\n\\item 'https://specphone.com/Samsung-Galaxy-S3-Slim.html'\n\\item 'https://specphone.com/Samsung-Galaxy-S4-zoom.html'\n\\item 'https://specphone.com/Samsung-Galaxy-Xcover-2.html'\n\\item 'https://specphone.com/Samsung-Galaxy-Tab-8.9-3G-16GB.html'\n\\item 'https://specphone.com/Samsung-Galaxy-Tab-A8-LTE-2021.html'\n\\item 'https://specphone.com/Samsung-Galaxy-A8-2018.html'\n\\item 'https://specphone.com/Samsung-Galaxy-Tab4-8.0-wifi.html'\n\\item 'https://specphone.com/Samsung-Galaxy-M33-5G.html'\n\\item 'https://specphone.com/Samsung-Galaxy-A50.html'\n\\item 'https://specphone.com/Samsung-Galaxy-E7.html'\n\\item 'https://specphone.com/Samsung-Galaxy-S6.html'\n\\item 'https://specphone.com/Samsung-Galaxy-S20-FE.html'\n\\item 'https://specphone.com/Samsung-Galaxy-Tab-S4-WIFI.html'\n\\item 'https://specphone.com/Samsung-Galaxy-S7.html'\n\\item 'https://specphone.com/Samsung-Galaxy-Note-5-Exynos.html'\n\\item 'https://specphone.com/Samsung-Galaxy-TabPRO-12.2-LTE.html'\n\\item 'https://specphone.com/Samsung-Galaxy-S4-Active.html'\n\\item 'https://specphone.com/Samsung-Galaxy-Tab-Active-3.html'\n\\item 'https://specphone.com/Samsung-Galaxy-Tab-S3-9.7.html'\n\\item 'https://specphone.com/Samsung-Galaxy-S6-edge.html'\n\\item 'https://specphone.com/Samsung-Galaxy-Note-4-Exynos.html'\n\\item 'https://specphone.com/Samsung-Galaxy-Round.html'\n\\item 'https://specphone.com/Samsung-Galaxy-Note-20-Ultra-5G.html'\n\\item 'https://specphone.com/Samsung-ATIV-Q.html'\n\\item 'https://specphone.com/Samsung-ATIV-Smart-PC-PRO.html'\n\\item 'https://specphone.com/Samsung-Galaxy-S23-Ultra-5G8-256GB.html'\n\\item 'https://specphone.com/Samsung-Galaxy-S22-Ultra12-128GB.html'\n\\item 'https://specphone.com/Samsung-Galaxy-Z-Flip-5G.html'\n\\item 'https://specphone.com/Samsung-Galaxy-Z-Flip.html'\n\\item 'https://specphone.com/Samsung-Galaxy-Tab-S8-Ultra-5G.html'\n\\item 'https://specphone.com/Samsung-Galaxy-S21-Ultra-16-512GB.html'\n\\item 'https://specphone.com/Samsung-Galaxy-S23-Ultra-5G.html'\n\\item 'https://specphone.com/Samsung-Galaxy-S10-Plus-Ram-12GB.html'\n\\item 'https://specphone.com/Samsung-Galaxy-Z-Fold-3.html'\n\\end{enumerate*}\n",
            "text/plain": [
              " [1] \"https://specphone.com/Samsung-Galaxy-A14.html\"                \n",
              " [2] \"https://specphone.com/Samsung-Galaxy-M13.html\"                \n",
              " [3] \"https://specphone.com/Samsung-Galaxy-A23.html\"                \n",
              " [4] \"https://specphone.com/Samsung-Galaxy-A13.html\"                \n",
              " [5] \"https://specphone.com/Samsung-Galaxy-M32-5G.html\"             \n",
              " [6] \"https://specphone.com/Samsung-Galaxy-A12-Nacho.html\"          \n",
              " [7] \"https://specphone.com/Samsung-Galaxy-Pocket-Neo.html\"         \n",
              " [8] \"https://specphone.com/Samsung-Galaxy-Young.html\"              \n",
              " [9] \"https://specphone.com/Samsung-Galaxy-J1-Mini.html\"            \n",
              "[10] \"https://specphone.com/Samsung-Galaxy-A01-Core-1-16GB.html\"    \n",
              "[11] \"https://specphone.com/Samsung-Galaxy-V-PLUS.html\"             \n",
              "[12] \"https://specphone.com/Samsung-Galaxy-Young-2.html\"            \n",
              "[13] \"https://specphone.com/Samsung-Galaxy-A11.html\"                \n",
              "[14] \"https://specphone.com/Samsung-Galaxy-J2-Pro-2018.html\"        \n",
              "[15] \"https://specphone.com/Samsung-Galaxy-A12-2021.html\"           \n",
              "[16] \"https://specphone.com/Samsung-Galaxy-A21s-3-32GB.html\"        \n",
              "[17] \"https://specphone.com/Samsung-Galaxy-J5.html\"                 \n",
              "[18] \"https://specphone.com/Samsung-Galaxy-J4.html\"                 \n",
              "[19] \"https://specphone.com/Samsung-Galaxy-Core-2-Duos.html\"        \n",
              "[20] \"https://specphone.com/Samsung-Galaxy-Ace-Plus.html\"           \n",
              "[21] \"https://specphone.com/Samsung-Galaxy-A20.html\"                \n",
              "[22] \"https://specphone.com/Samsung-Galaxy-Chat.html\"               \n",
              "[23] \"https://specphone.com/Samsung-Galaxy-Gio.html\"                \n",
              "[24] \"https://specphone.com/Samsung-Galaxy-Tab-A7-Lite-LTE.html\"    \n",
              "[25] \"https://specphone.com/Samsung-Galaxy-Tab-A-10.5WIFI.html\"     \n",
              "[26] \"https://specphone.com/Samsung-Galaxy-Alpha.html\"              \n",
              "[27] \"https://specphone.com/Samsung-Galaxy-S3-Slim.html\"            \n",
              "[28] \"https://specphone.com/Samsung-Galaxy-S4-zoom.html\"            \n",
              "[29] \"https://specphone.com/Samsung-Galaxy-Xcover-2.html\"           \n",
              "[30] \"https://specphone.com/Samsung-Galaxy-Tab-8.9-3G-16GB.html\"    \n",
              "[31] \"https://specphone.com/Samsung-Galaxy-Tab-A8-LTE-2021.html\"    \n",
              "[32] \"https://specphone.com/Samsung-Galaxy-A8-2018.html\"            \n",
              "[33] \"https://specphone.com/Samsung-Galaxy-Tab4-8.0-wifi.html\"      \n",
              "[34] \"https://specphone.com/Samsung-Galaxy-M33-5G.html\"             \n",
              "[35] \"https://specphone.com/Samsung-Galaxy-A50.html\"                \n",
              "[36] \"https://specphone.com/Samsung-Galaxy-E7.html\"                 \n",
              "[37] \"https://specphone.com/Samsung-Galaxy-S6.html\"                 \n",
              "[38] \"https://specphone.com/Samsung-Galaxy-S20-FE.html\"             \n",
              "[39] \"https://specphone.com/Samsung-Galaxy-Tab-S4-WIFI.html\"        \n",
              "[40] \"https://specphone.com/Samsung-Galaxy-S7.html\"                 \n",
              "[41] \"https://specphone.com/Samsung-Galaxy-Note-5-Exynos.html\"      \n",
              "[42] \"https://specphone.com/Samsung-Galaxy-TabPRO-12.2-LTE.html\"    \n",
              "[43] \"https://specphone.com/Samsung-Galaxy-S4-Active.html\"          \n",
              "[44] \"https://specphone.com/Samsung-Galaxy-Tab-Active-3.html\"       \n",
              "[45] \"https://specphone.com/Samsung-Galaxy-Tab-S3-9.7.html\"         \n",
              "[46] \"https://specphone.com/Samsung-Galaxy-S6-edge.html\"            \n",
              "[47] \"https://specphone.com/Samsung-Galaxy-Note-4-Exynos.html\"      \n",
              "[48] \"https://specphone.com/Samsung-Galaxy-Round.html\"              \n",
              "[49] \"https://specphone.com/Samsung-Galaxy-Note-20-Ultra-5G.html\"   \n",
              "[50] \"https://specphone.com/Samsung-ATIV-Q.html\"                    \n",
              "[51] \"https://specphone.com/Samsung-ATIV-Smart-PC-PRO.html\"         \n",
              "[52] \"https://specphone.com/Samsung-Galaxy-S23-Ultra-5G8-256GB.html\"\n",
              "[53] \"https://specphone.com/Samsung-Galaxy-S22-Ultra12-128GB.html\"  \n",
              "[54] \"https://specphone.com/Samsung-Galaxy-Z-Flip-5G.html\"          \n",
              "[55] \"https://specphone.com/Samsung-Galaxy-Z-Flip.html\"             \n",
              "[56] \"https://specphone.com/Samsung-Galaxy-Tab-S8-Ultra-5G.html\"    \n",
              "[57] \"https://specphone.com/Samsung-Galaxy-S21-Ultra-16-512GB.html\" \n",
              "[58] \"https://specphone.com/Samsung-Galaxy-S23-Ultra-5G.html\"       \n",
              "[59] \"https://specphone.com/Samsung-Galaxy-S10-Plus-Ram-12GB.html\"  \n",
              "[60] \"https://specphone.com/Samsung-Galaxy-Z-Fold-3.html\"           "
            ]
          },
          "metadata": {}
        }
      ]
    },
    {
      "cell_type": "code",
      "source": [
        "full_links[1:2]"
      ],
      "metadata": {
        "colab": {
          "base_uri": "https://localhost:8080/",
          "height": 34
        },
        "id": "nUe8eP9RfJvd",
        "outputId": "9f4a79f1-2e21-4865-be85-56c38a84d3f4"
      },
      "execution_count": 90,
      "outputs": [
        {
          "output_type": "display_data",
          "data": {
            "text/html": [
              "<style>\n",
              ".list-inline {list-style: none; margin:0; padding: 0}\n",
              ".list-inline>li {display: inline-block}\n",
              ".list-inline>li:not(:last-child)::after {content: \"\\00b7\"; padding: 0 .5ex}\n",
              "</style>\n",
              "<ol class=list-inline><li>'https://specphone.com/Samsung-Galaxy-A14.html'</li><li>'https://specphone.com/Samsung-Galaxy-M13.html'</li></ol>\n"
            ],
            "text/markdown": "1. 'https://specphone.com/Samsung-Galaxy-A14.html'\n2. 'https://specphone.com/Samsung-Galaxy-M13.html'\n\n\n",
            "text/latex": "\\begin{enumerate*}\n\\item 'https://specphone.com/Samsung-Galaxy-A14.html'\n\\item 'https://specphone.com/Samsung-Galaxy-M13.html'\n\\end{enumerate*}\n",
            "text/plain": [
              "[1] \"https://specphone.com/Samsung-Galaxy-A14.html\"\n",
              "[2] \"https://specphone.com/Samsung-Galaxy-M13.html\""
            ]
          },
          "metadata": {}
        }
      ]
    },
    {
      "cell_type": "markdown",
      "source": [
        "**Use `for` loop for linking to each page and get all details in the page.**"
      ],
      "metadata": {
        "id": "kq635WfCS9WJ"
      }
    },
    {
      "cell_type": "code",
      "source": [
        "# crete empty dataframe with attribute name as a header\n",
        "result <- data.frame()\n",
        "\n",
        "for (link in full_links) {\n",
        "\n",
        "    # get phone model name\n",
        "    ss_model <- link %>%\n",
        "      read_html() %>%\n",
        "      html_nodes(\"div.phone-summary h2\") %>%\n",
        "      html_text()\n",
        "    \n",
        "    # get phone feature title\n",
        "    ss_topic <- link %>%\n",
        "      read_html() %>%\n",
        "      html_nodes(\"div.topic\") %>%\n",
        "      html_text2()\n",
        "    \n",
        "    # get phone detail\n",
        "    ss_detail <- link %>%\n",
        "      read_html() %>%\n",
        "        html_nodes(\"div.detail\") %>%\n",
        "        html_text2()\n",
        "      \n",
        "    tmp <- data.frame( model = ss_model,\n",
        "                        attribute = ss_topic,\n",
        "                        value = ss_detail)\n",
        "    \n",
        "    result <- bind_rows(result, tmp)\n",
        "    print(\"progress...\")\n",
        "}\n",
        "\n",
        "result"
      ],
      "metadata": {
        "id": "9p2b3Od8uVCl"
      },
      "execution_count": null,
      "outputs": []
    },
    {
      "cell_type": "markdown",
      "source": [
        "**Since I want to display each model with its attribute, I pivot `result` to wide form**"
      ],
      "metadata": {
        "id": "gctD8GUpEBVA"
      }
    },
    {
      "cell_type": "code",
      "source": [
        "# pivot wider\n",
        "result_pivot <- pivot_wider(result, names_from = attribute, values_from = value, values_fn = function(x) paste(x, collapse=\",\"))\n",
        "head(result_pivot)"
      ],
      "metadata": {
        "colab": {
          "base_uri": "https://localhost:8080/",
          "height": 1000
        },
        "id": "5rATDP4hfB1N",
        "outputId": "3f4e435e-90a4-4826-b413-b4363b2935dc"
      },
      "execution_count": 94,
      "outputs": [
        {
          "output_type": "display_data",
          "data": {
            "text/html": [
              "<table class=\"dataframe\">\n",
              "<caption>A tibble: 6 × 33</caption>\n",
              "<thead>\n",
              "\t<tr><th scope=col>model</th><th scope=col>วันเปิดตัว</th><th scope=col>วันวางจำหน่าย</th><th scope=col>ขนาด</th><th scope=col>น้ำหนัก</th><th scope=col>วัสดุ</th><th scope=col>SIM</th><th scope=col>Technology</th><th scope=col>2G</th><th scope=col>3G</th><th scope=col>⋯</th><th scope=col>ความละเอียดวีดีโอ</th><th scope=col>กล้องหน้า</th><th scope=col>Bluetooth</th><th scope=col>Wi-Fi</th><th scope=col>USB</th><th scope=col>GPS</th><th scope=col>NFC</th><th scope=col>Fast Charging</th><th scope=col>ฟีเจอร์เพิ่มเติม</th><th scope=col>Wireless Charging</th></tr>\n",
              "\t<tr><th scope=col>&lt;chr&gt;</th><th scope=col>&lt;chr&gt;</th><th scope=col>&lt;chr&gt;</th><th scope=col>&lt;chr&gt;</th><th scope=col>&lt;chr&gt;</th><th scope=col>&lt;chr&gt;</th><th scope=col>&lt;chr&gt;</th><th scope=col>&lt;chr&gt;</th><th scope=col>&lt;chr&gt;</th><th scope=col>&lt;chr&gt;</th><th scope=col>⋯</th><th scope=col>&lt;chr&gt;</th><th scope=col>&lt;chr&gt;</th><th scope=col>&lt;chr&gt;</th><th scope=col>&lt;chr&gt;</th><th scope=col>&lt;chr&gt;</th><th scope=col>&lt;chr&gt;</th><th scope=col>&lt;chr&gt;</th><th scope=col>&lt;chr&gt;</th><th scope=col>&lt;chr&gt;</th><th scope=col>&lt;chr&gt;</th></tr>\n",
              "</thead>\n",
              "<tbody>\n",
              "\t<tr><td>Samsung Galaxy A14      </td><td>กุมภาพันธ์ 2566</td><td>วางจำหน่ายแล้ว </td><td>167.70 x 78.00 x 9.00 มม.</td><td>202 กรัม</td><td>Glass front (Gorilla Glass 5), plastic frame, plastic back</td><td>รองรับ 2 ซิมการ์ด (nano sim, nano sim)</td><td>HSPA, LTE, 4G                            </td><td>850/900/1800/1900</td><td>850/900/1900/2100</td><td>⋯</td><td>1080p@30fps</td><td>ตัวที่ 1: 13 MP              </td><td>5.2, A2DP, LE</td><td>802.11 a/b/g/n/ac, dual-b</td><td>Type-C</td><td>GPS, GLONASS, GALILEO    </td><td>รองรับ  </td><td>รองรับ (10W)</td><td>NA</td><td>NA</td></tr>\n",
              "\t<tr><td>Samsung Galaxy M13      </td><td>มิถุนายน 2565 </td><td>ยังไม่วางจำหน่าย</td><td>165.40 x 76.90 x 8.40 มม.</td><td>192 กรัม</td><td>Glass front, plastic back, plastic frame                  </td><td>รองรับ 2 ซิมการ์ด (nano sim, nano sim)</td><td>HSPA 42.2/5.76 Mbps, LTE-A               </td><td>850/900/1800/1900</td><td>850/900/1900/2100</td><td>⋯</td><td>1080p@30fps</td><td>ตัวที่ 1: 8 MP, f/2.2, (wide)</td><td>5.0, A2DP, LE</td><td>802.11 a/b/g/n/ac, dual-b</td><td>Type-C</td><td>A-GPS, GLONASS, GALILEO, </td><td>รองรับ  </td><td>รองรับ (15W)</td><td>NA</td><td>NA</td></tr>\n",
              "\t<tr><td>Samsung Galaxy A23      </td><td>มิถุนายน 2564 </td><td>ยังไม่วางจำหน่าย</td><td>164.50 x 76.90 x 8.40 มม.</td><td>195 กรัม</td><td>Glass front, plastic frame, plastic back                  </td><td>รองรับ 2 ซิมการ์ด (nano sim, nano sim)</td><td>HSPA 42.2/5.76 Mbps, LTE-A               </td><td>850/900/1800/1900</td><td>850/900/1900/2100</td><td>⋯</td><td>1080p@30fps</td><td>ตัวที่ 1: 8 MP, f/2.2, (wide)</td><td>5.0          </td><td>802.11 a/b/g/n/ac        </td><td>Type-C</td><td>A-GPS, GLONASS, GALILEO, </td><td>ไม่รองรับ</td><td>รองรับ (25W)</td><td>NA</td><td>NA</td></tr>\n",
              "\t<tr><td>Samsung Galaxy A13      </td><td>กันยายน 2564 </td><td>ยังไม่วางจำหน่าย</td><td>165.10 x 76.40 x 8.80 มม.</td><td>195 กรัม</td><td>Glass front (Gorilla Glass 5), plastic frame, plastic back</td><td>รองรับ 2 ซิมการ์ด (nano sim, nano sim)</td><td>HSPA 42.2/5.76 Mbps, LTE-A               </td><td>850/900/1800/1900</td><td>850/900/1900/2100</td><td>⋯</td><td>1080p@30fps</td><td>ตัวที่ 1: 8 MP, f/2.2, (wide)</td><td>5.0, A2DP, LE</td><td>802.11 b/g/n, Wi-Fi Direc</td><td>Type-C</td><td>A-GPS, GLONASS, GALILEO, </td><td>ไม่รองรับ</td><td>รองรับ (25W)</td><td>NA</td><td>NA</td></tr>\n",
              "\t<tr><td>Samsung Galaxy M32 5G   </td><td>สิงหาคม 2564 </td><td>ยังไม่วางจำหน่าย</td><td>164.20 x 76.60 x 9.00 มม.</td><td>205 กรัม</td><td>Glass front, plastic frame, plastic back                  </td><td>รองรับ 2 ซิมการ์ด (nano sim, nano sim)</td><td>HSPA 42.2/5.76 Mbps, LTE-A               </td><td>850/900/1800/1900</td><td>850/900/1900/2100</td><td>⋯</td><td>1080p@30fps</td><td>ตัวที่ 1: 13 MP, (wide)      </td><td>5.0, A2DP, LE</td><td>802.11 a/b/g/n/ac, dual-b</td><td>Type-C</td><td>with A-GPS, GLONASS, BDS,</td><td>ไม่รองรับ</td><td>รองรับ (15W)</td><td>NA</td><td>NA</td></tr>\n",
              "\t<tr><td>Samsung Galaxy A12 Nacho</td><td>สิงหาคม 2564 </td><td>ยังไม่วางจำหน่าย</td><td>164.00 x 75.80 x 8.90 มม.</td><td>205 กรัม</td><td>Glass front, plastic back, plastic frame                  </td><td>รองรับ 2 ซิมการ์ด (nano sim, nano sim)</td><td>HSPA 42.2/5.76 Mbps, LTE Cat4 150/50 Mbps</td><td>850/900/1800/1900</td><td>850/900/1900/2100</td><td>⋯</td><td>1080p@30fps</td><td>ตัวที่ 1: 8 MP, f/2.2        </td><td>5.0, A2DP, LE</td><td>802.11 b/g/n, Wi-Fi Direc</td><td>Type-C</td><td>with A-GPS, GLONASS, GALI</td><td>ไม่รองรับ</td><td>รองรับ (15W)</td><td>NA</td><td>NA</td></tr>\n",
              "</tbody>\n",
              "</table>\n"
            ],
            "text/markdown": "\nA tibble: 6 × 33\n\n| model &lt;chr&gt; | วันเปิดตัว &lt;chr&gt; | วันวางจำหน่าย &lt;chr&gt; | ขนาด &lt;chr&gt; | น้ำหนัก &lt;chr&gt; | วัสดุ &lt;chr&gt; | SIM &lt;chr&gt; | Technology &lt;chr&gt; | 2G &lt;chr&gt; | 3G &lt;chr&gt; | ⋯ ⋯ | ความละเอียดวีดีโอ &lt;chr&gt; | กล้องหน้า &lt;chr&gt; | Bluetooth &lt;chr&gt; | Wi-Fi &lt;chr&gt; | USB &lt;chr&gt; | GPS &lt;chr&gt; | NFC &lt;chr&gt; | Fast Charging &lt;chr&gt; | ฟีเจอร์เพิ่มเติม &lt;chr&gt; | Wireless Charging &lt;chr&gt; |\n|---|---|---|---|---|---|---|---|---|---|---|---|---|---|---|---|---|---|---|---|---|\n| Samsung Galaxy A14       | กุมภาพันธ์ 2566 | วางจำหน่ายแล้ว  | 167.70 x 78.00 x 9.00 มม. | 202 กรัม | Glass front (Gorilla Glass 5), plastic frame, plastic back | รองรับ 2 ซิมการ์ด (nano sim, nano sim) | HSPA, LTE, 4G                             | 850/900/1800/1900 | 850/900/1900/2100 | ⋯ | 1080p@30fps | ตัวที่ 1: 13 MP               | 5.2, A2DP, LE | 802.11 a/b/g/n/ac, dual-b | Type-C | GPS, GLONASS, GALILEO     | รองรับ   | รองรับ (10W) | NA | NA |\n| Samsung Galaxy M13       | มิถุนายน 2565  | ยังไม่วางจำหน่าย | 165.40 x 76.90 x 8.40 มม. | 192 กรัม | Glass front, plastic back, plastic frame                   | รองรับ 2 ซิมการ์ด (nano sim, nano sim) | HSPA 42.2/5.76 Mbps, LTE-A                | 850/900/1800/1900 | 850/900/1900/2100 | ⋯ | 1080p@30fps | ตัวที่ 1: 8 MP, f/2.2, (wide) | 5.0, A2DP, LE | 802.11 a/b/g/n/ac, dual-b | Type-C | A-GPS, GLONASS, GALILEO,  | รองรับ   | รองรับ (15W) | NA | NA |\n| Samsung Galaxy A23       | มิถุนายน 2564  | ยังไม่วางจำหน่าย | 164.50 x 76.90 x 8.40 มม. | 195 กรัม | Glass front, plastic frame, plastic back                   | รองรับ 2 ซิมการ์ด (nano sim, nano sim) | HSPA 42.2/5.76 Mbps, LTE-A                | 850/900/1800/1900 | 850/900/1900/2100 | ⋯ | 1080p@30fps | ตัวที่ 1: 8 MP, f/2.2, (wide) | 5.0           | 802.11 a/b/g/n/ac         | Type-C | A-GPS, GLONASS, GALILEO,  | ไม่รองรับ | รองรับ (25W) | NA | NA |\n| Samsung Galaxy A13       | กันยายน 2564  | ยังไม่วางจำหน่าย | 165.10 x 76.40 x 8.80 มม. | 195 กรัม | Glass front (Gorilla Glass 5), plastic frame, plastic back | รองรับ 2 ซิมการ์ด (nano sim, nano sim) | HSPA 42.2/5.76 Mbps, LTE-A                | 850/900/1800/1900 | 850/900/1900/2100 | ⋯ | 1080p@30fps | ตัวที่ 1: 8 MP, f/2.2, (wide) | 5.0, A2DP, LE | 802.11 b/g/n, Wi-Fi Direc | Type-C | A-GPS, GLONASS, GALILEO,  | ไม่รองรับ | รองรับ (25W) | NA | NA |\n| Samsung Galaxy M32 5G    | สิงหาคม 2564  | ยังไม่วางจำหน่าย | 164.20 x 76.60 x 9.00 มม. | 205 กรัม | Glass front, plastic frame, plastic back                   | รองรับ 2 ซิมการ์ด (nano sim, nano sim) | HSPA 42.2/5.76 Mbps, LTE-A                | 850/900/1800/1900 | 850/900/1900/2100 | ⋯ | 1080p@30fps | ตัวที่ 1: 13 MP, (wide)       | 5.0, A2DP, LE | 802.11 a/b/g/n/ac, dual-b | Type-C | with A-GPS, GLONASS, BDS, | ไม่รองรับ | รองรับ (15W) | NA | NA |\n| Samsung Galaxy A12 Nacho | สิงหาคม 2564  | ยังไม่วางจำหน่าย | 164.00 x 75.80 x 8.90 มม. | 205 กรัม | Glass front, plastic back, plastic frame                   | รองรับ 2 ซิมการ์ด (nano sim, nano sim) | HSPA 42.2/5.76 Mbps, LTE Cat4 150/50 Mbps | 850/900/1800/1900 | 850/900/1900/2100 | ⋯ | 1080p@30fps | ตัวที่ 1: 8 MP, f/2.2         | 5.0, A2DP, LE | 802.11 b/g/n, Wi-Fi Direc | Type-C | with A-GPS, GLONASS, GALI | ไม่รองรับ | รองรับ (15W) | NA | NA |\n\n",
            "text/latex": "A tibble: 6 × 33\n\\begin{tabular}{lllllllllllllllllllll}\n model & วันเปิดตัว & วันวางจำหน่าย & ขนาด & น้ำหนัก & วัสดุ & SIM & Technology & 2G & 3G & ⋯ & ความละเอียดวีดีโอ & กล้องหน้า & Bluetooth & Wi-Fi & USB & GPS & NFC & Fast Charging & ฟีเจอร์เพิ่มเติม & Wireless Charging\\\\\n <chr> & <chr> & <chr> & <chr> & <chr> & <chr> & <chr> & <chr> & <chr> & <chr> & ⋯ & <chr> & <chr> & <chr> & <chr> & <chr> & <chr> & <chr> & <chr> & <chr> & <chr>\\\\\n\\hline\n\t Samsung Galaxy A14       & กุมภาพันธ์ 2566 & วางจำหน่ายแล้ว  & 167.70 x 78.00 x 9.00 มม. & 202 กรัม & Glass front (Gorilla Glass 5), plastic frame, plastic back & รองรับ 2 ซิมการ์ด (nano sim, nano sim) & HSPA, LTE, 4G                             & 850/900/1800/1900 & 850/900/1900/2100 & ⋯ & 1080p@30fps & ตัวที่ 1: 13 MP               & 5.2, A2DP, LE & 802.11 a/b/g/n/ac, dual-b & Type-C & GPS, GLONASS, GALILEO     & รองรับ   & รองรับ (10W) & NA & NA\\\\\n\t Samsung Galaxy M13       & มิถุนายน 2565  & ยังไม่วางจำหน่าย & 165.40 x 76.90 x 8.40 มม. & 192 กรัม & Glass front, plastic back, plastic frame                   & รองรับ 2 ซิมการ์ด (nano sim, nano sim) & HSPA 42.2/5.76 Mbps, LTE-A                & 850/900/1800/1900 & 850/900/1900/2100 & ⋯ & 1080p@30fps & ตัวที่ 1: 8 MP, f/2.2, (wide) & 5.0, A2DP, LE & 802.11 a/b/g/n/ac, dual-b & Type-C & A-GPS, GLONASS, GALILEO,  & รองรับ   & รองรับ (15W) & NA & NA\\\\\n\t Samsung Galaxy A23       & มิถุนายน 2564  & ยังไม่วางจำหน่าย & 164.50 x 76.90 x 8.40 มม. & 195 กรัม & Glass front, plastic frame, plastic back                   & รองรับ 2 ซิมการ์ด (nano sim, nano sim) & HSPA 42.2/5.76 Mbps, LTE-A                & 850/900/1800/1900 & 850/900/1900/2100 & ⋯ & 1080p@30fps & ตัวที่ 1: 8 MP, f/2.2, (wide) & 5.0           & 802.11 a/b/g/n/ac         & Type-C & A-GPS, GLONASS, GALILEO,  & ไม่รองรับ & รองรับ (25W) & NA & NA\\\\\n\t Samsung Galaxy A13       & กันยายน 2564  & ยังไม่วางจำหน่าย & 165.10 x 76.40 x 8.80 มม. & 195 กรัม & Glass front (Gorilla Glass 5), plastic frame, plastic back & รองรับ 2 ซิมการ์ด (nano sim, nano sim) & HSPA 42.2/5.76 Mbps, LTE-A                & 850/900/1800/1900 & 850/900/1900/2100 & ⋯ & 1080p@30fps & ตัวที่ 1: 8 MP, f/2.2, (wide) & 5.0, A2DP, LE & 802.11 b/g/n, Wi-Fi Direc & Type-C & A-GPS, GLONASS, GALILEO,  & ไม่รองรับ & รองรับ (25W) & NA & NA\\\\\n\t Samsung Galaxy M32 5G    & สิงหาคม 2564  & ยังไม่วางจำหน่าย & 164.20 x 76.60 x 9.00 มม. & 205 กรัม & Glass front, plastic frame, plastic back                   & รองรับ 2 ซิมการ์ด (nano sim, nano sim) & HSPA 42.2/5.76 Mbps, LTE-A                & 850/900/1800/1900 & 850/900/1900/2100 & ⋯ & 1080p@30fps & ตัวที่ 1: 13 MP, (wide)       & 5.0, A2DP, LE & 802.11 a/b/g/n/ac, dual-b & Type-C & with A-GPS, GLONASS, BDS, & ไม่รองรับ & รองรับ (15W) & NA & NA\\\\\n\t Samsung Galaxy A12 Nacho & สิงหาคม 2564  & ยังไม่วางจำหน่าย & 164.00 x 75.80 x 8.90 มม. & 205 กรัม & Glass front, plastic back, plastic frame                   & รองรับ 2 ซิมการ์ด (nano sim, nano sim) & HSPA 42.2/5.76 Mbps, LTE Cat4 150/50 Mbps & 850/900/1800/1900 & 850/900/1900/2100 & ⋯ & 1080p@30fps & ตัวที่ 1: 8 MP, f/2.2         & 5.0, A2DP, LE & 802.11 b/g/n, Wi-Fi Direc & Type-C & with A-GPS, GLONASS, GALI & ไม่รองรับ & รองรับ (15W) & NA & NA\\\\\n\\end{tabular}\n",
            "text/plain": [
              "  model                    วันเปิดตัว      วันวางจำหน่าย   ขนาด                     \n",
              "1 Samsung Galaxy A14       กุมภาพันธ์ 2566 วางจำหน่ายแล้ว  167.70 x 78.00 x 9.00 มม.\n",
              "2 Samsung Galaxy M13       มิถุนายน 2565  ยังไม่วางจำหน่าย 165.40 x 76.90 x 8.40 มม.\n",
              "3 Samsung Galaxy A23       มิถุนายน 2564  ยังไม่วางจำหน่าย 164.50 x 76.90 x 8.40 มม.\n",
              "4 Samsung Galaxy A13       กันยายน 2564  ยังไม่วางจำหน่าย 165.10 x 76.40 x 8.80 มม.\n",
              "5 Samsung Galaxy M32 5G    สิงหาคม 2564  ยังไม่วางจำหน่าย 164.20 x 76.60 x 9.00 มม.\n",
              "6 Samsung Galaxy A12 Nacho สิงหาคม 2564  ยังไม่วางจำหน่าย 164.00 x 75.80 x 8.90 มม.\n",
              "  น้ำหนัก   วัสดุ                                                       \n",
              "1 202 กรัม Glass front (Gorilla Glass 5), plastic frame, plastic back\n",
              "2 192 กรัม Glass front, plastic back, plastic frame                  \n",
              "3 195 กรัม Glass front, plastic frame, plastic back                  \n",
              "4 195 กรัม Glass front (Gorilla Glass 5), plastic frame, plastic back\n",
              "5 205 กรัม Glass front, plastic frame, plastic back                  \n",
              "6 205 กรัม Glass front, plastic back, plastic frame                  \n",
              "  SIM                                 Technology                               \n",
              "1 รองรับ 2 ซิมการ์ด (nano sim, nano sim) HSPA, LTE, 4G                            \n",
              "2 รองรับ 2 ซิมการ์ด (nano sim, nano sim) HSPA 42.2/5.76 Mbps, LTE-A               \n",
              "3 รองรับ 2 ซิมการ์ด (nano sim, nano sim) HSPA 42.2/5.76 Mbps, LTE-A               \n",
              "4 รองรับ 2 ซิมการ์ด (nano sim, nano sim) HSPA 42.2/5.76 Mbps, LTE-A               \n",
              "5 รองรับ 2 ซิมการ์ด (nano sim, nano sim) HSPA 42.2/5.76 Mbps, LTE-A               \n",
              "6 รองรับ 2 ซิมการ์ด (nano sim, nano sim) HSPA 42.2/5.76 Mbps, LTE Cat4 150/50 Mbps\n",
              "  2G                3G                ⋯ ความละเอียดวีดีโอ\n",
              "1 850/900/1800/1900 850/900/1900/2100 ⋯ 1080p@30fps   \n",
              "2 850/900/1800/1900 850/900/1900/2100 ⋯ 1080p@30fps   \n",
              "3 850/900/1800/1900 850/900/1900/2100 ⋯ 1080p@30fps   \n",
              "4 850/900/1800/1900 850/900/1900/2100 ⋯ 1080p@30fps   \n",
              "5 850/900/1800/1900 850/900/1900/2100 ⋯ 1080p@30fps   \n",
              "6 850/900/1800/1900 850/900/1900/2100 ⋯ 1080p@30fps   \n",
              "  กล้องหน้า                    Bluetooth     Wi-Fi                     USB   \n",
              "1 ตัวที่ 1: 13 MP               5.2, A2DP, LE 802.11 a/b/g/n/ac, dual-b Type-C\n",
              "2 ตัวที่ 1: 8 MP, f/2.2, (wide) 5.0, A2DP, LE 802.11 a/b/g/n/ac, dual-b Type-C\n",
              "3 ตัวที่ 1: 8 MP, f/2.2, (wide) 5.0           802.11 a/b/g/n/ac         Type-C\n",
              "4 ตัวที่ 1: 8 MP, f/2.2, (wide) 5.0, A2DP, LE 802.11 b/g/n, Wi-Fi Direc Type-C\n",
              "5 ตัวที่ 1: 13 MP, (wide)       5.0, A2DP, LE 802.11 a/b/g/n/ac, dual-b Type-C\n",
              "6 ตัวที่ 1: 8 MP, f/2.2         5.0, A2DP, LE 802.11 b/g/n, Wi-Fi Direc Type-C\n",
              "  GPS                       NFC     Fast Charging ฟีเจอร์เพิ่มเติม Wireless Charging\n",
              "1 GPS, GLONASS, GALILEO     รองรับ   รองรับ (10W)   NA          NA               \n",
              "2 A-GPS, GLONASS, GALILEO,  รองรับ   รองรับ (15W)   NA          NA               \n",
              "3 A-GPS, GLONASS, GALILEO,  ไม่รองรับ รองรับ (25W)   NA          NA               \n",
              "4 A-GPS, GLONASS, GALILEO,  ไม่รองรับ รองรับ (25W)   NA          NA               \n",
              "5 with A-GPS, GLONASS, BDS, ไม่รองรับ รองรับ (15W)   NA          NA               \n",
              "6 with A-GPS, GLONASS, GALI ไม่รองรับ รองรับ (15W)   NA          NA               "
            ]
          },
          "metadata": {}
        }
      ]
    },
    {
      "cell_type": "code",
      "source": [
        "# write csv\n",
        "write_csv(result_pivot, \"result_ss_phone.csv\")"
      ],
      "metadata": {
        "id": "drGGTkAwx_Fq"
      },
      "execution_count": 93,
      "outputs": []
    }
  ]
}