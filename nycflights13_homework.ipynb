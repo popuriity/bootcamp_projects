{
  "nbformat": 4,
  "nbformat_minor": 0,
  "metadata": {
    "colab": {
      "provenance": [],
      "authorship_tag": "ABX9TyOGnPb5tLKCctyL0ghR7j/p",
      "include_colab_link": true
    },
    "kernelspec": {
      "name": "ir",
      "display_name": "R"
    },
    "language_info": {
      "name": "R"
    }
  },
  "cells": [
    {
      "cell_type": "markdown",
      "metadata": {
        "id": "view-in-github",
        "colab_type": "text"
      },
      "source": [
        "<a href=\"https://colab.research.google.com/github/popuriity/bootcamp_projects/blob/main/nycflights13_homework.ipynb\" target=\"_parent\"><img src=\"https://colab.research.google.com/assets/colab-badge.svg\" alt=\"Open In Colab\"/></a>"
      ]
    },
    {
      "cell_type": "markdown",
      "source": [
        "# HOMEWORK - NYCflights13\n",
        "Five Business Question"
      ],
      "metadata": {
        "id": "VfonPnHAXLG6"
      }
    },
    {
      "cell_type": "code",
      "source": [
        "install.packages(\"nycflights13\")"
      ],
      "metadata": {
        "colab": {
          "base_uri": "https://localhost:8080/"
        },
        "id": "Xtpq-osgXtwY",
        "outputId": "d165f53d-240a-4725-bbc1-b18ba09146e6"
      },
      "execution_count": 3,
      "outputs": [
        {
          "output_type": "stream",
          "name": "stderr",
          "text": [
            "Installing package into ‘/usr/local/lib/R/site-library’\n",
            "(as ‘lib’ is unspecified)\n",
            "\n"
          ]
        }
      ]
    },
    {
      "cell_type": "code",
      "execution_count": 4,
      "metadata": {
        "colab": {
          "base_uri": "https://localhost:8080/"
        },
        "id": "yC_7dtccW4uV",
        "outputId": "63006717-996b-41b2-93ce-4d595c7c4742"
      },
      "outputs": [
        {
          "output_type": "stream",
          "name": "stderr",
          "text": [
            "Warning message in system(\"timedatectl\", intern = TRUE):\n",
            "“running command 'timedatectl' had status 1”\n",
            "── \u001b[1mAttaching packages\u001b[22m ─────────────────────────────────────── tidyverse 1.3.1 ──\n",
            "\n",
            "\u001b[32m✔\u001b[39m \u001b[34mggplot2\u001b[39m 3.4.0      \u001b[32m✔\u001b[39m \u001b[34mpurrr  \u001b[39m 0.3.5 \n",
            "\u001b[32m✔\u001b[39m \u001b[34mtibble \u001b[39m 3.1.8      \u001b[32m✔\u001b[39m \u001b[34mdplyr  \u001b[39m 1.0.10\n",
            "\u001b[32m✔\u001b[39m \u001b[34mtidyr  \u001b[39m 1.2.1      \u001b[32m✔\u001b[39m \u001b[34mstringr\u001b[39m 1.4.1 \n",
            "\u001b[32m✔\u001b[39m \u001b[34mreadr  \u001b[39m 2.1.3      \u001b[32m✔\u001b[39m \u001b[34mforcats\u001b[39m 0.5.2 \n",
            "\n",
            "── \u001b[1mConflicts\u001b[22m ────────────────────────────────────────── tidyverse_conflicts() ──\n",
            "\u001b[31m✖\u001b[39m \u001b[34mdplyr\u001b[39m::\u001b[32mfilter()\u001b[39m masks \u001b[34mstats\u001b[39m::filter()\n",
            "\u001b[31m✖\u001b[39m \u001b[34mdplyr\u001b[39m::\u001b[32mlag()\u001b[39m    masks \u001b[34mstats\u001b[39m::lag()\n",
            "\n"
          ]
        }
      ],
      "source": [
        "# Load library\n",
        "library(nycflights13)\n",
        "library(tidyverse)"
      ]
    },
    {
      "cell_type": "markdown",
      "source": [
        "\n",
        "\n",
        "---\n",
        "\n",
        "\n",
        "\n",
        "---\n",
        "\n"
      ],
      "metadata": {
        "id": "J-AVVWkMYTJU"
      }
    },
    {
      "cell_type": "markdown",
      "source": [
        "1. Which 5 airlines have the most average departure delay (in minutes)."
      ],
      "metadata": {
        "id": "4QKucTUHXSyi"
      }
    },
    {
      "cell_type": "code",
      "source": [
        "flights %>% \n",
        "  filter(dep_delay > 0) %>%  # filter only positive delay\n",
        "  group_by(carrier) %>% \n",
        "  summarise(mean_delay = mean(dep_delay)) %>% \n",
        "  arrange(desc(mean_delay)) %>% \n",
        "  left_join(airlines, by = \"carrier\") %>% \n",
        "  select(airline = name,\n",
        "         code = carrier,\n",
        "         mean_delay_mins = mean_delay ) %>% \n",
        "  head(5)"
      ],
      "metadata": {
        "colab": {
          "base_uri": "https://localhost:8080/",
          "height": 255
        },
        "id": "u2HInofMX_0i",
        "outputId": "d5fd71f3-de14-4b62-a5a6-91abd5aebac2"
      },
      "execution_count": 5,
      "outputs": [
        {
          "output_type": "display_data",
          "data": {
            "text/html": [
              "<table class=\"dataframe\">\n",
              "<caption>A tibble: 5 × 3</caption>\n",
              "<thead>\n",
              "\t<tr><th scope=col>airline</th><th scope=col>code</th><th scope=col>mean_delay_mins</th></tr>\n",
              "\t<tr><th scope=col>&lt;chr&gt;</th><th scope=col>&lt;chr&gt;</th><th scope=col>&lt;dbl&gt;</th></tr>\n",
              "</thead>\n",
              "<tbody>\n",
              "\t<tr><td>SkyWest Airlines Inc.   </td><td>OO</td><td>58.00000</td></tr>\n",
              "\t<tr><td>Mesa Airlines Inc.      </td><td>YV</td><td>52.95279</td></tr>\n",
              "\t<tr><td>ExpressJet Airlines Inc.</td><td>EV</td><td>50.32979</td></tr>\n",
              "\t<tr><td>Endeavor Air Inc.       </td><td>9E</td><td>48.92001</td></tr>\n",
              "\t<tr><td>Frontier Airlines Inc.  </td><td>F9</td><td>45.13783</td></tr>\n",
              "</tbody>\n",
              "</table>\n"
            ],
            "text/markdown": "\nA tibble: 5 × 3\n\n| airline &lt;chr&gt; | code &lt;chr&gt; | mean_delay_mins &lt;dbl&gt; |\n|---|---|---|\n| SkyWest Airlines Inc.    | OO | 58.00000 |\n| Mesa Airlines Inc.       | YV | 52.95279 |\n| ExpressJet Airlines Inc. | EV | 50.32979 |\n| Endeavor Air Inc.        | 9E | 48.92001 |\n| Frontier Airlines Inc.   | F9 | 45.13783 |\n\n",
            "text/latex": "A tibble: 5 × 3\n\\begin{tabular}{lll}\n airline & code & mean\\_delay\\_mins\\\\\n <chr> & <chr> & <dbl>\\\\\n\\hline\n\t SkyWest Airlines Inc.    & OO & 58.00000\\\\\n\t Mesa Airlines Inc.       & YV & 52.95279\\\\\n\t ExpressJet Airlines Inc. & EV & 50.32979\\\\\n\t Endeavor Air Inc.        & 9E & 48.92001\\\\\n\t Frontier Airlines Inc.   & F9 & 45.13783\\\\\n\\end{tabular}\n",
            "text/plain": [
              "  airline                  code mean_delay_mins\n",
              "1 SkyWest Airlines Inc.    OO   58.00000       \n",
              "2 Mesa Airlines Inc.       YV   52.95279       \n",
              "3 ExpressJet Airlines Inc. EV   50.32979       \n",
              "4 Endeavor Air Inc.        9E   48.92001       \n",
              "5 Frontier Airlines Inc.   F9   45.13783       "
            ]
          },
          "metadata": {}
        }
      ]
    },
    {
      "cell_type": "markdown",
      "source": [
        "SkyWest, Mesa, ExpressJet, Endeavor, Frontier Airlines are top5 of deley departure in 2013, respectively.\n",
        "\n",
        "\n",
        "\n",
        "---\n",
        "\n",
        "\n",
        "\n",
        "---\n",
        "\n"
      ],
      "metadata": {
        "id": "uP-B865oYCsJ"
      }
    },
    {
      "cell_type": "markdown",
      "source": [
        "2. The longest route from each airports in NYC (Newark Liberty Intl, John F Kennedy Intl, La Guardia)\n"
      ],
      "metadata": {
        "id": "_x5FMjBYYLGj"
      }
    },
    {
      "cell_type": "code",
      "source": [
        "flights %>%\n",
        "  group_by(origin, dest) %>%\n",
        "  summarise(distance = max(distance)) %>% \n",
        "  arrange(desc(distance)) %>% head()"
      ],
      "metadata": {
        "id": "lvXQaoXbYFCw"
      },
      "execution_count": null,
      "outputs": []
    },
    {
      "cell_type": "markdown",
      "source": [
        "3. Top10 of aircraft manufacturer that operated flight in 2013"
      ],
      "metadata": {
        "id": "2epJKecYYb6M"
      }
    },
    {
      "cell_type": "code",
      "source": [
        "flights %>% \n",
        "  left_join(select(planes, tailnum, manufacturer), by = \"tailnum\") %>% \n",
        "  group_by(manufacturer) %>% \n",
        "  summarise(n=n()) %>% \n",
        "  mutate(manufacturer = if_else(is.na(manufacturer), \"Others\", manufacturer) ,\n",
        "         percentage = n*100/sum(n)) %>% \n",
        "  arrange(desc(n)) %>% \n",
        "  head(10)"
      ],
      "metadata": {
        "id": "zF3iGDsQYdzY"
      },
      "execution_count": null,
      "outputs": []
    },
    {
      "cell_type": "markdown",
      "source": [
        "3. The most popular route from each destination. ((Newark Liberty Intl, John F Kennedy Intl, La Guardia)\n"
      ],
      "metadata": {
        "id": "icZYwTlcYgQ_"
      }
    },
    {
      "cell_type": "code",
      "source": [
        "flights %>% \n",
        "  count(origin, dest)"
      ],
      "metadata": {
        "id": "Z_VLeNU7Yh4X"
      },
      "execution_count": null,
      "outputs": []
    }
  ]
}