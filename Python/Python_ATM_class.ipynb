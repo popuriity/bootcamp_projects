{
  "nbformat": 4,
  "nbformat_minor": 0,
  "metadata": {
    "colab": {
      "provenance": [],
      "authorship_tag": "ABX9TyO48uVN8hNwTPTC7eo0LLSa",
      "include_colab_link": true
    },
    "kernelspec": {
      "name": "python3",
      "display_name": "Python 3"
    },
    "language_info": {
      "name": "python"
    }
  },
  "cells": [
    {
      "cell_type": "markdown",
      "metadata": {
        "id": "view-in-github",
        "colab_type": "text"
      },
      "source": [
        "<a href=\"https://colab.research.google.com/github/popuriity/bootcamp_projects/blob/main/Python_ATM_class.ipynb\" target=\"_parent\"><img src=\"https://colab.research.google.com/assets/colab-badge.svg\" alt=\"Open In Colab\"/></a>"
      ]
    },
    {
      "cell_type": "markdown",
      "source": [
        "# 2. ATM class\n",
        "\n",
        "ATM method\n",
        "1. Balance Checking\n",
        "2. Deposit-Withdraw\n",
        "3. Bill Payment\n",
        "4. Change account name\n",
        "5. Change account password\n",
        "6. Authentication"
      ],
      "metadata": {
        "id": "hLbUdDDCuITH"
      }
    },
    {
      "cell_type": "code",
      "source": [
        "class ATM:\n",
        "    def __init__(self, name, balance, password, answer):\n",
        "        self.name = name\n",
        "        self.balance = balance\n",
        "        self.password = password\n",
        "        self.answer = answer\n",
        "    \n",
        "    # method1 : check balance\n",
        "    def check_balance(self):\n",
        "        print(f\"Your account name : {self.name}\")\n",
        "        print(f\"Your current balance : {self.balance}\")\n",
        "\n",
        "    # method2.1 : deposit\n",
        "    def deposit(self, amount):\n",
        "        print(\"Welcome to money deposit service.\")\n",
        "        \n",
        "        # ask for confirmation on deposit money\n",
        "        print(f\"You would like to deposit {amount} Baht? 1. Yes 0. No\")\n",
        "        confirm = input()\n",
        "    \n",
        "        if confirm == \"1\":\n",
        "            self.balance += int(amount)\n",
        "            print(f\"Deposit successfully\")\n",
        "            print(f\"You new balance : {self.balance}\")\n",
        "        else:\n",
        "            print(f\"Your current balance : {self.balance}\")\n",
        "        \n",
        "    # method2.2 : withdraw\n",
        "    def withdraw(self, amount):\n",
        "        print(\"Welcome to money withdrawal service.\")\n",
        "        \n",
        "        # ask for confirmation on withdrawing money\n",
        "        print(f\"You would like to deposit {amount} Baht? 1. Yes 0. No\")\n",
        "        confirm = input()\n",
        "    \n",
        "        if confirm == \"1\":\n",
        "            self.balance -= int(amount)\n",
        "            print(f\"Withdraw successfully\")\n",
        "            print(f\"You new balance : {self.balance}\")\n",
        "        else:\n",
        "            print(f\"Your current balance : {self.balance}\")\n",
        "        \n",
        "    # method3 : paybill\n",
        "    def paybill(self):\n",
        "\n",
        "        bills = ['Electricity', 'Water', 'Phone', 'Internet']\n",
        "        print(\"Welcome to paybill service.\")\n",
        "    \n",
        "        # ask for which bill to pay.\n",
        "        print(\"Which bill would you like to pay today ?\")\n",
        "        print(\"1. Electricity 2. Water 3. Phone 4. Internet\")\n",
        "        bill = int(input())\n",
        "        \n",
        "        print(f\"How much you would like to pay {bills[bill-1]} bill ?\")\n",
        "        amount = input()\n",
        "        self.balance -= int(amount)\n",
        "        \n",
        "        print(f\"Payment is successful.\")\n",
        "        print(f\"You balance : {self.balance}\")\n",
        "\n",
        "    # method4 : change account name\n",
        "    def change_name(self, new_name):\n",
        "        self.name = new_name\n",
        "        print(f\"Your new account name is {self.name}.\")\n",
        "        \n",
        "    # method5 : change ATM password\n",
        "    def change_password(self, new_pw):\n",
        "        self.password = new_pw\n",
        "        print(f\"Your new password is {self.password}\")\n",
        "\n",
        "    # method6 : Authentication by Security Q & A.\n",
        "    def auth(self, answer):\n",
        "        if answer == self.answer:\n",
        "            print(\"Authentication is Successful.\")\n",
        "        else:\n",
        "            print(\"Authentication is Failed.\")\n",
        "\n"
      ],
      "metadata": {
        "id": "qKQm9CY2uLk6"
      },
      "execution_count": null,
      "outputs": []
    },
    {
      "cell_type": "code",
      "source": [
        "# name, balance, password, answer)\n",
        "pop_atm = ATM(\"pop\", 2000, 1234, \"PaoYingChub\")"
      ],
      "metadata": {
        "id": "xM8QivJWOXa8"
      },
      "execution_count": null,
      "outputs": []
    },
    {
      "cell_type": "code",
      "source": [
        "# method1 : balance check\n",
        "pop_atm.check_balance()"
      ],
      "metadata": {
        "colab": {
          "base_uri": "https://localhost:8080/"
        },
        "id": "is7vNTZGOcol",
        "outputId": "4aa6a43c-821e-461e-b685-753a24189d22"
      },
      "execution_count": null,
      "outputs": [
        {
          "output_type": "stream",
          "name": "stdout",
          "text": [
            "Your account name : pop\n",
            "Your current balance : 2000\n"
          ]
        }
      ]
    },
    {
      "cell_type": "code",
      "source": [
        "# method2.1 : deposit\n",
        "pop_atm.deposit(500)"
      ],
      "metadata": {
        "colab": {
          "base_uri": "https://localhost:8080/"
        },
        "id": "HOeowX9jARXq",
        "outputId": "d1a9d3bc-efac-44ae-d059-86ff113b88c3"
      },
      "execution_count": null,
      "outputs": [
        {
          "output_type": "stream",
          "name": "stdout",
          "text": [
            "Welcome to money deposit service.\n",
            "You would like to deposit 500 Baht? 1. Yes 0. No\n",
            "1\n",
            "Deposit successfully\n",
            "You new balance : 2500\n"
          ]
        }
      ]
    },
    {
      "cell_type": "code",
      "source": [
        "pop_atm.deposit(1000)"
      ],
      "metadata": {
        "colab": {
          "base_uri": "https://localhost:8080/"
        },
        "id": "fhNWCMnqBMa5",
        "outputId": "8d7d9f47-d19a-4265-9997-855159ac4e86"
      },
      "execution_count": null,
      "outputs": [
        {
          "output_type": "stream",
          "name": "stdout",
          "text": [
            "Welcome to money deposit service.\n",
            "You would like to deposit 1000 Baht? 1. Yes 0. No\n",
            "0\n",
            "Your current balance : 2500\n"
          ]
        }
      ]
    },
    {
      "cell_type": "code",
      "source": [
        "# method2.2 : withdraw\n",
        "pop_atm.withdraw(1000)"
      ],
      "metadata": {
        "colab": {
          "base_uri": "https://localhost:8080/"
        },
        "id": "kIK8ShNWBP5w",
        "outputId": "2a46793c-a34f-4d95-d1d8-bff9ef238d02"
      },
      "execution_count": null,
      "outputs": [
        {
          "output_type": "stream",
          "name": "stdout",
          "text": [
            "Welcome to money withdrawal service.\n",
            "You would like to deposit 1000 Baht? 1. Yes 0. No\n",
            "1\n",
            "Withdraw successfully\n",
            "You new balance : 1500\n"
          ]
        }
      ]
    },
    {
      "cell_type": "code",
      "source": [
        "pop_atm.withdraw(200)"
      ],
      "metadata": {
        "colab": {
          "base_uri": "https://localhost:8080/"
        },
        "id": "sb7xrdf2BUpo",
        "outputId": "7f066448-9505-46de-ab0b-72d7b69ef5cb"
      },
      "execution_count": null,
      "outputs": [
        {
          "output_type": "stream",
          "name": "stdout",
          "text": [
            "Welcome to money withdrawal service.\n",
            "You would like to deposit 200 Baht? 1. Yes 0. No\n",
            "0\n",
            "Your current balance : 1500\n"
          ]
        }
      ]
    },
    {
      "cell_type": "code",
      "source": [
        "# method3 : paybill\n",
        "pop_atm.paybill()"
      ],
      "metadata": {
        "colab": {
          "base_uri": "https://localhost:8080/"
        },
        "id": "ubUeJ8s4BWm5",
        "outputId": "18fd55c1-f840-40da-927c-96edd3da82bb"
      },
      "execution_count": null,
      "outputs": [
        {
          "output_type": "stream",
          "name": "stdout",
          "text": [
            "Welcome to paybill service.\n",
            "Which bill would you like to pay today ?\n",
            "1. Electricity 2. Water 3. Phone 4. Internet\n",
            "2\n",
            "How much you would like to pay Water bill ?\n",
            "80\n",
            "Payment is successful.\n",
            "You balance : 1420\n"
          ]
        }
      ]
    },
    {
      "cell_type": "code",
      "source": [
        "# method4 : change account name\n",
        "pop_atm.change_name('Puri')"
      ],
      "metadata": {
        "colab": {
          "base_uri": "https://localhost:8080/"
        },
        "id": "yHxZ3xT-Br8H",
        "outputId": "af2bb6c7-de41-4b45-acfb-d59491f5665c"
      },
      "execution_count": null,
      "outputs": [
        {
          "output_type": "stream",
          "name": "stdout",
          "text": [
            "Your new account name is Puri.\n"
          ]
        }
      ]
    },
    {
      "cell_type": "code",
      "source": [
        "# method5 : change ATM password\n",
        "pop_atm.change_password('223344')"
      ],
      "metadata": {
        "colab": {
          "base_uri": "https://localhost:8080/"
        },
        "id": "RoQyyWgVCIcA",
        "outputId": "bd7a9fd7-6074-440c-8f0a-d1f7feedb16e"
      },
      "execution_count": null,
      "outputs": [
        {
          "output_type": "stream",
          "name": "stdout",
          "text": [
            "Your new password is 223344\n"
          ]
        }
      ]
    },
    {
      "cell_type": "code",
      "source": [
        " # method6 : Authentication by Security Q & A.\n",
        " pop_atm.auth('atm')"
      ],
      "metadata": {
        "colab": {
          "base_uri": "https://localhost:8080/"
        },
        "id": "EEnhmq48CLYb",
        "outputId": "73d4575e-325d-4fe5-e58b-53cfac645978"
      },
      "execution_count": null,
      "outputs": [
        {
          "output_type": "stream",
          "name": "stdout",
          "text": [
            "Authentication is Failed.\n"
          ]
        }
      ]
    },
    {
      "cell_type": "code",
      "source": [
        "pop_atm.auth('PaoYingChub')"
      ],
      "metadata": {
        "colab": {
          "base_uri": "https://localhost:8080/"
        },
        "id": "k4PYFg5SCVlu",
        "outputId": "96a383b1-ed20-47d5-e827-a7e6113aa5d9"
      },
      "execution_count": null,
      "outputs": [
        {
          "output_type": "stream",
          "name": "stdout",
          "text": [
            "Authentication is Successful.\n"
          ]
        }
      ]
    }
  ]
}
