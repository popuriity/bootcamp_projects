{
  "nbformat": 4,
  "nbformat_minor": 0,
  "metadata": {
    "colab": {
      "provenance": [],
      "authorship_tag": "ABX9TyN0aMHy1rOk+9TtuehoW9PM",
      "include_colab_link": true
    },
    "kernelspec": {
      "name": "python3",
      "display_name": "Python 3"
    },
    "language_info": {
      "name": "python"
    }
  },
  "cells": [
    {
      "cell_type": "markdown",
      "metadata": {
        "id": "view-in-github",
        "colab_type": "text"
      },
      "source": [
        "<a href=\"https://colab.research.google.com/github/popuriity/bootcamp_projects/blob/main/Python_PaoYingChub.ipynb\" target=\"_parent\"><img src=\"https://colab.research.google.com/assets/colab-badge.svg\" alt=\"Open In Colab\"/></a>"
      ]
    },
    {
      "cell_type": "markdown",
      "source": [
        "# 1. Pao Ying Chub"
      ],
      "metadata": {
        "id": "GPpSWpEXuEV3"
      }
    },
    {
      "cell_type": "code",
      "source": [
        "import random"
      ],
      "metadata": {
        "id": "s1NXBriiXNsd"
      },
      "execution_count": null,
      "outputs": []
    },
    {
      "cell_type": "code",
      "execution_count": null,
      "metadata": {
        "id": "RUaL-1-ct2Tf",
        "colab": {
          "base_uri": "https://localhost:8080/"
        },
        "outputId": "cd3903b4-7ef5-4ba0-ada5-ae390cdc5273"
      },
      "outputs": [
        {
          "output_type": "stream",
          "name": "stdout",
          "text": [
            "Welcome to Pao Ying Chub game\n",
            "What's your name? : pop\n",
            "Hello pop!\n",
            "Are you ready ? 1. Yes  0. No : 1\n",
            "Select number -> 1.rock  2.paper  3.scissors : 2\n",
            "bot: scissors\n",
            "you: paper\n",
            "result: You lose.\n",
            "--------------------------------------\n",
            "Do you want to continue ?  1. Yes 0. No : 2\n",
            "Do you want to continue ?  1. Yes 0. No : 1\n",
            "Select number -> 1.rock  2.paper  3.scissors : 0\n",
            "Select number -> 1.rock  2.paper  3.scissors : 1\n",
            "bot: scissors\n",
            "you: rock\n",
            "result: You win.\n",
            "--------------------------------------\n",
            "Do you want to continue ?  1. Yes 0. No : 1\n",
            "Select number -> 1.rock  2.paper  3.scissors : 1\n",
            "bot: paper\n",
            "you: rock\n",
            "result: You lose.\n",
            "--------------------------------------\n",
            "Do you want to continue ?  1. Yes 0. No : 0\n",
            "Here's your total score:\n",
            "{'win': 1, 'lose': 2, 'tie': 0}\n"
          ]
        }
      ],
      "source": [
        "# list of weapon user can choose\n",
        "weapon = [\"rock\", \"paper\", \"scissors\"]\n",
        "\n",
        "# ---GAME ON---\n",
        "print(\"Welcome to Pao Ying Chub game\")\n",
        "\n",
        "# ask player's name\n",
        "name = input(\"What's your name? : \")\n",
        "print(f\"Hello {name}!\")\n",
        "\n",
        "# empty list for storing result\n",
        "results = []\n",
        "\n",
        "ready = []\n",
        "player = []\n",
        "# in case of user's input is not 0 or 1, ask again\n",
        "while ready not in [\"0\", \"1\"]:\n",
        "    ready = input(\"Are you ready ? 1. Yes  0. No : \")\n",
        "    \n",
        "if ready == \"0\":\n",
        "    print(\"See you later!\")\n",
        "elif ready == \"1\":\n",
        "    while ready == \"1\":\n",
        "        \n",
        "        bot = random.choice(weapon)\n",
        "        \n",
        "        while player not in [\"1\", \"2\", \"3\"]:\n",
        "            player = input(\"Select number -> 1.rock  2.paper  3.scissors : \")\n",
        "\n",
        "        # turn input from player from index to weapon\n",
        "        player = weapon[int(player)-1]\n",
        "\n",
        "        # check result\n",
        "        if bot == player:\n",
        "            result = \"tie\"\n",
        "        elif (bot == \"rock\" and player == \"paper\") or (bot == \"paper\" and player == \"scissors\") or (bot == \"scissors\" and player == \"rock\"):\n",
        "            result = \"win\"\n",
        "        else:\n",
        "            result = \"lose\"\n",
        "\n",
        "        # show result to user\n",
        "        print(f\"bot: {bot}\")\n",
        "        print(f\"you: {player}\")\n",
        "        print(f\"result: You {result}.\")\n",
        "        print(\"--------------------------------------\")\n",
        "        results.append(result)\n",
        "\n",
        "        # continue to play?\n",
        "        ready = input(\"Do you want to continue ?  1. Yes 0. No : \")\n",
        "        while ready not in [\"0\", \"1\"]:\n",
        "            ready = input(\"Do you want to continue ?  1. Yes 0. No : \")\n",
        "        \n",
        "# if stop playing, print results.\n",
        "# count result and keep as dictionary\n",
        "\n",
        "    freq = {'win' : 0,\n",
        "            'lose' : 0,\n",
        "            'tie' : 0}\n",
        "    for result in results:\n",
        "        freq[result] += 1\n",
        "    \n",
        "    print(\"Here's your total score:\")\n",
        "    print(freq)\n",
        "    print(\"Thank you for having fun with us!\")\n",
        "    print(\"See you later!\")"
      ]
    }
  ]
}
