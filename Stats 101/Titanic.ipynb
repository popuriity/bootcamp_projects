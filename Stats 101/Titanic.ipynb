{
 "cells":[
  {
   "cell_type":"code",
   "source":[
    "# install.packages(\"titanic\")"
   ],
   "execution_count":15,
   "outputs":[
    
   ],
   "metadata":{
    "datalore":{
     "node_id":"C7CZLXCIMS4390cKlB2BmF",
     "type":"CODE",
     "hide_input_from_viewers":true,
     "hide_output_from_viewers":true
    }
   }
  },
  {
   "cell_type":"markdown",
   "source":[
    "# import library and take a look at data"
   ],
   "attachments":{
    
   },
   "metadata":{
    "datalore":{
     "node_id":"Rx3SG19s5sReQYJqlgltjF",
     "type":"MD",
     "hide_input_from_viewers":true,
     "hide_output_from_viewers":true
    }
   }
  },
  {
   "cell_type":"code",
   "source":[
    "library(titanic)\n",
    "titanic_data <- titanic_train\n",
    "head(titanic_data)"
   ],
   "execution_count":16,
   "outputs":[
    {
     "data":{
      "text\/html":[
       "<table class=\"dataframe\">\n",
       "<caption>A data.frame: 6 × 12<\/caption>\n",
       "<thead>\n",
       "\t<tr><th><\/th><th scope=col>PassengerId<\/th><th scope=col>Survived<\/th><th scope=col>Pclass<\/th><th scope=col>Name<\/th><th scope=col>Sex<\/th><th scope=col>Age<\/th><th scope=col>SibSp<\/th><th scope=col>Parch<\/th><th scope=col>Ticket<\/th><th scope=col>Fare<\/th><th scope=col>Cabin<\/th><th scope=col>Embarked<\/th><\/tr>\n",
       "\t<tr><th><\/th><th scope=col>&lt;int&gt;<\/th><th scope=col>&lt;int&gt;<\/th><th scope=col>&lt;int&gt;<\/th><th scope=col>&lt;chr&gt;<\/th><th scope=col>&lt;chr&gt;<\/th><th scope=col>&lt;dbl&gt;<\/th><th scope=col>&lt;int&gt;<\/th><th scope=col>&lt;int&gt;<\/th><th scope=col>&lt;chr&gt;<\/th><th scope=col>&lt;dbl&gt;<\/th><th scope=col>&lt;chr&gt;<\/th><th scope=col>&lt;chr&gt;<\/th><\/tr>\n",
       "<\/thead>\n",
       "<tbody>\n",
       "\t<tr><th scope=row>1<\/th><td>1<\/td><td>0<\/td><td>3<\/td><td>Braund, Mr. Owen Harris                            <\/td><td>male  <\/td><td>22<\/td><td>1<\/td><td>0<\/td><td>A\/5 21171       <\/td><td> 7.2500<\/td><td>    <\/td><td>S<\/td><\/tr>\n",
       "\t<tr><th scope=row>2<\/th><td>2<\/td><td>1<\/td><td>1<\/td><td>Cumings, Mrs. John Bradley (Florence Briggs Thayer)<\/td><td>female<\/td><td>38<\/td><td>1<\/td><td>0<\/td><td>PC 17599        <\/td><td>71.2833<\/td><td>C85 <\/td><td>C<\/td><\/tr>\n",
       "\t<tr><th scope=row>3<\/th><td>3<\/td><td>1<\/td><td>3<\/td><td>Heikkinen, Miss. Laina                             <\/td><td>female<\/td><td>26<\/td><td>0<\/td><td>0<\/td><td>STON\/O2. 3101282<\/td><td> 7.9250<\/td><td>    <\/td><td>S<\/td><\/tr>\n",
       "\t<tr><th scope=row>4<\/th><td>4<\/td><td>1<\/td><td>1<\/td><td>Futrelle, Mrs. Jacques Heath (Lily May Peel)       <\/td><td>female<\/td><td>35<\/td><td>1<\/td><td>0<\/td><td>113803          <\/td><td>53.1000<\/td><td>C123<\/td><td>S<\/td><\/tr>\n",
       "\t<tr><th scope=row>5<\/th><td>5<\/td><td>0<\/td><td>3<\/td><td>Allen, Mr. William Henry                           <\/td><td>male  <\/td><td>35<\/td><td>0<\/td><td>0<\/td><td>373450          <\/td><td> 8.0500<\/td><td>    <\/td><td>S<\/td><\/tr>\n",
       "\t<tr><th scope=row>6<\/th><td>6<\/td><td>0<\/td><td>3<\/td><td>Moran, Mr. James                                   <\/td><td>male  <\/td><td>NA<\/td><td>0<\/td><td>0<\/td><td>330877          <\/td><td> 8.4583<\/td><td>    <\/td><td>Q<\/td><\/tr>\n",
       "<\/tbody>\n",
       "<\/table>\n"
      ]
     },
     "metadata":{
      
     },
     "output_type":"display_data"
    }
   ],
   "metadata":{
    "datalore":{
     "node_id":"0uKSgyiNo95Wuap7EqnKfp",
     "type":"CODE",
     "hide_input_from_viewers":true,
     "hide_output_from_viewers":true
    }
   }
  },
  {
   "cell_type":"markdown",
   "source":[
    "# We want to predict \"Survived\".\n",
    "## but first, let's prepare data!"
   ],
   "attachments":{
    
   },
   "metadata":{
    "datalore":{
     "node_id":"ZtTzVC7R87BIw8IRqQfNBg",
     "type":"MD",
     "hide_input_from_viewers":true,
     "hide_output_from_viewers":true
    }
   }
  },
  {
   "cell_type":"code",
   "source":[
    "# remove all rows that have NA.\n",
    "titanic_data <- na.omit(titanic_data)\n",
    "nrow(titanic_data)\n",
    "\n",
    "# change data type of Sex column to factor\n",
    "titanic_data$Sex <- factor(titanic_data$Sex, levels = c(\"male\",\"female\"))"
   ],
   "execution_count":17,
   "outputs":[
    {
     "data":{
      "text\/html":[
       "714"
      ]
     },
     "metadata":{
      
     },
     "output_type":"display_data"
    }
   ],
   "metadata":{
    "datalore":{
     "node_id":"Z3CVtPdgBKsEwyOlXsbN3r",
     "type":"CODE",
     "hide_input_from_viewers":true,
     "hide_output_from_viewers":true
    }
   }
  },
  {
   "cell_type":"markdown",
   "source":[
    "## Split data\n",
    "split 70% of data to be train_data and\n",
    "split 30% of data to be test_data"
   ],
   "attachments":{
    
   },
   "metadata":{
    "datalore":{
     "node_id":"FkYcnnzrydHE6cfjs7TbzX",
     "type":"MD",
     "hide_input_from_viewers":true,
     "hide_output_from_viewers":true
    }
   }
  },
  {
   "cell_type":"code",
   "source":[
    "## split data\n",
    "set.seed(42)\n",
    "n <- nrow(titanic_data)\n",
    "id <- sample(1:n, size = n*0.7) #train 70%, test 30%\n",
    "train_data <- titanic_data[id, ]\n",
    "test_data <- titanic_data[-id, ]"
   ],
   "execution_count":18,
   "outputs":[
    
   ],
   "metadata":{
    "datalore":{
     "node_id":"TYFXFxBgz0DDYCqLHS4yz2",
     "type":"CODE",
     "hide_input_from_viewers":true,
     "hide_output_from_viewers":true
    }
   }
  },
  {
   "cell_type":"markdown",
   "source":[
    "## Train Model\n",
    "$f(Survived) = b_0 * Pclass + b_1 * Age + b_2 * Sex$"
   ],
   "attachments":{
    
   },
   "metadata":{
    "datalore":{
     "node_id":"ihH4Xpe7RK7yommSnHc2ls",
     "type":"MD",
     "hide_input_from_viewers":true,
     "hide_output_from_viewers":true
    }
   }
  },
  {
   "cell_type":"code",
   "source":[
    "## Train Model\n",
    "survived_model <- glm(Survived ~ Pclass + Age + Sex , data = train_data, family = \"binomial\")\n",
    "summary(survived_model)"
   ],
   "execution_count":19,
   "outputs":[
    {
     "data":{
      "text\/plain":[
       "\n",
       "Call:\n",
       "glm(formula = Survived ~ Pclass + Age + Sex, family = \"binomial\", \n",
       "    data = train_data)\n",
       "\n",
       "Deviance Residuals: \n",
       "    Min       1Q   Median       3Q      Max  \n",
       "-2.8617  -0.6485  -0.3554   0.6129   2.3884  \n",
       "\n",
       "Coefficients:\n",
       "             Estimate Std. Error z value Pr(>|z|)    \n",
       "(Intercept)  2.865318   0.555383   5.159 2.48e-07 ***\n",
       "Pclass      -1.443887   0.174955  -8.253  < 2e-16 ***\n",
       "Age         -0.041450   0.009522  -4.353 1.34e-05 ***\n",
       "Sexfemale    2.739281   0.262607  10.431  < 2e-16 ***\n",
       "---\n",
       "Signif. codes:  0 ‘***’ 0.001 ‘**’ 0.01 ‘*’ 0.05 ‘.’ 0.1 ‘ ’ 1\n",
       "\n",
       "(Dispersion parameter for binomial family taken to be 1)\n",
       "\n",
       "    Null deviance: 673.56  on 498  degrees of freedom\n",
       "Residual deviance: 432.26  on 495  degrees of freedom\n",
       "AIC: 440.26\n",
       "\n",
       "Number of Fisher Scoring iterations: 5\n"
      ]
     },
     "metadata":{
      
     },
     "output_type":"display_data"
    }
   ],
   "metadata":{
    "datalore":{
     "node_id":"Vr78s390rFEl7914jBZaWT",
     "type":"CODE",
     "hide_input_from_viewers":true,
     "hide_output_from_viewers":true
    }
   }
  },
  {
   "cell_type":"markdown",
   "source":[
    "### predict train data"
   ],
   "attachments":{
    
   },
   "metadata":{
    "datalore":{
     "node_id":"dDZnIHNXmgPW51C16EsTlb",
     "type":"MD",
     "hide_input_from_viewers":true,
     "hide_output_from_viewers":true
    }
   }
  },
  {
   "cell_type":"code",
   "source":[
    "# predict train data\n",
    "train_data$p_train <- predict(survived_model, type = \"response\")\n",
    "\n",
    "# add predict column from condition that, if p_train is more than 50%, the passenger will survive.\n",
    "train_data$pred <- ifelse(train_data$p_train >= 0.5, 1, 0)\n",
    "head(train_data)"
   ],
   "execution_count":20,
   "outputs":[
    {
     "data":{
      "text\/html":[
       "<table class=\"dataframe\">\n",
       "<caption>A data.frame: 6 × 14<\/caption>\n",
       "<thead>\n",
       "\t<tr><th><\/th><th scope=col>PassengerId<\/th><th scope=col>Survived<\/th><th scope=col>Pclass<\/th><th scope=col>Name<\/th><th scope=col>Sex<\/th><th scope=col>Age<\/th><th scope=col>SibSp<\/th><th scope=col>Parch<\/th><th scope=col>Ticket<\/th><th scope=col>Fare<\/th><th scope=col>Cabin<\/th><th scope=col>Embarked<\/th><th scope=col>p_train<\/th><th scope=col>pred<\/th><\/tr>\n",
       "\t<tr><th><\/th><th scope=col>&lt;int&gt;<\/th><th scope=col>&lt;int&gt;<\/th><th scope=col>&lt;int&gt;<\/th><th scope=col>&lt;chr&gt;<\/th><th scope=col>&lt;fct&gt;<\/th><th scope=col>&lt;dbl&gt;<\/th><th scope=col>&lt;int&gt;<\/th><th scope=col>&lt;int&gt;<\/th><th scope=col>&lt;chr&gt;<\/th><th scope=col>&lt;dbl&gt;<\/th><th scope=col>&lt;chr&gt;<\/th><th scope=col>&lt;chr&gt;<\/th><th scope=col>&lt;dbl&gt;<\/th><th scope=col>&lt;dbl&gt;<\/th><\/tr>\n",
       "<\/thead>\n",
       "<tbody>\n",
       "\t<tr><th scope=row>706<\/th><td>706<\/td><td>0<\/td><td>2<\/td><td>Morley, Mr. Henry Samuel (\"Mr Henry Marshall\")<\/td><td>male<\/td><td>39<\/td><td>0<\/td><td>0<\/td><td>250655<\/td><td>26.0000<\/td><td><\/td><td>S<\/td><td>0.16260190<\/td><td>0<\/td><\/tr>\n",
       "\t<tr><th scope=row>399<\/th><td>399<\/td><td>0<\/td><td>2<\/td><td>Pain, Dr. Alfred                              <\/td><td>male<\/td><td>23<\/td><td>0<\/td><td>0<\/td><td>244278<\/td><td>10.5000<\/td><td><\/td><td>S<\/td><td>0.27372612<\/td><td>0<\/td><\/tr>\n",
       "\t<tr><th scope=row>192<\/th><td>192<\/td><td>0<\/td><td>2<\/td><td>Carbines, Mr. William                         <\/td><td>male<\/td><td>19<\/td><td>0<\/td><td>0<\/td><td>28424 <\/td><td>13.0000<\/td><td><\/td><td>S<\/td><td>0.30789044<\/td><td>0<\/td><\/tr>\n",
       "\t<tr><th scope=row>95<\/th><td> 95<\/td><td>0<\/td><td>3<\/td><td>Coxon, Mr. Daniel                             <\/td><td>male<\/td><td>59<\/td><td>0<\/td><td>0<\/td><td>364500<\/td><td> 7.2500<\/td><td><\/td><td>S<\/td><td>0.01961067<\/td><td>0<\/td><\/tr>\n",
       "\t<tr><th scope=row>283<\/th><td>283<\/td><td>0<\/td><td>3<\/td><td>de Pelsmaeker, Mr. Alfons                     <\/td><td>male<\/td><td>16<\/td><td>0<\/td><td>0<\/td><td>345778<\/td><td> 9.5000<\/td><td><\/td><td>S<\/td><td>0.10625886<\/td><td>0<\/td><\/tr>\n",
       "\t<tr><th scope=row>183<\/th><td>183<\/td><td>0<\/td><td>3<\/td><td>Asplund, Master. Clarence Gustaf Hugo         <\/td><td>male<\/td><td> 9<\/td><td>4<\/td><td>2<\/td><td>347077<\/td><td>31.3875<\/td><td><\/td><td>S<\/td><td>0.13712346<\/td><td>0<\/td><\/tr>\n",
       "<\/tbody>\n",
       "<\/table>\n"
      ]
     },
     "metadata":{
      
     },
     "output_type":"display_data"
    }
   ],
   "metadata":{
    "datalore":{
     "node_id":"7rdw32oFmJYbFwh0YrJoOX",
     "type":"CODE",
     "hide_input_from_viewers":true,
     "hide_output_from_viewers":true
    }
   }
  },
  {
   "cell_type":"markdown",
   "source":[
    "### Find Train Model Accuracy"
   ],
   "attachments":{
    
   },
   "metadata":{
    "datalore":{
     "node_id":"RRVq519evviLLBPOVqwlkz",
     "type":"MD",
     "hide_input_from_viewers":true,
     "hide_output_from_viewers":true
    }
   }
  },
  {
   "cell_type":"code",
   "source":[
    "#find accuracy\n",
    "cat(\"Train Model Accuracy:\", mean(train_data$pred == train_data$Survived)*100 ,\"%\")"
   ],
   "execution_count":21,
   "outputs":[
    {
     "name":"stdout",
     "text":[
      "Train Model Accuracy: 79.75952 %"
     ],
     "output_type":"stream"
    }
   ],
   "metadata":{
    "datalore":{
     "node_id":"E47PpPu61w5TlErge0APh5",
     "type":"CODE",
     "hide_input_from_viewers":true,
     "hide_output_from_viewers":true
    }
   }
  },
  {
   "cell_type":"markdown",
   "source":[
    "## Test Model"
   ],
   "attachments":{
    
   },
   "metadata":{
    "datalore":{
     "node_id":"ahrmZdeMQsDN8AL1byEL9n",
     "type":"MD",
     "hide_input_from_viewers":true,
     "hide_output_from_viewers":true
    }
   }
  },
  {
   "cell_type":"code",
   "source":[
    "## Test Model\n",
    "test_data$p_test <- predict(survived_model, newdata = test_data)\n",
    "test_data$pred <- ifelse(test_data$p_test >= 0.5, 1, 0)\n",
    "# mean(test_data$Survived == test_data$pred)\n",
    "\n",
    "cat(\"Test Model Accuracy:\", mean(test_data$Survived == test_data$pred)*100 ,\"%\")"
   ],
   "execution_count":22,
   "outputs":[
    {
     "name":"stdout",
     "text":[
      "Test Model Accuracy: 78.60465 %"
     ],
     "output_type":"stream"
    }
   ],
   "metadata":{
    "datalore":{
     "node_id":"foGvSi16apmriE5eIxrbls",
     "type":"CODE",
     "hide_input_from_viewers":true,
     "hide_output_from_viewers":true
    }
   }
  },
  {
   "cell_type":"markdown",
   "source":[
    "Since test and train model accuracy are comparable. This model is considered as a suitable model for prediction. "
   ],
   "attachments":{
    
   },
   "metadata":{
    "datalore":{
     "node_id":"xxybIYZTwYWighbEVXQ4s4",
     "type":"MD",
     "hide_input_from_viewers":true,
     "hide_output_from_viewers":true
    }
   }
  }
 ],
 "metadata":{
  "kernelspec":{
   "display_name":"R",
   "language":"r",
   "name":"ir"
  },
  "datalore":{
   "computation_mode":"JUPYTER",
   "package_manager":"conda",
   "base_environment":"minimal",
   "packages":[
    
   ],
   "report_row_ids":[
    
   ],
   "version":3
  }
 },
 "nbformat":4,
 "nbformat_minor":4
}
