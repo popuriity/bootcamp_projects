{
 "cells":[
  {
   "cell_type":"code",
   "source":[
    "# Linear Regression ----\n",
    "\n",
    "## import tools ----\n",
    "library(caret)\n",
    "\n",
    "mtcars\n",
    "\n",
    "## 1. prepare\/split data\n",
    "\n",
    "## Split data\n",
    "train_test_split <- function(data) {\n",
    "  set.seed(42)\n",
    "  n <- nrow(data)\n",
    "  id <- sample(n, 0.8*n) # sample 80 percent of data\n",
    "  train_data <- data[id, ]  #assign sample rows (80%) to be train set\n",
    "  test_data <- data[-id, ]  #assign 20% remain rows to be test set\n",
    "  return(list(train_data, test_data))\n",
    "}\n",
    "\n",
    "split_data <- train_test_split(mtcars)\n",
    "\n",
    "## Train Model\n",
    "lm_model <- lm(mpg ~ hp, \n",
    "               data = split_data[[1]],\n",
    "               method = \"lm\")\n",
    "summary(lm_model)\n",
    "\n",
    "## Score\n",
    "p <- predict(lm_model, newdata = split_data[[2]])\n",
    "\n",
    "## Evaluate\n",
    "error <- split_data[[2]]$mpg - p\n",
    "rmse <- sqrt(mean(error*2))"
   ],
   "execution_count":null,
   "outputs":[
    
   ],
   "metadata":{
    "datalore":{
     "node_id":"ZIKcAXkmP4Q3P3DQZzQbYf",
     "type":"CODE",
     "hide_input_from_viewers":true,
     "hide_output_from_viewers":true
    }
   }
  }
 ],
 "metadata":{
  "kernelspec":{
   "display_name":"R",
   "language":"r",
   "name":"ir"
  },
  "datalore":{
   "computation_mode":"JUPYTER",
   "package_manager":"conda",
   "base_environment":"minimal",
   "packages":[
    
   ],
   "report_row_ids":[
    
   ],
   "version":3
  }
 },
 "nbformat":4,
 "nbformat_minor":4
}